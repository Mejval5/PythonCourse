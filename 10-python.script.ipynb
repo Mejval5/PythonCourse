{
 "cells": [
  {
   "cell_type": "markdown",
   "id": "c2fad7c4",
   "metadata": {},
   "source": [
    "# Tvorba skriptů\n",
    "\n",
    "## Úvod\n",
    "Python je Interpretovaný jazyk, to znamená, že program se nepřekládá do instrukcí procesoru a nespouští se přímo.\n",
    "\n",
    "Pro spuštění programu v pythonu tedy potřebujeme jiný program – interpret (jazyka Python).\n",
    "\n",
    "Spuštění programu napsaném v Pythonu tak představuje spuštění interpretu, kterému se jako parametr předá soubor s programem.\n",
    "\n",
    "### Zdrojový kód\n",
    "Psát program znamená psát v libovolném textovém editoru zdrojový kód.\n",
    "\n",
    "My jsme zatím používali nástroj Jupyter a jeho souboru **.ipynb**, ale klasičtější variantou je psát kód v Pythonu do souboru s příponou **.py**.\n",
    "\n",
    "> #### Příklad\n",
    "> Vytvořte soubor s názvem `greeting.py`, který bude obsahovat následující kód:"
   ]
  },
  {
   "cell_type": "code",
   "execution_count": 1,
   "id": "c3de318a",
   "metadata": {},
   "outputs": [
    {
     "name": "stdout",
     "output_type": "stream",
     "text": [
      "Hello World!\n"
     ]
    }
   ],
   "source": [
    "def greeting(name = \"World\"):\n",
    "   print(f\"Hello {name}!\")\n",
    "  \n",
    "greeting()"
   ]
  },
  {
   "cell_type": "markdown",
   "id": "f546dad5",
   "metadata": {},
   "source": [
    "> A soubor spustěte přes příkazovou řádku pomoci příkazu: `python3 greeting.py`\n",
    "\n",
    "#### Zjednodušení na linuxu\n",
    "I v Linuxu se dá spouštění pythoního programu trochu vylepšit.\n",
    "\n",
    "V Linuxu lze z pythoního programu (souboru se zdrojovým kódem) udělat spustitelný soubor příkazem `chmod a+x hello.py`.\n",
    "\n",
    "Když takový soubor spustíme, pokusí se ho vykonat shell, takže je nutno shellu dát nějak vědět, že tento soubor má předat pythonímu interpretu.\n",
    "\n",
    "V Linuxu se na to používají přípony souboru, ale technika prvního komentářového řádku, na kterém shellu předáváme příslušné informace, co s tím souborem má dělat.\n",
    "\n",
    "V takovém případě je možná lepší ani neuvádět koncovku **.py**.\n",
    "\n",
    "V tomto smyslu vypadá upravený program takto:"
   ]
  },
  {
   "cell_type": "code",
   "execution_count": null,
   "id": "ab6cbe59",
   "metadata": {},
   "outputs": [],
   "source": [
    "#!/usr/bin/python3\n",
    "\n",
    "print(\"Hello world!\")"
   ]
  },
  {
   "cell_type": "markdown",
   "id": "9afbf996",
   "metadata": {},
   "source": [
    "> #### Příklad (linux)\n",
    "> Pokud pracujete na linux `hello.py` tak aby se spouštěl jako program: “./hello.py”.\n",
    "\n",
    "V následujících příkazech budu používat `#!/usr/bin/python3` abychom demonstrovali, že jsou určené pro spouštění přes konzoli, ne přes Jupyter.\n",
    "\n",
    "## Argumenty\n",
    "V operačním systému, lze každý program spustit s argumenty `hello.py Pepa`\n",
    "\n",
    "Pokud chcete zjistit všechny argumenty programu, musíte načíst knihovnu `sys`."
   ]
  },
  {
   "cell_type": "code",
   "execution_count": null,
   "id": "748f13b9",
   "metadata": {},
   "outputs": [],
   "source": [
    "#!/usr/bin/python3\n",
    "\n",
    "import sys\n",
    "\n",
    "print('Number of arguments:', len(sys.argv), 'arguments.')\n",
    "print('Argument List:', str(sys.argv))"
   ]
  },
  {
   "cell_type": "markdown",
   "id": "9a3bb23e",
   "metadata": {},
   "source": [
    "> #### Příklad\n",
    "> Upravte soubor `hello.py` tak, aby v případě zadání právě jednoho argumentu: jména, vypsal: Hello jmeno!\n",
    "\n",
    "## Import vlastních souborů\n",
    "Máme teď dva soubory, jeden `hello.py`, který umí zpracovat vztup a druhý: `greeting.py`, který má funkci na pozdravení.\n",
    "\n",
    "Pojďme je tedy spojit v jednom použít ten druhý, takže upravme `hello.py`:"
   ]
  },
  {
   "cell_type": "code",
   "execution_count": null,
   "id": "2b78f3ce",
   "metadata": {},
   "outputs": [],
   "source": [
    "#!/usr/bin/python3\n",
    "import greeting\n",
    "import sys\n",
    "\n",
    "name = sys.argv[1]\n",
    "greeting.greeting(name)"
   ]
  },
  {
   "cell_type": "markdown",
   "id": "9a6ca15b",
   "metadata": {},
   "source": [
    "Co se vypíše? A proč?\n",
    "\n",
    "## Main script a proměnná `__name__`\n",
    "Tato proměnná je přístupná v každém skriptu a obsahuje jeho jméno.\n",
    "\n",
    "Jediná výjimka je skript, kterým byla celá aplikace spuštěná, ten má přiřazeno jméno `__main__` nezávisle na jeho skutečném jménu.\n",
    "\n",
    "Toho se využívá tak že kód, který se má vykonat když je skript spuštěn se schová do bloku"
   ]
  },
  {
   "cell_type": "code",
   "execution_count": null,
   "id": "9901d861",
   "metadata": {},
   "outputs": [],
   "source": [
    "if __name__ == \"__main__\":\n",
    "    pass"
   ]
  },
  {
   "cell_type": "markdown",
   "id": "c665d674",
   "metadata": {},
   "source": [
    "> #### Příklad\n",
    "> Upravte scripty `hello.py` a `greeting.py` tak, aby každý vypisoval pozdrav pouze když je použit jako spouštěcí skript."
   ]
  }
 ],
 "metadata": {
  "interpreter": {
   "hash": "351af123f4fda19bbbaa019f11d818f2fe3be1acc9ebf40e93daf054b80fd89f"
  },
  "kernelspec": {
   "display_name": "Python 3.9.7 64-bit ('venv': venv)",
   "language": "python",
   "name": "python3"
  },
  "language_info": {
   "codemirror_mode": {
    "name": "ipython",
    "version": 3
   },
   "file_extension": ".py",
   "mimetype": "text/x-python",
   "name": "python",
   "nbconvert_exporter": "python",
   "pygments_lexer": "ipython3",
   "version": "3.9.7"
  }
 },
 "nbformat": 4,
 "nbformat_minor": 5
}
