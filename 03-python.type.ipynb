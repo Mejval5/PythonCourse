{
 "cells": [
  {
   "cell_type": "markdown",
   "id": "cbf01c8d",
   "metadata": {},
   "source": [
    "# Datové typy\n",
    "Vše je objekt!\n",
    "\n",
    "Dynamicky typovaný jazyk \n",
    "- proměně bez udaného datového typu\n",
    "\n",
    "\n",
    "## Základní datové typy\n",
    "\n",
    "- Logická hodnota: `bool`\n",
    "- Celé číslo: `int`\n",
    "- Desetinné číslo: `float`\n",
    "- Komplexní číslo: `complex`\n",
    "- Řetězce: `str`\n",
    "- Datum a čas: `date`, `time`, `datetime`\n",
    "\n",
    "## Prázdná hodnota\n",
    "= null, nil, ..."
   ]
  },
  {
   "cell_type": "code",
   "execution_count": 5,
   "id": "4c4f4502",
   "metadata": {},
   "outputs": [
    {
     "name": "stdout",
     "output_type": "stream",
     "text": [
      "None\n",
      "None\n"
     ]
    }
   ],
   "source": [
    "print(a)\n",
    "a = None\n",
    "print(a)"
   ]
  },
  {
   "cell_type": "markdown",
   "id": "f660119f",
   "metadata": {},
   "source": [
    "Porovnání s None => používáme `is`"
   ]
  },
  {
   "cell_type": "code",
   "execution_count": 6,
   "id": "664ec163",
   "metadata": {},
   "outputs": [
    {
     "data": {
      "text/plain": [
       "False"
      ]
     },
     "execution_count": 6,
     "metadata": {},
     "output_type": "execute_result"
    }
   ],
   "source": [
    "promena_s_hodnotou = \"neco\"\n",
    "promena_s_hodnotou is None"
   ]
  },
  {
   "cell_type": "code",
   "execution_count": 8,
   "id": "449d796d",
   "metadata": {},
   "outputs": [
    {
     "data": {
      "text/plain": [
       "True"
      ]
     },
     "execution_count": 8,
     "metadata": {},
     "output_type": "execute_result"
    }
   ],
   "source": [
    "promena_bez_hodnoty = None\n",
    "promena_bez_hodnoty is None"
   ]
  },
  {
   "cell_type": "markdown",
   "id": "012003dd",
   "metadata": {},
   "source": [
    "## Logické hodnoty (bool)\n",
    "Pouze dvě hodnoty:"
   ]
  },
  {
   "cell_type": "code",
   "execution_count": 9,
   "id": "53c6b3b2",
   "metadata": {},
   "outputs": [
    {
     "name": "stdout",
     "output_type": "stream",
     "text": [
      "True False\n"
     ]
    }
   ],
   "source": [
    "pravda = True\n",
    "nepravda = False\n",
    "print(pravda, nepravda)"
   ]
  },
  {
   "cell_type": "markdown",
   "id": "94f0046e",
   "metadata": {},
   "source": [
    "Negace a logické operátory"
   ]
  },
  {
   "cell_type": "code",
   "execution_count": 10,
   "id": "a5ed2e71",
   "metadata": {},
   "outputs": [
    {
     "name": "stdout",
     "output_type": "stream",
     "text": [
      "False\n",
      "False\n",
      "True\n"
     ]
    }
   ],
   "source": [
    "print(not True)\n",
    "print(True and False)\n",
    "print(True or False)"
   ]
  },
  {
   "cell_type": "markdown",
   "id": "555dbb54",
   "metadata": {},
   "source": [
    "Prakticky potřebujete použít proměnné"
   ]
  },
  {
   "cell_type": "code",
   "execution_count": 11,
   "id": "7cc88baa",
   "metadata": {},
   "outputs": [
    {
     "name": "stdout",
     "output_type": "stream",
     "text": [
      "False\n",
      "False\n",
      "True\n"
     ]
    }
   ],
   "source": [
    "pravda = True\n",
    "nepravda = False\n",
    "print(not pravda)\n",
    "print(pravda and nepravda)\n",
    "print(pravda or nepravda)"
   ]
  },
  {
   "cell_type": "markdown",
   "id": "062d049a",
   "metadata": {},
   "source": [
    "### Co je v Pythonu True?\n",
    "\n",
    "No přece to, co není False. A False je:\n",
    "- None\n",
    "- False\n",
    "- nula – 0, 0.0, 0j\n",
    "- prázdná sekvence – '', (), [], {}\n",
    "- další viz. [Truth Value Testing](https://docs.python.org/3/library/stdtypes.html#truth-value-testing)\n",
    "\n",
    "Pozor na rozdílné způsoby vyhodnocení!"
   ]
  },
  {
   "cell_type": "code",
   "execution_count": 13,
   "id": "73fe4dbc",
   "metadata": {},
   "outputs": [
    {
     "name": "stdout",
     "output_type": "stream",
     "text": [
      "a\n"
     ]
    },
    {
     "data": {
      "text/plain": [
       "True"
      ]
     },
     "execution_count": 13,
     "metadata": {},
     "output_type": "execute_result"
    }
   ],
   "source": [
    "x = \"a\"\n",
    "print(x)\n",
    "bool(x)"
   ]
  },
  {
   "cell_type": "code",
   "execution_count": 17,
   "id": "7502a2fb",
   "metadata": {},
   "outputs": [
    {
     "data": {
      "text/plain": [
       "'asdadasd'"
      ]
     },
     "execution_count": 17,
     "metadata": {},
     "output_type": "execute_result"
    }
   ],
   "source": [
    "x = input()\n",
    "r = x or \"Not definded\"\n",
    "r"
   ]
  },
  {
   "cell_type": "markdown",
   "id": "e0a27024",
   "metadata": {},
   "source": [
    "### Opertory porovnání\n",
    "Pokud chcem zjistit, jestli se dvě hodnoty rovanjí požijeme `==`"
   ]
  },
  {
   "cell_type": "code",
   "execution_count": 22,
   "id": "a315eaad",
   "metadata": {},
   "outputs": [
    {
     "data": {
      "text/plain": [
       "True"
      ]
     },
     "execution_count": 22,
     "metadata": {},
     "output_type": "execute_result"
    }
   ],
   "source": [
    "\n",
    "c = \"jablko\" == \"jablko\"\n",
    "c\n"
   ]
  },
  {
   "cell_type": "markdown",
   "id": "fbb06d92",
   "metadata": {},
   "source": [
    "Pokud chceme zjistit, jestli se nerovnají `!=`"
   ]
  },
  {
   "cell_type": "code",
   "execution_count": 28,
   "id": "3e68f83e",
   "metadata": {},
   "outputs": [],
   "source": [
    "\"hruska\" != \"hruska\"\n",
    "a = \"\"\n",
    "if (a != \"\"):\n",
    "    print(a)"
   ]
  },
  {
   "cell_type": "markdown",
   "id": "4fb457ce",
   "metadata": {},
   "source": [
    "**Pozor**, to že se dvě hodnoty rovnaji/nerovnají není to stejné, že **jsou stejné**.\n",
    "Takže přestože platí že `1` je považováno za `True`"
   ]
  },
  {
   "cell_type": "code",
   "execution_count": 30,
   "id": "c2a8bc11",
   "metadata": {},
   "outputs": [
    {
     "data": {
      "text/plain": [
       "False"
      ]
     },
     "execution_count": 30,
     "metadata": {},
     "output_type": "execute_result"
    }
   ],
   "source": [
    "a = 1\n",
    "0 == True"
   ]
  },
  {
   "cell_type": "markdown",
   "id": "ece4b5e3",
   "metadata": {},
   "source": [
    "ale `1` není `True`"
   ]
  },
  {
   "cell_type": "code",
   "execution_count": 31,
   "id": "a35b6c7a",
   "metadata": {},
   "outputs": [
    {
     "data": {
      "text/plain": [
       "False"
      ]
     },
     "execution_count": 31,
     "metadata": {},
     "output_type": "execute_result"
    }
   ],
   "source": [
    "b = 1\n",
    "b is True"
   ]
  },
  {
   "cell_type": "markdown",
   "id": "f78d4a6e",
   "metadata": {},
   "source": [
    "## Číselné datové typy\n",
    "\n",
    "Celé číslo\n",
    "- int(<number>)\n",
    "- zápis: `10`\n",
    "\n",
    "Desetinné číslo\n",
    "- float(<number>)\n",
    "- zápis: `1.2`\n",
    "\n",
    "Komplexní číslo \n",
    "- complex(<number>,<number>)\n",
    "- zápis: `2+3j` nebo `2+3i`\n",
    "\n",
    "### Základní operace"
   ]
  },
  {
   "cell_type": "code",
   "execution_count": 33,
   "id": "a53558b1",
   "metadata": {},
   "outputs": [
    {
     "data": {
      "text/plain": [
       "(1+3j)"
      ]
     },
     "execution_count": 33,
     "metadata": {},
     "output_type": "execute_result"
    }
   ],
   "source": [
    "(1 + 1j) * (2 + 1j)"
   ]
  },
  {
   "cell_type": "code",
   "execution_count": 15,
   "id": "86d4232a",
   "metadata": {},
   "outputs": [
    {
     "data": {
      "text/plain": [
       "7"
      ]
     },
     "execution_count": 15,
     "metadata": {},
     "output_type": "execute_result"
    }
   ],
   "source": [
    "8 - 1"
   ]
  },
  {
   "cell_type": "code",
   "execution_count": 16,
   "id": "211b8505",
   "metadata": {},
   "outputs": [
    {
     "data": {
      "text/plain": [
       "20"
      ]
     },
     "execution_count": 16,
     "metadata": {},
     "output_type": "execute_result"
    }
   ],
   "source": [
    "10 * 2"
   ]
  },
  {
   "cell_type": "code",
   "execution_count": 17,
   "id": "100a5fea",
   "metadata": {},
   "outputs": [
    {
     "data": {
      "text/plain": [
       "8"
      ]
     },
     "execution_count": 17,
     "metadata": {},
     "output_type": "execute_result"
    }
   ],
   "source": [
    "(1 + 3) * 2"
   ]
  },
  {
   "cell_type": "markdown",
   "id": "1dc04d72",
   "metadata": {},
   "source": [
    "Dělení vždy vrací desetinné číslo"
   ]
  },
  {
   "cell_type": "code",
   "execution_count": 35,
   "id": "6b084bd8",
   "metadata": {},
   "outputs": [
    {
     "data": {
      "text/plain": [
       "6.8"
      ]
     },
     "execution_count": 35,
     "metadata": {},
     "output_type": "execute_result"
    }
   ],
   "source": [
    "34 / 5"
   ]
  },
  {
   "cell_type": "markdown",
   "id": "51dd6415",
   "metadata": {},
   "source": [
    "Celočíselné dělení (ořízne desetinnou část)"
   ]
  },
  {
   "cell_type": "code",
   "execution_count": 39,
   "id": "b0a4b69c",
   "metadata": {},
   "outputs": [
    {
     "data": {
      "text/plain": [
       "0.875"
      ]
     },
     "execution_count": 39,
     "metadata": {},
     "output_type": "execute_result"
    }
   ],
   "source": [
    "7 / 8"
   ]
  },
  {
   "cell_type": "markdown",
   "id": "cdd7ae18",
   "metadata": {},
   "source": [
    "Module, tedy zbytek po celočíselném dělení"
   ]
  },
  {
   "cell_type": "code",
   "execution_count": 41,
   "id": "c19ffb60",
   "metadata": {},
   "outputs": [
    {
     "data": {
      "text/plain": [
       "3"
      ]
     },
     "execution_count": 41,
     "metadata": {},
     "output_type": "execute_result"
    }
   ],
   "source": [
    "7 % 4"
   ]
  },
  {
   "cell_type": "markdown",
   "id": "e910a1b9",
   "metadata": {},
   "source": [
    "Mocnění na n-tou mocninu"
   ]
  },
  {
   "cell_type": "code",
   "execution_count": 47,
   "id": "9a434954",
   "metadata": {},
   "outputs": [
    {
     "data": {
      "text/plain": [
       "(8.659560562354934e-17+1.4142135623730951j)"
      ]
     },
     "execution_count": 47,
     "metadata": {},
     "output_type": "execute_result"
    }
   ],
   "source": [
    "(-2)**0.5"
   ]
  },
  {
   "cell_type": "markdown",
   "id": "23d932d6",
   "metadata": {},
   "source": [
    "Co když chci jiné číslo než mám?"
   ]
  },
  {
   "cell_type": "code",
   "execution_count": 22,
   "id": "836d785c",
   "metadata": {},
   "outputs": [
    {
     "name": "stdout",
     "output_type": "stream",
     "text": [
      "Desetinné číslo na celé 1\n",
      "Celé na desetinné  3.0\n",
      "Dvě čísla na komplexní (1.5+3j)\n"
     ]
    }
   ],
   "source": [
    "a = 1.5\n",
    "b = 3\n",
    "print(\"Desetinné číslo na celé\", int(a))\n",
    "print(\"Celé na desetinné \", float(b))\n",
    "print(\"Dvě čísla na komplexní\", complex(a,b))"
   ]
  },
  {
   "cell_type": "code",
   "execution_count": 48,
   "id": "390f5189",
   "metadata": {},
   "outputs": [
    {
     "ename": "ValueError",
     "evalue": "math domain error",
     "output_type": "error",
     "traceback": [
      "\u001b[1;31m---------------------------------------------------------------------------\u001b[0m",
      "\u001b[1;31mValueError\u001b[0m                                Traceback (most recent call last)",
      "\u001b[1;32mc:\\Users\\StudentEN\\Desktop\\PythonCourse-main\\PythonCourse-main\\03-python.type.ipynb Cell 38'\u001b[0m in \u001b[0;36m<cell line: 3>\u001b[1;34m()\u001b[0m\n\u001b[0;32m      <a href='vscode-notebook-cell:/c%3A/Users/StudentEN/Desktop/PythonCourse-main/PythonCourse-main/03-python.type.ipynb#ch0000037?line=0'>1</a>\u001b[0m \u001b[39mimport\u001b[39;00m \u001b[39mmath\u001b[39;00m\n\u001b[1;32m----> <a href='vscode-notebook-cell:/c%3A/Users/StudentEN/Desktop/PythonCourse-main/PythonCourse-main/03-python.type.ipynb#ch0000037?line=2'>3</a>\u001b[0m math\u001b[39m.\u001b[39;49msqrt(\u001b[39m-\u001b[39;49m\u001b[39m2\u001b[39;49m)\n",
      "\u001b[1;31mValueError\u001b[0m: math domain error"
     ]
    }
   ],
   "source": [
    "import math\n",
    "\n",
    "math.sqrt(-2)"
   ]
  },
  {
   "cell_type": "markdown",
   "id": "d5d526fa",
   "metadata": {},
   "source": [
    "> #### Příklad:\n",
    "> Vytvořte vzoreček, který vypočítá kořeny kvadratické rovnice. Výsledky vypište na obrazovku.\n",
    ">\n",
    "> $x,y = \\frac{-b \\mp \\sqrt{b^2 - 4ac}}{2a}$"
   ]
  },
  {
   "cell_type": "code",
   "execution_count": 57,
   "id": "d18e9f02",
   "metadata": {},
   "outputs": [
    {
     "name": "stdout",
     "output_type": "stream",
     "text": [
      "(-0.35714285714285715-1.076179940951383j) (-0.35714285714285715+1.076179940951383j)\n"
     ]
    },
    {
     "data": {
      "text/plain": [
       "'0b00b100'"
      ]
     },
     "execution_count": 57,
     "metadata": {},
     "output_type": "execute_result"
    }
   ],
   "source": [
    "import cmath\n",
    "#y = 7 * x**2 + 5*x + 9\n",
    "#y = a * x**2 + b*x + c\n",
    "a, b, c = 7, 5, 9\n",
    "1**(1/2)\n",
    "x1 = (- b - cmath.sqrt(b**2 - 4 * a * c))/(2 * a)\n",
    "x2 = (- b + cmath.sqrt(b**2 - 4 * a * c))/(2 * a)\n",
    "print(x1, x2)\n",
    "bin(0) + bin (4)"
   ]
  },
  {
   "cell_type": "markdown",
   "id": "b9807fb9",
   "metadata": {},
   "source": [
    "### Porovnávání\n",
    " \n",
    "Provnání na rovnost a nerovnost"
   ]
  },
  {
   "cell_type": "code",
   "execution_count": 58,
   "id": "71e25937",
   "metadata": {},
   "outputs": [
    {
     "data": {
      "text/plain": [
       "True"
      ]
     },
     "execution_count": 58,
     "metadata": {},
     "output_type": "execute_result"
    }
   ],
   "source": [
    "1 == 1"
   ]
  },
  {
   "cell_type": "code",
   "execution_count": 60,
   "id": "0a853481",
   "metadata": {},
   "outputs": [
    {
     "data": {
      "text/plain": [
       "True"
      ]
     },
     "execution_count": 60,
     "metadata": {},
     "output_type": "execute_result"
    }
   ],
   "source": [
    "1 != 2"
   ]
  },
  {
   "cell_type": "markdown",
   "id": "e7282660",
   "metadata": {},
   "source": [
    "Porovnání na větší/menší"
   ]
  },
  {
   "cell_type": "code",
   "execution_count": 61,
   "id": "dabea0de",
   "metadata": {},
   "outputs": [
    {
     "data": {
      "text/plain": [
       "True"
      ]
     },
     "execution_count": 61,
     "metadata": {},
     "output_type": "execute_result"
    }
   ],
   "source": [
    "1 < 10"
   ]
  },
  {
   "cell_type": "code",
   "execution_count": 62,
   "id": "e54cbef1",
   "metadata": {},
   "outputs": [
    {
     "data": {
      "text/plain": [
       "False"
      ]
     },
     "execution_count": 62,
     "metadata": {},
     "output_type": "execute_result"
    }
   ],
   "source": [
    "1 > 10"
   ]
  },
  {
   "cell_type": "code",
   "execution_count": 65,
   "id": "7d9d33ad",
   "metadata": {},
   "outputs": [
    {
     "data": {
      "text/plain": [
       "False"
      ]
     },
     "execution_count": 65,
     "metadata": {},
     "output_type": "execute_result"
    }
   ],
   "source": [
    "2 < 2"
   ]
  },
  {
   "cell_type": "code",
   "execution_count": 67,
   "id": "523eb919",
   "metadata": {},
   "outputs": [
    {
     "data": {
      "text/plain": [
       "True"
      ]
     },
     "execution_count": 67,
     "metadata": {},
     "output_type": "execute_result"
    }
   ],
   "source": [
    "2 >= 2"
   ]
  },
  {
   "cell_type": "markdown",
   "id": "b2f52bef",
   "metadata": {},
   "source": [
    "Zřetězení porovnání"
   ]
  },
  {
   "cell_type": "code",
   "execution_count": 70,
   "id": "775770e0",
   "metadata": {},
   "outputs": [
    {
     "data": {
      "text/plain": [
       "False"
      ]
     },
     "execution_count": 70,
     "metadata": {},
     "output_type": "execute_result"
    }
   ],
   "source": [
    "a = 10\n",
    "1 < a <= 3\n",
    "1 < a and a <= 3"
   ]
  },
  {
   "cell_type": "markdown",
   "id": "e67b7049",
   "metadata": {},
   "source": [
    "#### Příklad:\n",
    "Mate tři proměnné `a`,`b`,`c`.\n",
    "Ověřte zda splňují trojúhelníkovou nerovnost."
   ]
  },
  {
   "cell_type": "code",
   "execution_count": 72,
   "id": "199170e5",
   "metadata": {},
   "outputs": [
    {
     "data": {
      "text/plain": [
       "False"
      ]
     },
     "execution_count": 72,
     "metadata": {},
     "output_type": "execute_result"
    }
   ],
   "source": [
    "a, b, c = 4, 4, 4\n",
    "\n",
    "\n",
    "a, b, c = 1, 2, 4\n",
    "\n",
    "# Řešení\n",
    "vysledek1 = a + b > c\n",
    "vysledek2 = a + c > b\n",
    "vysledek3 = b + c > a\n",
    "uplny_vysledek = vysledek1 and vysledek2 and vysledek3\n"
   ]
  },
  {
   "cell_type": "markdown",
   "id": "9ec8eabd",
   "metadata": {},
   "source": [
    "## Řetězce (str)\n",
    "Jednoduché nebo dvojité uvozovky, nativní podpora UTF-8"
   ]
  },
  {
   "cell_type": "code",
   "execution_count": 74,
   "id": "7ecc1d84",
   "metadata": {},
   "outputs": [
    {
     "data": {
      "text/plain": [
       "\"<a href='link'>Link</a>\""
      ]
     },
     "execution_count": 74,
     "metadata": {},
     "output_type": "execute_result"
    }
   ],
   "source": [
    "\"<a href='link'>Link</a>\""
   ]
  },
  {
   "cell_type": "code",
   "execution_count": 77,
   "id": "064f22f0",
   "metadata": {},
   "outputs": [
    {
     "data": {
      "text/plain": [
       "'Toto je také \"řetězec\". \" ale i takto'"
      ]
     },
     "execution_count": 77,
     "metadata": {},
     "output_type": "execute_result"
    }
   ],
   "source": [
    "'Toto je také \"řetězec\". \" ale i takto'"
   ]
  },
  {
   "cell_type": "markdown",
   "id": "61fe89d0",
   "metadata": {},
   "source": [
    "### Skladní řetězců"
   ]
  },
  {
   "cell_type": "code",
   "execution_count": 81,
   "id": "f5a4f4c2",
   "metadata": {},
   "outputs": [
    {
     "name": "stdout",
     "output_type": "stream",
     "text": [
      "Ahoj Honzo\n"
     ]
    }
   ],
   "source": [
    "pozdrav = \"Ahoj\"\n",
    "jmeno = \"Honzo\"\n",
    "print(pozdrav + \" \" + jmeno)\n",
    "# Nebo ještě líp ???"
   ]
  },
  {
   "cell_type": "markdown",
   "id": "2579a23f",
   "metadata": {},
   "source": [
    "Násobení řetězců"
   ]
  },
  {
   "cell_type": "code",
   "execution_count": 82,
   "id": "e7138f07",
   "metadata": {},
   "outputs": [
    {
     "data": {
      "text/plain": [
       "'PythonPythonPython'"
      ]
     },
     "execution_count": 82,
     "metadata": {},
     "output_type": "execute_result"
    }
   ],
   "source": [
    "3 * 'Python'"
   ]
  },
  {
   "cell_type": "markdown",
   "id": "451fd3fa",
   "metadata": {},
   "source": [
    "> #### Příklad:\n",
    "> Pomocí sčítaní a násobení řetězců vypište slovo *prapraprababička*"
   ]
  },
  {
   "cell_type": "code",
   "execution_count": 85,
   "id": "c58d0dc1",
   "metadata": {},
   "outputs": [
    {
     "name": "stdout",
     "output_type": "stream",
     "text": [
      "prapraprababička\n",
      "True\n"
     ]
    }
   ],
   "source": [
    "# Řešení\n",
    "a = \"pra\"\n",
    "b = \"babička\"\n",
    "c = 3 * a + b\n",
    "print(c)\n",
    "d = \"prapraprababička\"\n",
    "print(c == d)"
   ]
  },
  {
   "cell_type": "markdown",
   "id": "2d53fa4a",
   "metadata": {},
   "source": [
    "Zjišťování délky řetězce"
   ]
  },
  {
   "cell_type": "code",
   "execution_count": 92,
   "id": "4c191a1d",
   "metadata": {},
   "outputs": [
    {
     "name": "stdout",
     "output_type": "stream",
     "text": [
      "1 2\n"
     ]
    }
   ],
   "source": [
    "len('MujDlouhyText')\n",
    "b = ('polozka', 'polozka2', 'polozka3')\n",
    "b = \"polozka, polozka2, polozka3\"\n",
    "len(1, 2)"
   ]
  },
  {
   "cell_type": "code",
   "execution_count": 94,
   "id": "8d9dcb98",
   "metadata": {},
   "outputs": [
    {
     "data": {
      "text/plain": [
       "1"
      ]
     },
     "execution_count": 94,
     "metadata": {},
     "output_type": "execute_result"
    }
   ],
   "source": [
    "\"MujDlouhyText\".count('Muj')"
   ]
  },
  {
   "cell_type": "code",
   "execution_count": 105,
   "id": "71b03ba9",
   "metadata": {},
   "outputs": [
    {
     "data": {
      "text/plain": [
       "'txt'"
      ]
     },
     "execution_count": 105,
     "metadata": {},
     "output_type": "execute_result"
    }
   ],
   "source": [
    "\"MujDlouhyText\".index('Muj')\n",
    "text = \"MujDlouhyText\"\n",
    "\"test.txt\"\n",
    "a = \"test.txt\"\n",
    "a[-3:]\n"
   ]
  },
  {
   "cell_type": "code",
   "execution_count": null,
   "id": "b65ad9d8",
   "metadata": {},
   "outputs": [
    {
     "data": {
      "text/plain": [
       "True"
      ]
     },
     "execution_count": 97,
     "metadata": {},
     "output_type": "execute_result"
    }
   ],
   "source": [
    "'u' in \"MujDlouhyText\""
   ]
  },
  {
   "cell_type": "markdown",
   "id": "0acc7909",
   "metadata": {},
   "source": [
    "> #### Příklad:\n",
    "> Načtěte nadpis a vypište jeho doprostřed terminálu.\n",
    "> Předpokládejme že terminál ma 80 znaků na šířku."
   ]
  },
  {
   "cell_type": "code",
   "execution_count": 107,
   "id": "05e7c713",
   "metadata": {},
   "outputs": [
    {
     "data": {
      "text/plain": [
       "'t'"
      ]
     },
     "execution_count": 107,
     "metadata": {},
     "output_type": "execute_result"
    }
   ],
   "source": [
    "\n",
    "# řešení\n",
    "a = \"MujDlouhyText\"\n",
    "a[-1]"
   ]
  },
  {
   "cell_type": "markdown",
   "id": "5e7c378f",
   "metadata": {},
   "source": [
    "### Řetězec jako seznam\n",
    "Řetězec je seznam znaků!\n",
    "![](media/str.png)"
   ]
  },
  {
   "cell_type": "code",
   "execution_count": null,
   "id": "d4bf0103",
   "metadata": {},
   "outputs": [
    {
     "name": "stdout",
     "output_type": "stream",
     "text": [
      "P\n",
      "n\n"
     ]
    }
   ],
   "source": [
    "slovo = 'Python' \n",
    "print(slovo[0])  \n",
    "print(slovo[-1]) "
   ]
  },
  {
   "cell_type": "markdown",
   "id": "cfcecf98",
   "metadata": {},
   "source": [
    "Získání části řetězce"
   ]
  },
  {
   "cell_type": "code",
   "execution_count": 109,
   "id": "f6659f42",
   "metadata": {},
   "outputs": [
    {
     "name": "stdout",
     "output_type": "stream",
     "text": [
      "n\n",
      "Py\n",
      "ython\n",
      "Py\n",
      "on\n",
      "Pthon\n",
      "ytho\n",
      "Python\n"
     ]
    }
   ],
   "source": [
    "slovo = 'Python' \n",
    "print(slovo[-1]) \n",
    "print(slovo[:2])\n",
    "print(slovo[1:])\n",
    "print(slovo[:2])\n",
    "print(slovo[-2:]) \n",
    "print(slovo[:1] + slovo[2:])\n",
    "print(slovo[1:-1])\n",
    "print(slovo[:])"
   ]
  },
  {
   "cell_type": "code",
   "execution_count": null,
   "id": "50ba081c",
   "metadata": {},
   "outputs": [
    {
     "data": {
      "text/plain": [
       "'nohtyP'"
      ]
     },
     "execution_count": 105,
     "metadata": {},
     "output_type": "execute_result"
    }
   ],
   "source": [
    "slovo[::-1]"
   ]
  },
  {
   "cell_type": "markdown",
   "id": "4458efcb",
   "metadata": {},
   "source": [
    "> #### Příklad:\n",
    "> Načtěte vstup od uživatele a vypište jen jeho druhou polovinu."
   ]
  },
  {
   "cell_type": "code",
   "execution_count": null,
   "id": "56364bed",
   "metadata": {},
   "outputs": [],
   "source": [
    "# Řesení"
   ]
  },
  {
   "cell_type": "markdown",
   "id": "840a7eeb",
   "metadata": {},
   "source": [
    "## Formátování řetězce\n",
    "Skládáme pomocí .format()"
   ]
  },
  {
   "cell_type": "code",
   "execution_count": 110,
   "id": "9c03a9b3",
   "metadata": {},
   "outputs": [
    {
     "data": {
      "text/plain": [
       "'řetězec složený ze 3.14 částí'"
      ]
     },
     "execution_count": 110,
     "metadata": {},
     "output_type": "execute_result"
    }
   ],
   "source": [
    "text = \"složený\"\n",
    "cislo = 3.14\n",
    "f\"{text}\"\n",
    "f\"řetězec {text} ze {cislo} částí\""
   ]
  },
  {
   "cell_type": "markdown",
   "id": "bbfd43dc",
   "metadata": {},
   "source": [
    "### Metody objektu `String`\n",
    "\n",
    "*Metoda* (angl. *method*) je jako funkce – něco, co se dá zavolat.\n",
    "Na rozdíl od funkce je svázaná s nějakým *objektem* (hodnotou).\n",
    "Volá se tak, že se za objekt napíše tečka,\n",
    "za ní jméno metody a za to celé se, jako u funkcí, připojí závorky\n",
    "s případnými argumenty.\n",
    "\n",
    "Řetězcové metody `upper()` a `lower()`\n",
    "převádí text na velká, respektive malá písmena."
   ]
  },
  {
   "cell_type": "code",
   "execution_count": 111,
   "id": "b81d4cef",
   "metadata": {},
   "outputs": [
    {
     "name": "stdout",
     "output_type": "stream",
     "text": [
      "Ahoj\n"
     ]
    }
   ],
   "source": [
    "retezec = 'ahoj'\n",
    "print(retezec[0].upper() + retezec[1:].lower())"
   ]
  },
  {
   "cell_type": "markdown",
   "id": "0f82d1fc",
   "metadata": {},
   "source": [
    "> [note]\n",
    "> Všimni si, že původní řetězec se nemění; metoda vrátí nový řetězec, ten\n",
    "> starý zůstává.\n",
    ">\n",
    "> To je obecná vlastnost řetězců v Pythonu: jednou existující řetězec se už\n",
    "> nedá změnit, dá se jen vytvořit nějaký odvozený.\n",
    "\n",
    "\n",
    "#### Iniciály\n",
    "\n",
    "Pro procvičení metod a vybírání znaků si zkus napsat program,\n",
    "který se zeptá na jméno, pak na příjmení\n",
    "a pak vypíše iniciály – první písmena zadaných jmen.\n",
    "\n",
    "Iniciály jsou vždycky velkými písmeny\n",
    "(i kdyby byl uživatel líný mačkat Shift)."
   ]
  },
  {
   "cell_type": "code",
   "execution_count": null,
   "id": "d1bdf17d",
   "metadata": {},
   "outputs": [
    {
     "name": "stdout",
     "output_type": "stream",
     "text": [
      "Iniciály: HK\n"
     ]
    }
   ],
   "source": [
    "jmeno = input('Zadej jméno: ')\n",
    "prijmeni = input('Zadej příjmení ')\n",
    "inicialy = jmeno[0] + prijmeni[0]\n",
    "print('Iniciály:', inicialy.upper())"
   ]
  },
  {
   "cell_type": "markdown",
   "id": "92a05a6d",
   "metadata": {},
   "source": [
    "Způsobů, jak takový program napsat, je více.\n",
    "Lze například zavolat `upper()` dvakrát – zvlášť na jméno a zvlášť na příjmení.\n",
    "\n",
    "Nebo to jde zapsat i takto –\n",
    "metoda se dá volat na výsledku jakéhokoli výrazu:"
   ]
  },
  {
   "cell_type": "code",
   "execution_count": null,
   "id": "43610e64",
   "metadata": {},
   "outputs": [],
   "source": [
    "jmeno = input('Zadej jméno: ')\n",
    "prijmeni = input('Zadej příjmení ')\n",
    "print('Iniciály:', (jmeno[0] + prijmeni[0]).upper())"
   ]
  },
  {
   "cell_type": "markdown",
   "id": "e5813ede",
   "metadata": {},
   "source": [
    "Doporučuji spíš první způsob, ten se smysluplnými názvy proměnných.\n",
    "Je sice delší, ale mnohem přehlednější.\n",
    "\n",
    "Řetězcových metod je celá řada.\n",
    "Nejužitečnější z nich najdeš v [taháku](https://pyvec.github.io/cheatsheets/strings/strings-cs.pdf), který si můžeš stáhnout či vytisknout.\n",
    "\n",
    "A úplně všechny řetězcové metody jsou popsány v [dokumentaci Pythonu](https://docs.python.org/3/library/stdtypes.html#string-methods) (anglicky; plné věcí, které ještě neznáš).\n",
    "\n",
    "Všimni si, že `len` není metoda, ale funkce; píše se `len(r)`, ne `r.len()`.\n",
    "Proč tomu tak je, to za nějakou dobu poznáš.\n",
    "\n",
    "\n",
    "Nahrazení části řetězce"
   ]
  },
  {
   "cell_type": "code",
   "execution_count": 121,
   "id": "c6476980",
   "metadata": {},
   "outputs": [
    {
     "data": {
      "text/plain": [
       "'kukuřice'"
      ]
     },
     "execution_count": 121,
     "metadata": {},
     "output_type": "execute_result"
    }
   ],
   "source": [
    "slovo = 'kukuřice'\n",
    "\n"
   ]
  },
  {
   "cell_type": "markdown",
   "id": "34c5829d",
   "metadata": {},
   "source": [
    "Testování zda řetězec obsahuje písmena"
   ]
  },
  {
   "cell_type": "code",
   "execution_count": 123,
   "id": "90c21089",
   "metadata": {},
   "outputs": [
    {
     "data": {
      "text/plain": [
       "True"
      ]
     },
     "execution_count": 123,
     "metadata": {},
     "output_type": "execute_result"
    }
   ],
   "source": [
    "slovo = 'podsdffwewewww'\n",
    "slovo.isalpha()"
   ]
  },
  {
   "cell_type": "markdown",
   "id": "c73cfa79",
   "metadata": {},
   "source": [
    "Testování zda řetězec obsahuje čísla"
   ]
  },
  {
   "cell_type": "code",
   "execution_count": 128,
   "id": "876a5899",
   "metadata": {},
   "outputs": [
    {
     "data": {
      "text/plain": [
       "True"
      ]
     },
     "execution_count": 128,
     "metadata": {},
     "output_type": "execute_result"
    }
   ],
   "source": [
    "slovo = '1236'\n",
    "slovo.isdigit()"
   ]
  },
  {
   "cell_type": "markdown",
   "id": "3c6ff1cb",
   "metadata": {},
   "source": [
    "> #### Příklad:\n",
    "> Zjistěte, zda uživatelem zadaný vstup obsahuje pouze čísla."
   ]
  },
  {
   "cell_type": "code",
   "execution_count": null,
   "id": "7c160cab",
   "metadata": {},
   "outputs": [],
   "source": [
    "# Řešení"
   ]
  },
  {
   "cell_type": "markdown",
   "id": "6f3df5ae",
   "metadata": {},
   "source": [
    "> #### Příklad\n",
    "> \n",
    "> Zkus napsat funkci `zamen(retezec, pozice, znak)`.\n",
    "> \n",
    "> Tato funkce vrátí řetězec, který má na dané pozici\n",
    "> daný znak; jinak je stejný jako původní `retezec`. Např:\n",
    ">"
   ]
  },
  {
   "cell_type": "code",
   "execution_count": null,
   "id": "e7be4fc2",
   "metadata": {},
   "outputs": [
    {
     "name": "stdout",
     "output_type": "stream",
     "text": [
      "palec 0 v\n"
     ]
    },
    {
     "data": {
      "text/plain": [
       "True"
      ]
     },
     "execution_count": 130,
     "metadata": {},
     "output_type": "execute_result"
    }
   ],
   "source": [
    "zamen('palec', 0, 'v') == 'valec'"
   ]
  },
  {
   "cell_type": "code",
   "execution_count": null,
   "id": "98ec1e3b",
   "metadata": {},
   "outputs": [
    {
     "name": "stdout",
     "output_type": "stream",
     "text": [
      "valec 2 j\n"
     ]
    },
    {
     "data": {
      "text/plain": [
       "True"
      ]
     },
     "execution_count": 131,
     "metadata": {},
     "output_type": "execute_result"
    }
   ],
   "source": [
    "zamen('valec', 2, 'j') == 'vajec'"
   ]
  },
  {
   "cell_type": "markdown",
   "id": "da9bbd96",
   "metadata": {},
   "source": [
    ">\n",
    "> Pozor na to, že řetězce v Pythonu nelze měnit.\n",
    "> Musíš vytvořit nový řetězec poskládaný z částí toho starého.\n",
    ">"
   ]
  },
  {
   "cell_type": "code",
   "execution_count": null,
   "id": "b300688e",
   "metadata": {},
   "outputs": [],
   "source": [
    "def zamen(retezec, index, znak):\n",
    "    print(retezec, index, znak)\n",
    "    return retezec[:index] + znak + retezec[index + 1:]"
   ]
  },
  {
   "cell_type": "markdown",
   "id": "3d46aafc",
   "metadata": {},
   "source": [
    "## Datum a čas\n",
    "Python poskytuje tři typy: : `date`, `time`, `datetime`.\n",
    "\n",
    "Pro jejich použití je ale potřeba naimpotrovat modul, podobně jako jsme importovali modul pro `math`.\n",
    "To je také důvod proč se tu o nich zmíníme jen okrajově:"
   ]
  },
  {
   "cell_type": "code",
   "execution_count": 24,
   "id": "99b179d0",
   "metadata": {},
   "outputs": [],
   "source": [
    "from datetime import datetime"
   ]
  },
  {
   "cell_type": "markdown",
   "id": "e66f0856",
   "metadata": {},
   "source": [
    "pokud chceme získtát aktulní čas, pak můžeme použit funkci `now()`."
   ]
  },
  {
   "cell_type": "code",
   "execution_count": 25,
   "id": "95921755",
   "metadata": {},
   "outputs": [
    {
     "data": {
      "text/plain": [
       "datetime.datetime(2022, 1, 10, 14, 18, 4, 727552)"
      ]
     },
     "execution_count": 25,
     "metadata": {},
     "output_type": "execute_result"
    }
   ],
   "source": [
    "start = datetime.now()\n",
    "start"
   ]
  },
  {
   "cell_type": "markdown",
   "id": "a7c085da",
   "metadata": {},
   "source": [
    "Dále můžeme z objektu získat konkrétní hodnoty, například rok:"
   ]
  },
  {
   "cell_type": "code",
   "execution_count": 26,
   "id": "afd943e9",
   "metadata": {},
   "outputs": [
    {
     "data": {
      "text/plain": [
       "(2022, 1, 10, 14, 18, 4)"
      ]
     },
     "execution_count": 26,
     "metadata": {},
     "output_type": "execute_result"
    }
   ],
   "source": [
    "start.year, start.month, start.day, start.hour, start.minute, start.second"
   ]
  },
  {
   "cell_type": "markdown",
   "id": "102056d7",
   "metadata": {},
   "source": [
    "Pokud byvhom chtěli čas výpsat v lidsky čitelném formátu, můžeme použit funkci `strftime('%d.%m.%Y')`:"
   ]
  },
  {
   "cell_type": "code",
   "execution_count": 27,
   "id": "3768ebef",
   "metadata": {},
   "outputs": [
    {
     "data": {
      "text/plain": [
       "'Monday January'"
      ]
     },
     "execution_count": 27,
     "metadata": {},
     "output_type": "execute_result"
    }
   ],
   "source": [
    "start.strftime('%A %B')"
   ]
  },
  {
   "cell_type": "markdown",
   "id": "196c94e6",
   "metadata": {},
   "source": [
    "Existuje i funkce `strptime()` která naopak převede string na datum a čas:"
   ]
  },
  {
   "cell_type": "code",
   "execution_count": 28,
   "id": "99676c40",
   "metadata": {},
   "outputs": [],
   "source": [
    "stop = datetime.strptime('23.08.2019', '%d.%m.%Y')"
   ]
  },
  {
   "cell_type": "markdown",
   "id": "06d986fd",
   "metadata": {},
   "source": [
    "Pokud chceme zjistit, kolik času uběhlo, můžeme objekty jednoduše odečíst:"
   ]
  },
  {
   "cell_type": "code",
   "execution_count": 29,
   "id": "9070d54a",
   "metadata": {},
   "outputs": [
    {
     "data": {
      "text/plain": [
       "datetime.timedelta(days=-872, seconds=34915, microseconds=272448)"
      ]
     },
     "execution_count": 29,
     "metadata": {},
     "output_type": "execute_result"
    }
   ],
   "source": [
    "stop - start"
   ]
  },
  {
   "cell_type": "markdown",
   "id": "95d736ff",
   "metadata": {},
   "source": [
    "## Konverze datových typů\n",
    "= Používáme funkce pojmenované dle datového typu."
   ]
  },
  {
   "cell_type": "code",
   "execution_count": 35,
   "id": "ceb78099",
   "metadata": {},
   "outputs": [
    {
     "data": {
      "text/plain": [
       "666"
      ]
     },
     "execution_count": 35,
     "metadata": {},
     "output_type": "execute_result"
    }
   ],
   "source": [
    "int(\"665\") + 1"
   ]
  },
  {
   "cell_type": "code",
   "execution_count": 36,
   "id": "12bd6311",
   "metadata": {},
   "outputs": [
    {
     "data": {
      "text/plain": [
       "3"
      ]
     },
     "execution_count": 36,
     "metadata": {},
     "output_type": "execute_result"
    }
   ],
   "source": [
    "int(3.14)"
   ]
  },
  {
   "cell_type": "code",
   "execution_count": 37,
   "id": "3905ed8e",
   "metadata": {},
   "outputs": [
    {
     "data": {
      "text/plain": [
       "6.28"
      ]
     },
     "execution_count": 37,
     "metadata": {},
     "output_type": "execute_result"
    }
   ],
   "source": [
    "float(\"3.14\") * 2"
   ]
  },
  {
   "cell_type": "code",
   "execution_count": 42,
   "id": "8f5d84a0",
   "metadata": {},
   "outputs": [
    {
     "data": {
      "text/plain": [
       "True"
      ]
     },
     "execution_count": 42,
     "metadata": {},
     "output_type": "execute_result"
    }
   ],
   "source": [
    "bool(\"False\")"
   ]
  }
 ],
 "metadata": {
  "interpreter": {
   "hash": "351af123f4fda19bbbaa019f11d818f2fe3be1acc9ebf40e93daf054b80fd89f"
  },
  "kernelspec": {
   "display_name": "Python 3.9.7 64-bit ('venv': venv)",
   "language": "python",
   "name": "python3"
  },
  "language_info": {
   "codemirror_mode": {
    "name": "ipython",
    "version": 3
   },
   "file_extension": ".py",
   "mimetype": "text/x-python",
   "name": "python",
   "nbconvert_exporter": "python",
   "pygments_lexer": "ipython3",
   "version": "3.10.3"
  }
 },
 "nbformat": 4,
 "nbformat_minor": 5
}
