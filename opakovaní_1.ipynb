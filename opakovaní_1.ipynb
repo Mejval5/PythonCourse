{
 "cells": [
  {
   "cell_type": "code",
   "execution_count": 3,
   "metadata": {},
   "outputs": [],
   "source": [
    "data = [\n",
    "    'Honza: Jirka, Eva, Anna, Pepa',\n",
    "    'Jirka: Tomas, Marek, Anna, Pepa',\n",
    "    'Eva: Filip, Lubos, Adrian',\n",
    "    'Adrian: Simona, Alexandra',\n",
    "]"
   ]
  },
  {
   "cell_type": "code",
   "execution_count": 29,
   "metadata": {},
   "outputs": [
    {
     "data": {
      "text/plain": [
       "('Honza', {'Anna', 'Eva', 'Jirka'})"
      ]
     },
     "execution_count": 29,
     "metadata": {},
     "output_type": "execute_result"
    }
   ],
   "source": [
    "osoba, pratele = 'Honza: Jirka, Eva, Anna'.split(\": \")\n",
    "pratele = set(pratele.split(\", \"))\n",
    "osoba, pratele"
   ]
  },
  {
   "cell_type": "code",
   "execution_count": 4,
   "metadata": {},
   "outputs": [
    {
     "data": {
      "text/plain": [
       "{'Honza': {'Anna', 'Eva', 'Jirka', 'Pepa'},\n",
       " 'Anna': {'Honza', 'Jirka'},\n",
       " 'Pepa': {'Honza', 'Jirka'},\n",
       " 'Jirka': {'Anna', 'Honza', 'Marek', 'Pepa', 'Tomas'},\n",
       " 'Eva': {'Adrian', 'Filip', 'Honza', 'Lubos'},\n",
       " 'Marek': {'Jirka'},\n",
       " 'Tomas': {'Jirka'},\n",
       " 'Filip': {'Eva'},\n",
       " 'Adrian': {'Alexandra', 'Eva', 'Simona'},\n",
       " 'Lubos': {'Eva'},\n",
       " 'Alexandra': {'Adrian'},\n",
       " 'Simona': {'Adrian'}}"
      ]
     },
     "execution_count": 4,
     "metadata": {},
     "output_type": "execute_result"
    }
   ],
   "source": [
    "social = {}\n",
    "\n",
    "for record in data:\n",
    "    osoba, pratele = record.split(\": \")\n",
    "    pratele = set(pratele.split(\", \"))\n",
    "    social[osoba] = social.get(osoba, set()) | pratele\n",
    "    for pritel in pratele:\n",
    "        social[pritel] = social.get(pritel, set()) | {osoba}\n",
    "    \n",
    "social"
   ]
  },
  {
   "cell_type": "code",
   "execution_count": 21,
   "metadata": {},
   "outputs": [
    {
     "data": {
      "text/plain": [
       "{'Honza': {'Anna', 'Eva', 'Jirka'},\n",
       " 'Jirka': {'Anna', 'Honza', 'Marek', 'Tomas'},\n",
       " 'Eva': {'Adrian', 'Filip', 'Honza', 'Lubos'},\n",
       " 'Anna': {'Honza', 'Jirka'},\n",
       " 'Marek': {'Jirka'},\n",
       " 'Tomas': {'Jirka'},\n",
       " 'Filip': {'Eva'},\n",
       " 'Adrian': {'Alexandra', 'Eva', 'Simona'},\n",
       " 'Lubos': {'Eva'},\n",
       " 'Simona': {'Adrian'},\n",
       " 'Alexandra': {'Adrian'}}"
      ]
     },
     "execution_count": 21,
     "metadata": {},
     "output_type": "execute_result"
    }
   ],
   "source": [
    "social = {}\n",
    "\n",
    "for record in data:\n",
    "    osoba, pratele = record.split(\": \")\n",
    "    pratele = set(pratele.split(\", \"))\n",
    "    \n",
    "    if osoba not in social:\n",
    "         social[osoba] = set()\n",
    "    \n",
    "    social[osoba].update(pratele)\n",
    "\n",
    "    for pritel in pratele:\n",
    "        if pritel not in social:\n",
    "            social[pritel] = set()\n",
    "            \n",
    "        social[pritel].add(osoba)\n",
    "    \n",
    "social"
   ]
  },
  {
   "cell_type": "code",
   "execution_count": 23,
   "metadata": {},
   "outputs": [
    {
     "data": {
      "text/plain": [
       "('Jirka', 4)"
      ]
     },
     "execution_count": 23,
     "metadata": {},
     "output_type": "execute_result"
    }
   ],
   "source": [
    "nej = None\n",
    "for osoba, pratele in social.items():\n",
    "    if nej and nej[1] < len(pratele):\n",
    "        nej = osoba, len(pratele)\n",
    "    if not nej:\n",
    "         nej = osoba, len(pratele)\n",
    "        \n",
    "nej"
   ]
  },
  {
   "cell_type": "code",
   "execution_count": 31,
   "metadata": {},
   "outputs": [
    {
     "data": {
      "text/plain": [
       "{('Honza', 'Jirka'): {'Anna', 'Pepa'},\n",
       " ('Honza', 'Pepa'): {'Jirka'},\n",
       " ('Honza', 'Anna'): {'Jirka'},\n",
       " ('Honza', 'Eva'): set(),\n",
       " ('Jirka', 'Marek'): set(),\n",
       " ('Jirka', 'Pepa'): {'Honza'},\n",
       " ('Jirka', 'Honza'): {'Anna', 'Pepa'},\n",
       " ('Jirka', 'Anna'): {'Honza'},\n",
       " ('Jirka', 'Tomas'): set(),\n",
       " ('Pepa', 'Jirka'): {'Honza'},\n",
       " ('Pepa', 'Honza'): {'Jirka'},\n",
       " ('Eva', 'Honza'): set(),\n",
       " ('Eva', 'Filip'): set(),\n",
       " ('Eva', 'Adrian'): set(),\n",
       " ('Eva', 'Lubos'): set(),\n",
       " ('Anna', 'Jirka'): {'Honza'},\n",
       " ('Anna', 'Honza'): {'Jirka'},\n",
       " ('Marek', 'Jirka'): set(),\n",
       " ('Tomas', 'Jirka'): set(),\n",
       " ('Filip', 'Eva'): set(),\n",
       " ('Adrian', 'Simona'): set(),\n",
       " ('Adrian', 'Eva'): set(),\n",
       " ('Adrian', 'Alexandra'): set(),\n",
       " ('Lubos', 'Eva'): set(),\n",
       " ('Simona', 'Adrian'): set(),\n",
       " ('Alexandra', 'Adrian'): set()}"
      ]
     },
     "execution_count": 31,
     "metadata": {},
     "output_type": "execute_result"
    }
   ],
   "source": [
    "matrix = {}\n",
    "for osoba, pratele in social.items():\n",
    "    for pritel in pratele:\n",
    "        matrix[osoba, pritel] = social[pritel] & pratele\n",
    "        \n",
    "matrix"
   ]
  },
  {
   "cell_type": "code",
   "execution_count": 6,
   "metadata": {},
   "outputs": [
    {
     "data": {
      "text/plain": [
       "['Jirka', 'Eva']"
      ]
     },
     "execution_count": 6,
     "metadata": {},
     "output_type": "execute_result"
    }
   ],
   "source": [
    "def najdiKontakt(path, target, social=social):\n",
    "    if target in social[path[-1]]:\n",
    "        return path + [target]\n",
    "    \n",
    "    for kontakt in social[path[-1]]:\n",
    "        if kontakt not in path:\n",
    "            if result:= najdiKontakt(path + [kontakt], target):\n",
    "                return result\n",
    "        \n",
    "    return None\n",
    "\n",
    "najdiKontakt(['Jirka'], 'Eva', social={'Jirka': 'Eva'})"
   ]
  },
  {
   "cell_type": "code",
   "execution_count": 53,
   "metadata": {},
   "outputs": [
    {
     "data": {
      "text/plain": [
       "{'Honza': {'Anna', 'Eva', 'Jirka', 'Pepa'},\n",
       " 'Jirka': {'Anna', 'Honza', 'Marek', 'Pepa', 'Tomas'},\n",
       " 'Pepa': {'Honza', 'Jirka'},\n",
       " 'Eva': {'Adrian', 'Filip', 'Honza', 'Lubos'},\n",
       " 'Anna': {'Honza', 'Jirka'},\n",
       " 'Marek': {'Jirka'},\n",
       " 'Tomas': {'Jirka'},\n",
       " 'Filip': {'Eva'},\n",
       " 'Adrian': {'Alexandra', 'Eva', 'Simona'},\n",
       " 'Lubos': {'Eva'},\n",
       " 'Simona': {'Adrian'},\n",
       " 'Alexandra': {'Adrian'}}"
      ]
     },
     "execution_count": 53,
     "metadata": {},
     "output_type": "execute_result"
    }
   ],
   "source": [
    "social"
   ]
  }
 ],
 "metadata": {
  "interpreter": {
   "hash": "351af123f4fda19bbbaa019f11d818f2fe3be1acc9ebf40e93daf054b80fd89f"
  },
  "kernelspec": {
   "display_name": "Python 3.9.7 64-bit ('venv': venv)",
   "language": "python",
   "name": "python3"
  },
  "language_info": {
   "codemirror_mode": {
    "name": "ipython",
    "version": 3
   },
   "file_extension": ".py",
   "mimetype": "text/x-python",
   "name": "python",
   "nbconvert_exporter": "python",
   "pygments_lexer": "ipython3",
   "version": "3.9.7"
  },
  "orig_nbformat": 4
 },
 "nbformat": 4,
 "nbformat_minor": 2
}
