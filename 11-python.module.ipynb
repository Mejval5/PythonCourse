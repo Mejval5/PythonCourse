{
 "cells": [
  {
   "cell_type": "markdown",
   "id": "b636cbd6",
   "metadata": {},
   "source": [
    "# Moduly\n",
    "\n",
    "Zatím jsme tvořili programy v Pythonu jako soubory do Jupyteru nebo skripy.\n",
    "Velmi rycle, ale zjistíme, že některé funkce a objekty bychom potřebovali použít ve více notebocích/skripteck.\n",
    "\n",
    "V tomto případě nám velmi dobře poslouží moduly.\n",
    "V této lekci se podíváme jak na to.\n",
    "\n",
    "Za příklad si vezmeme kód Ondřeje Caletky, který umožňuje určit české svátky\n",
    "v zadaném roce. \n",
    "\n",
    " * [oskar456/isholiday.py](https://gist.github.com/oskar456/e91ef3ff77476b0dbc4ac19875d0555e)\n",
    "\n",
    "## Slovníček pojmů\n",
    "\n",
    "Než se pustíme do samotného výkladu, zavedeme některé pojmy tak,\n",
    "aby mezi nimi nedošlo v textu záměně.\n",
    "Anglické pojmy v závorce jsou převzaty z oficiálního [glosáře](https://packaging.python.org/glossary).\n",
    "\n",
    "* **(importovatelný) modul** (_Module_ ∪ _Import Package_) je cokoliv,\n",
    "  co se dá importovat z Pythonu, v tomto textu tedy především Python soubor nebo adresář s nimi;\n",
    "* **balíček** (_Distribution Package_) je instalovatelný archiv obsahují\n",
    "  _importovatelné moduly_ pro Python a další potřebné soubory, může být i rozbalený;\n",
    "* **zdrojový balíček** (_Source Distribution_, `sdsit`) je varianta zabaleného _balíčku_ ve zdrojové formě;\n",
    "* **binární balíček** (_Binary Distribution_, `bdsit`) je varianta zabaleného _balíčku_ v nezdrojové (např. zkompilované) formě;\n",
    "* **projekt** (_Project_) je knihovna, framework, skript, plugin, aplikace apod. (či jejich kombinace), které balíme do _balíčků_.\n",
    "\n",
    "## Struktura modulu\n",
    "\n",
    "Python jako modul považuje, mezi jinými, adresář obsahující soubor `__init__.py`\n",
    "Tento adresář může také obahov další skripty a jiné datové soubory."
   ]
  },
  {
   "cell_type": "markdown",
   "id": "bca271b3",
   "metadata": {},
   "source": [
    "\n",
    "    .\n",
    "    ├── kalendar\n",
    "    │   ├── isholiday.py\n",
    "    │   └── __init__.py\n",
    "    ├── LICENSE\n",
    "    ├── MANIFEST.in\n",
    "    ├── README\n",
    "    └── setup.py\n",
    "\n"
   ]
  },
  {
   "cell_type": "markdown",
   "id": "25141503",
   "metadata": {},
   "source": [
    "Ve stejné urovni se pak můžeou nacházet další soubotry jako licence, readme nebo setup.py distribuci modulu přes pip.\n",
    "\n",
    "> #### Příklad\n",
    "> Vytovřte si adresář `kalendar` a do něj stáhněte soubor [oskar456/isholiday.py](https://gist.github.com/oskar456/e91ef3ff77476b0dbc4ac19875d0555e) a vytvořte v něm prázdný soubor `__init__.py`\n",
    "\n",
    "### Soubor `__init__py`\n",
    "V souboru `__init__.py` by tak prakticky žádný kód kromě importů být neměl.\n",
    "\n",
    "Nadefunjte tydy import funkcí `getholidays`, `isholiday` v souboru `__init__.py`:"
   ]
  },
  {
   "cell_type": "markdown",
   "id": "05ddfbee",
   "metadata": {},
   "source": [
    "\n",
    "    from .isholiday import getholidays, isholiday\n",
    "    \n",
    "    __all__ = ['getholidays', 'isholiday']\n"
   ]
  },
  {
   "cell_type": "markdown",
   "id": "19c55d74",
   "metadata": {},
   "source": [
    "Tečka v příkazu `import` není chyba: je to zkratka pro aktuální modul.\n",
    "Můžeme psát i `from isholiday.holidays import ...`, což ale trochu ztěžuje případné přejmenování modulu.\n",
    "\n",
    "Ono `__all__` pak explicitně definuje rozhraní modulu. \n",
    "Například s původním modulem šlo provést `from isholiday import datetime`, ale asi by nikdo nečekal, že tahle možnost bude nutně zachována i v příštích verzích knihovny.\n",
    "Seznamem `__all__` dáte najevo, že tyhle funkce nejsou jen „náhodné importy“, a zároveň tím zamezíte různým varováním o importovaném ale nevyužitém modulu, které může hlásit vaše IDE nebo linter.\n",
    "\n",
    "* **Poznámka**: \n",
    "Python samotný pak `__all__` používá jako seznam proměnných importovaných přes `from isholiday import *`. \n",
    "Tento způsob importu nevidíme rádi, protože znepřehledňuje kód, to ale neznamená, že to musíme uživatelům naší knihovny znepříjemňovat (např. pro interaktivní režim).\n",
    "\n",
    "### Použití modulu\n",
    "Když máme modul nadefnovaný, můžeme jej teď jednduše načíst příkazem `import`."
   ]
  },
  {
   "cell_type": "code",
   "execution_count": null,
   "id": "05c2d921",
   "metadata": {},
   "outputs": [],
   "source": [
    "import kalendar\n",
    "\n",
    "kalendar.getholidays(2019)"
   ]
  },
  {
   "cell_type": "code",
   "execution_count": 1,
   "id": "652a56a9",
   "metadata": {},
   "outputs": [
    {
     "name": "stdout",
     "output_type": "stream",
     "text": [
      "Hello World!\n"
     ]
    }
   ],
   "source": [
    "import greeting\n",
    "\n",
    "greeting.greeting()"
   ]
  }
 ],
 "metadata": {
  "interpreter": {
   "hash": "351af123f4fda19bbbaa019f11d818f2fe3be1acc9ebf40e93daf054b80fd89f"
  },
  "kernelspec": {
   "display_name": "Python 3.9.7 64-bit ('venv': venv)",
   "language": "python",
   "name": "python3"
  },
  "language_info": {
   "codemirror_mode": {
    "name": "ipython",
    "version": 3
   },
   "file_extension": ".py",
   "mimetype": "text/x-python",
   "name": "python",
   "nbconvert_exporter": "python",
   "pygments_lexer": "ipython3",
   "version": "3.9.7"
  }
 },
 "nbformat": 4,
 "nbformat_minor": 5
}
