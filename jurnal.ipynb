{
 "cells": [
  {
   "cell_type": "code",
   "execution_count": 5,
   "metadata": {},
   "outputs": [],
   "source": [
    "import json"
   ]
  },
  {
   "cell_type": "code",
   "execution_count": 6,
   "metadata": {},
   "outputs": [
    {
     "data": {
      "text/plain": [
       "[{'events': ['carrot', 'exercise', 'weekend'], 'squirrel': False},\n",
       " {'events': ['bread', 'pudding', 'brushed teeth', 'weekend', 'touched tree'],\n",
       "  'squirrel': False},\n",
       " {'events': ['carrot', 'nachos', 'brushed teeth', 'cycling', 'weekend'],\n",
       "  'squirrel': False},\n",
       " {'events': ['brussel sprouts',\n",
       "   'ice cream',\n",
       "   'brushed teeth',\n",
       "   'computer',\n",
       "   'weekend'],\n",
       "  'squirrel': False},\n",
       " {'events': ['potatoes',\n",
       "   'candy',\n",
       "   'brushed teeth',\n",
       "   'exercise',\n",
       "   'weekend',\n",
       "   'dentist'],\n",
       "  'squirrel': False},\n",
       " {'events': ['brussel sprouts',\n",
       "   'pudding',\n",
       "   'brushed teeth',\n",
       "   'running',\n",
       "   'weekend'],\n",
       "  'squirrel': False},\n",
       " {'events': ['pizza', 'brushed teeth', 'computer', 'work', 'touched tree'],\n",
       "  'squirrel': False},\n",
       " {'events': ['bread', 'beer', 'brushed teeth', 'cycling', 'work'],\n",
       "  'squirrel': False},\n",
       " {'events': ['cauliflower', 'brushed teeth', 'work'], 'squirrel': False},\n",
       " {'events': ['pizza', 'brushed teeth', 'cycling', 'work'], 'squirrel': False},\n",
       " {'events': ['lasagna', 'nachos', 'brushed teeth', 'work'], 'squirrel': False},\n",
       " {'events': ['brushed teeth', 'weekend', 'touched tree'], 'squirrel': False},\n",
       " {'events': ['lettuce', 'brushed teeth', 'television', 'weekend'],\n",
       "  'squirrel': False},\n",
       " {'events': ['spaghetti', 'brushed teeth', 'work'], 'squirrel': False},\n",
       " {'events': ['brushed teeth', 'computer', 'work'], 'squirrel': False},\n",
       " {'events': ['lettuce', 'nachos', 'brushed teeth', 'work'], 'squirrel': False},\n",
       " {'events': ['carrot', 'brushed teeth', 'running', 'work'], 'squirrel': False},\n",
       " {'events': ['brushed teeth', 'work'], 'squirrel': False},\n",
       " {'events': ['cauliflower', 'reading', 'weekend'], 'squirrel': False},\n",
       " {'events': ['bread', 'brushed teeth', 'weekend'], 'squirrel': False},\n",
       " {'events': ['lasagna', 'brushed teeth', 'exercise', 'work'],\n",
       "  'squirrel': False},\n",
       " {'events': ['spaghetti', 'brushed teeth', 'reading', 'work'],\n",
       "  'squirrel': False},\n",
       " {'events': ['carrot', 'ice cream', 'brushed teeth', 'television', 'work'],\n",
       "  'squirrel': False},\n",
       " {'events': ['spaghetti', 'nachos', 'work'], 'squirrel': False},\n",
       " {'events': ['cauliflower', 'ice cream', 'brushed teeth', 'cycling', 'work'],\n",
       "  'squirrel': False},\n",
       " {'events': ['spaghetti', 'peanuts', 'computer', 'weekend'], 'squirrel': True},\n",
       " {'events': ['potatoes', 'ice cream', 'brushed teeth', 'computer', 'weekend'],\n",
       "  'squirrel': False},\n",
       " {'events': ['potatoes', 'ice cream', 'brushed teeth', 'work'],\n",
       "  'squirrel': False},\n",
       " {'events': ['peanuts', 'brushed teeth', 'running', 'work'],\n",
       "  'squirrel': False},\n",
       " {'events': ['potatoes', 'exercise', 'work'], 'squirrel': False},\n",
       " {'events': ['pizza', 'ice cream', 'computer', 'work'], 'squirrel': False},\n",
       " {'events': ['lasagna', 'ice cream', 'work'], 'squirrel': False},\n",
       " {'events': ['cauliflower', 'candy', 'reading', 'weekend'], 'squirrel': False},\n",
       " {'events': ['lasagna', 'nachos', 'brushed teeth', 'running', 'weekend'],\n",
       "  'squirrel': False},\n",
       " {'events': ['potatoes', 'brushed teeth', 'work'], 'squirrel': False},\n",
       " {'events': ['carrot', 'work'], 'squirrel': False},\n",
       " {'events': ['pizza', 'beer', 'work', 'dentist'], 'squirrel': False},\n",
       " {'events': ['lasagna', 'pudding', 'cycling', 'work'], 'squirrel': False},\n",
       " {'events': ['spaghetti', 'brushed teeth', 'reading', 'work'],\n",
       "  'squirrel': False},\n",
       " {'events': ['spaghetti', 'pudding', 'television', 'weekend'],\n",
       "  'squirrel': False},\n",
       " {'events': ['bread', 'brushed teeth', 'exercise', 'weekend'],\n",
       "  'squirrel': False},\n",
       " {'events': ['lasagna', 'peanuts', 'work'], 'squirrel': True},\n",
       " {'events': ['pizza', 'work'], 'squirrel': False},\n",
       " {'events': ['potatoes', 'exercise', 'work'], 'squirrel': False},\n",
       " {'events': ['brushed teeth', 'exercise', 'work'], 'squirrel': False},\n",
       " {'events': ['spaghetti', 'brushed teeth', 'television', 'work'],\n",
       "  'squirrel': False},\n",
       " {'events': ['pizza', 'cycling', 'weekend'], 'squirrel': False},\n",
       " {'events': ['carrot', 'brushed teeth', 'weekend'], 'squirrel': False},\n",
       " {'events': ['carrot', 'beer', 'brushed teeth', 'work'], 'squirrel': False},\n",
       " {'events': ['pizza', 'peanuts', 'candy', 'work'], 'squirrel': True},\n",
       " {'events': ['carrot', 'peanuts', 'brushed teeth', 'reading', 'work'],\n",
       "  'squirrel': False},\n",
       " {'events': ['potatoes', 'peanuts', 'brushed teeth', 'work'],\n",
       "  'squirrel': False},\n",
       " {'events': ['carrot', 'nachos', 'brushed teeth', 'exercise', 'work'],\n",
       "  'squirrel': False},\n",
       " {'events': ['pizza', 'peanuts', 'brushed teeth', 'television', 'weekend'],\n",
       "  'squirrel': False},\n",
       " {'events': ['lasagna', 'brushed teeth', 'cycling', 'weekend'],\n",
       "  'squirrel': False},\n",
       " {'events': ['cauliflower',\n",
       "   'peanuts',\n",
       "   'brushed teeth',\n",
       "   'computer',\n",
       "   'work',\n",
       "   'touched tree'],\n",
       "  'squirrel': False},\n",
       " {'events': ['lettuce', 'brushed teeth', 'television', 'work'],\n",
       "  'squirrel': False},\n",
       " {'events': ['potatoes', 'brushed teeth', 'computer', 'work'],\n",
       "  'squirrel': False},\n",
       " {'events': ['bread', 'candy', 'work'], 'squirrel': False},\n",
       " {'events': ['potatoes', 'nachos', 'work'], 'squirrel': False},\n",
       " {'events': ['carrot', 'pudding', 'brushed teeth', 'weekend'],\n",
       "  'squirrel': False},\n",
       " {'events': ['carrot', 'brushed teeth', 'exercise', 'weekend', 'touched tree'],\n",
       "  'squirrel': False},\n",
       " {'events': ['brussel sprouts', 'running', 'work'], 'squirrel': False},\n",
       " {'events': ['brushed teeth', 'work'], 'squirrel': False},\n",
       " {'events': ['lettuce', 'brushed teeth', 'running', 'work'],\n",
       "  'squirrel': False},\n",
       " {'events': ['candy', 'brushed teeth', 'work'], 'squirrel': False},\n",
       " {'events': ['brussel sprouts', 'brushed teeth', 'computer', 'work'],\n",
       "  'squirrel': False},\n",
       " {'events': ['bread', 'brushed teeth', 'weekend'], 'squirrel': False},\n",
       " {'events': ['cauliflower', 'brushed teeth', 'weekend'], 'squirrel': False},\n",
       " {'events': ['spaghetti', 'candy', 'television', 'work', 'touched tree'],\n",
       "  'squirrel': False},\n",
       " {'events': ['carrot', 'pudding', 'brushed teeth', 'work'], 'squirrel': False},\n",
       " {'events': ['lettuce', 'brushed teeth', 'work'], 'squirrel': False},\n",
       " {'events': ['carrot', 'ice cream', 'brushed teeth', 'cycling', 'work'],\n",
       "  'squirrel': False},\n",
       " {'events': ['pizza', 'brushed teeth', 'work'], 'squirrel': False},\n",
       " {'events': ['spaghetti', 'peanuts', 'exercise', 'weekend'], 'squirrel': True},\n",
       " {'events': ['bread', 'beer', 'computer', 'weekend', 'touched tree'],\n",
       "  'squirrel': False},\n",
       " {'events': ['brushed teeth', 'running', 'work'], 'squirrel': False},\n",
       " {'events': ['lettuce', 'peanuts', 'brushed teeth', 'work', 'touched tree'],\n",
       "  'squirrel': False},\n",
       " {'events': ['lasagna', 'brushed teeth', 'television', 'work'],\n",
       "  'squirrel': False},\n",
       " {'events': ['cauliflower', 'brushed teeth', 'running', 'work'],\n",
       "  'squirrel': False},\n",
       " {'events': ['carrot', 'brushed teeth', 'running', 'work'], 'squirrel': False},\n",
       " {'events': ['carrot', 'reading', 'weekend'], 'squirrel': False},\n",
       " {'events': ['carrot', 'peanuts', 'reading', 'weekend'], 'squirrel': True},\n",
       " {'events': ['potatoes', 'brushed teeth', 'running', 'work'],\n",
       "  'squirrel': False},\n",
       " {'events': ['lasagna', 'ice cream', 'work', 'touched tree'],\n",
       "  'squirrel': False},\n",
       " {'events': ['cauliflower', 'peanuts', 'brushed teeth', 'cycling', 'work'],\n",
       "  'squirrel': False},\n",
       " {'events': ['pizza', 'brushed teeth', 'running', 'work'], 'squirrel': False},\n",
       " {'events': ['lettuce', 'brushed teeth', 'work'], 'squirrel': False},\n",
       " {'events': ['bread', 'brushed teeth', 'television', 'weekend'],\n",
       "  'squirrel': False},\n",
       " {'events': ['cauliflower', 'peanuts', 'brushed teeth', 'weekend'],\n",
       "  'squirrel': False}]"
      ]
     },
     "execution_count": 6,
     "metadata": {},
     "output_type": "execute_result"
    }
   ],
   "source": [
    "with open(\"static/journal.json\", mode='r') as f:\n",
    "    journal = json.load(f)\n",
    "journal"
   ]
  },
  {
   "cell_type": "code",
   "execution_count": 7,
   "metadata": {},
   "outputs": [
    {
     "data": {
      "text/plain": [
       "5"
      ]
     },
     "execution_count": 7,
     "metadata": {},
     "output_type": "execute_result"
    }
   ],
   "source": [
    "def squirrelCount(journal):\n",
    "    counter = 0\n",
    "    for record in journal:\n",
    "        if record['squirrel']:\n",
    "            counter += 1\n",
    "    return counter\n",
    "    \n",
    "squirrelCount(journal)"
   ]
  },
  {
   "cell_type": "code",
   "execution_count": 8,
   "metadata": {},
   "outputs": [
    {
     "data": {
      "text/plain": [
       "0.06859943405700354"
      ]
     },
     "execution_count": 8,
     "metadata": {},
     "output_type": "execute_result"
    }
   ],
   "source": [
    "from math import sqrt\n",
    "\n",
    "def phi(n00:int, n01:int, n10:int, n11:int) -> float:\n",
    "    return (n11*n00-n10*n01) / sqrt((n10+n11) * (n01+n00) * (n01+n11) * (n10+n00))\n",
    "\n",
    "phi(76, 9, 4, 1)"
   ]
  },
  {
   "cell_type": "code",
   "execution_count": 34,
   "metadata": {},
   "outputs": [
    {
     "data": {
      "text/plain": [
       "[76, 9, 4, 1]"
      ]
     },
     "execution_count": 34,
     "metadata": {},
     "output_type": "execute_result"
    }
   ],
   "source": [
    "def tableFor(event: str, journal = journal) -> tuple:\n",
    "    table = [0,0,0,0] # 4*[0]\n",
    "    for record in journal:\n",
    "        if event in record['events'] and record['squirrel']:\n",
    "            table[3] += 1\n",
    "        if event not in record['events'] and record['squirrel']:\n",
    "            table[2] += 1\n",
    "        if event in record['events'] and not record['squirrel']:\n",
    "            table[1] += 1\n",
    "        if event not in record['events'] and not record['squirrel']:\n",
    "            table[0] += 1\n",
    "        #table[(event in record['events']) + 2 * record['squirrel']] += 1\n",
    "    return table\n",
    "    \n",
    "    \n",
    "tableFor('pizza') # (76, 9, 4, 1)"
   ]
  },
  {
   "cell_type": "code",
   "execution_count": 39,
   "metadata": {},
   "outputs": [
    {
     "data": {
      "text/plain": [
       "{'beer',\n",
       " 'bread',\n",
       " 'brushed teeth',\n",
       " 'brussel sprouts',\n",
       " 'candy',\n",
       " 'carrot',\n",
       " 'cauliflower',\n",
       " 'computer',\n",
       " 'cycling',\n",
       " 'dentist',\n",
       " 'exercise',\n",
       " 'ice cream',\n",
       " 'lasagna',\n",
       " 'lettuce',\n",
       " 'nachos',\n",
       " 'peanuts',\n",
       " 'pizza',\n",
       " 'potatoes',\n",
       " 'pudding',\n",
       " 'reading',\n",
       " 'running',\n",
       " 'spaghetti',\n",
       " 'television',\n",
       " 'touched tree',\n",
       " 'weekend',\n",
       " 'work'}"
      ]
     },
     "execution_count": 39,
     "metadata": {},
     "output_type": "execute_result"
    }
   ],
   "source": [
    "def journalEvents(journal):\n",
    "    events = set()\n",
    "    for record in journal:\n",
    "        events.update(record['events'])\n",
    "    return events\n",
    "\n",
    "journalEvents(journal)"
   ]
  },
  {
   "cell_type": "code",
   "execution_count": 47,
   "metadata": {},
   "outputs": [
    {
     "data": {
      "text/plain": [
       "[('brushed teeth', -0.3805211953235953),\n",
       " ('work', -0.13719886811400708),\n",
       " ('running', -0.09050203323329065),\n",
       " ('potatoes', -0.08574929257125442),\n",
       " ('cauliflower', -0.08084520834544433),\n",
       " ('touched tree', -0.08084520834544433),\n",
       " ('ice cream', -0.08084520834544433),\n",
       " ('cycling', -0.08084520834544433),\n",
       " ('television', -0.08084520834544433),\n",
       " ('bread', -0.07575540190785703),\n",
       " ('lettuce', -0.07043451251197408),\n",
       " ('nachos', -0.07043451251197408),\n",
       " ('pudding', -0.06482037235521644),\n",
       " ('beer', -0.05230657809659414),\n",
       " ('brussel sprouts', -0.05230657809659414),\n",
       " ('dentist', -0.036563621206356534),\n",
       " ('carrot', 0.014097096860865023),\n",
       " ('computer', 0.06859943405700354),\n",
       " ('exercise', 0.06859943405700354),\n",
       " ('pizza', 0.06859943405700354),\n",
       " ('lasagna', 0.08084520834544433),\n",
       " ('reading', 0.11068280537595927),\n",
       " ('candy', 0.12964074471043288),\n",
       " ('weekend', 0.13719886811400708),\n",
       " ('spaghetti', 0.242535625036333),\n",
       " ('peanuts', 0.59026798116852)]"
      ]
     },
     "execution_count": 47,
     "metadata": {},
     "output_type": "execute_result"
    }
   ],
   "source": [
    "corelation = {}\n",
    "for event in journalEvents(journal):\n",
    "    table = tableFor(event, journal)\n",
    "    corelation[event] = phi(*table)\n",
    "    \n",
    "sorted(corelation.items(), key=lambda item: item[1])"
   ]
  }
 ],
 "metadata": {
  "interpreter": {
   "hash": "351af123f4fda19bbbaa019f11d818f2fe3be1acc9ebf40e93daf054b80fd89f"
  },
  "kernelspec": {
   "display_name": "Python 3.9.7 64-bit ('venv': venv)",
   "language": "python",
   "name": "python3"
  },
  "language_info": {
   "codemirror_mode": {
    "name": "ipython",
    "version": 3
   },
   "file_extension": ".py",
   "mimetype": "text/x-python",
   "name": "python",
   "nbconvert_exporter": "python",
   "pygments_lexer": "ipython3",
   "version": "3.9.7"
  },
  "orig_nbformat": 4
 },
 "nbformat": 4,
 "nbformat_minor": 2
}
