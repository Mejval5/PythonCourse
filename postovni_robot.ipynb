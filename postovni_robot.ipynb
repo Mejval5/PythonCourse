{
 "cells": [
  {
   "cell_type": "code",
   "execution_count": 1,
   "metadata": {},
   "outputs": [],
   "source": [
    "roads = [\n",
    "  \"Alice's House-Bob's House\",   \"Alice's House-Cabin\",\n",
    "  \"Alice's House-Post Office\",   \"Bob's House-Town Hall\",\n",
    "  \"Daria's House-Ernie's House\", \"Daria's House-Town Hall\",\n",
    "  \"Ernie's House-Grete's House\", \"Grete's House-Farm\",\n",
    "  \"Grete's House-Shop\",          \"Marketplace-Farm\",\n",
    "  \"Marketplace-Post Office\",     \"Marketplace-Shop\",\n",
    "  \"Marketplace-Town Hall\",       \"Shop-Town Hall\"\n",
    "]"
   ]
  },
  {
   "cell_type": "code",
   "execution_count": 7,
   "metadata": {},
   "outputs": [
    {
     "data": {
      "text/plain": [
       "{\"Alice's House\": {\"Bob's House\", 'Cabin', 'Post Office'},\n",
       " \"Bob's House\": {\"Alice's House\", 'Town Hall'},\n",
       " 'Cabin': {\"Alice's House\"},\n",
       " 'Post Office': {\"Alice's House\", 'Marketplace'},\n",
       " 'Town Hall': {\"Bob's House\", \"Daria's House\", 'Marketplace', 'Shop'},\n",
       " \"Daria's House\": {\"Ernie's House\", 'Town Hall'},\n",
       " \"Ernie's House\": {\"Daria's House\", \"Grete's House\"},\n",
       " \"Grete's House\": {\"Ernie's House\", 'Farm', 'Shop'},\n",
       " 'Farm': {\"Grete's House\", 'Marketplace'},\n",
       " 'Shop': {\"Grete's House\", 'Marketplace', 'Town Hall'},\n",
       " 'Marketplace': {'Farm', 'Post Office', 'Shop', 'Town Hall'}}"
      ]
     },
     "execution_count": 7,
     "metadata": {},
     "output_type": "execute_result"
    }
   ],
   "source": [
    "class Mesto:\n",
    "    def __init__(self, cesty:list[str]):\n",
    "        self._cesty = {}\n",
    "        def pridej(key, value):\n",
    "            if key not in self._cesty:\n",
    "                self._cesty[key] = {value}\n",
    "            else:\n",
    "                self._cesty[key].add(value)\n",
    "                \n",
    "        for cesta in cesty:\n",
    "            z, do = cesta.split('-')\n",
    "            pridej(z, do)\n",
    "            pridej(do, z)\n",
    "    \n",
    "    def cesty(self, z: str) -> tuple[str]:\n",
    "        return tuple(self._cesty[z])\n",
    "\n",
    "mesto = Mesto(roads)\n",
    "mesto._cesty"
   ]
  },
  {
   "cell_type": "code",
   "execution_count": 8,
   "metadata": {},
   "outputs": [
    {
     "data": {
      "text/plain": [
       "(\"Bob's House\", 'Cabin', 'Post Office')"
      ]
     },
     "execution_count": 8,
     "metadata": {},
     "output_type": "execute_result"
    }
   ],
   "source": [
    "mesto.cesty(\"Alice's House\")"
   ]
  }
 ],
 "metadata": {
  "interpreter": {
   "hash": "351af123f4fda19bbbaa019f11d818f2fe3be1acc9ebf40e93daf054b80fd89f"
  },
  "kernelspec": {
   "display_name": "Python 3.9.7 64-bit ('venv': venv)",
   "language": "python",
   "name": "python3"
  },
  "language_info": {
   "codemirror_mode": {
    "name": "ipython",
    "version": 3
   },
   "file_extension": ".py",
   "mimetype": "text/x-python",
   "name": "python",
   "nbconvert_exporter": "python",
   "pygments_lexer": "ipython3",
   "version": "3.9.7"
  },
  "orig_nbformat": 4
 },
 "nbformat": 4,
 "nbformat_minor": 2
}
