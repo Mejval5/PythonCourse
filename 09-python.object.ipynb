{
 "cells": [
  {
   "cell_type": "markdown",
   "id": "fe995c08",
   "metadata": {},
   "source": [
    "# Třídy a objekty\n",
    "Svět vnímáme jako množinu objektů, které mezi sebou vzájemně interagují. \n",
    "\n",
    "V OOP se snažíme tyto objekty popsat\n",
    "- vlastnosti objektů\n",
    "- operace / metody, které může objekt provádět\n",
    "- vztahy mezi nimi\n",
    "\n",
    "![](media/oop.png)\n",
    "\n",
    "K vnitřnostem objektu můžeme přistupovat pomocí tečky. Často představuje věci z reálného světa."
   ]
  },
  {
   "cell_type": "code",
   "execution_count": 1,
   "id": "8a14403a",
   "metadata": {},
   "outputs": [
    {
     "name": "stdout",
     "output_type": "stream",
     "text": [
      "11\n",
      "11\n"
     ]
    }
   ],
   "source": [
    "objekt = \"Iron Maiden\"\n",
    "\n",
    "print(len(objekt))\n",
    "\n",
    "print(objekt.__len__())"
   ]
  },
  {
   "cell_type": "markdown",
   "id": "7a4f96f1",
   "metadata": {},
   "source": [
    "Objekky se organizují do hirearchické struktuty. Jejím kořenem je `Object`\n",
    "\n",
    "## Základní pojmy OOP\n",
    "### Třída\n",
    "Obecný předpis pro vytvoření objektu. Obsahuje:\n",
    "\n",
    "Atributy = proměnné zabalené v objektu.\n",
    "Metody = funkce zabalené v objektu."
   ]
  },
  {
   "cell_type": "code",
   "execution_count": 2,
   "id": "00382f1c",
   "metadata": {},
   "outputs": [],
   "source": [
    "class Pes:\n",
    "    def stekni(self):\n",
    "        print(self.jmeno + \": haf\")"
   ]
  },
  {
   "cell_type": "markdown",
   "id": "d7d6d63a",
   "metadata": {},
   "source": [
    "### Instance (objekt)\n",
    "Vytvořený objekt, ten jeden konkrétní.\n",
    "\n",
    "![](media/oop_trieda_vs_objekt.png)\n",
    "\n",
    "Vytvoření instance třídy Pes"
   ]
  },
  {
   "cell_type": "code",
   "execution_count": 3,
   "id": "8b37e065",
   "metadata": {},
   "outputs": [
    {
     "name": "stdout",
     "output_type": "stream",
     "text": [
      "Alík: haf\n"
     ]
    }
   ],
   "source": [
    "alik = Pes()\n",
    "alik.jmeno = \"Alík\" \n",
    "alik.stekni()"
   ]
  },
  {
   "cell_type": "markdown",
   "id": "50f1ba7b",
   "metadata": {},
   "source": [
    "jiná instance téže třídy"
   ]
  },
  {
   "cell_type": "code",
   "execution_count": 7,
   "id": "3180a48e",
   "metadata": {
    "attributes": {
     "classes": [
      "pytho"
     ],
     "id": ""
    }
   },
   "outputs": [],
   "source": [
    "mazlik = Pes()\n",
    "#mazlik.jmeno = \"Mazlík\""
   ]
  },
  {
   "cell_type": "markdown",
   "id": "f54b0492",
   "metadata": {},
   "source": [
    "navzájem se neovlivňují"
   ]
  },
  {
   "cell_type": "code",
   "execution_count": 8,
   "id": "7e40beda",
   "metadata": {},
   "outputs": [
    {
     "name": "stdout",
     "output_type": "stream",
     "text": [
      "Alík\n"
     ]
    },
    {
     "ename": "AttributeError",
     "evalue": "'Pes' object has no attribute 'jmeno'",
     "output_type": "error",
     "traceback": [
      "\u001b[0;31m---------------------------------------------------------------------------\u001b[0m",
      "\u001b[0;31mAttributeError\u001b[0m                            Traceback (most recent call last)",
      "\u001b[0;32m/tmp/ipykernel_9626/967046720.py\u001b[0m in \u001b[0;36m<module>\u001b[0;34m\u001b[0m\n\u001b[1;32m      1\u001b[0m \u001b[0mprint\u001b[0m\u001b[0;34m(\u001b[0m\u001b[0malik\u001b[0m\u001b[0;34m.\u001b[0m\u001b[0mjmeno\u001b[0m\u001b[0;34m)\u001b[0m\u001b[0;34m\u001b[0m\u001b[0;34m\u001b[0m\u001b[0m\n\u001b[0;32m----> 2\u001b[0;31m \u001b[0mprint\u001b[0m\u001b[0;34m(\u001b[0m\u001b[0mmazlik\u001b[0m\u001b[0;34m.\u001b[0m\u001b[0mjmeno\u001b[0m\u001b[0;34m)\u001b[0m\u001b[0;34m\u001b[0m\u001b[0;34m\u001b[0m\u001b[0m\n\u001b[0m",
      "\u001b[0;31mAttributeError\u001b[0m: 'Pes' object has no attribute 'jmeno'"
     ]
    }
   ],
   "source": [
    "print(alik.jmeno)\n",
    "print(mazlik.jmeno)"
   ]
  },
  {
   "cell_type": "markdown",
   "id": "7eeebaa1",
   "metadata": {},
   "source": [
    "avšak mají společné chování (definované v třídě Pes)"
   ]
  },
  {
   "cell_type": "code",
   "execution_count": 9,
   "id": "47e92513",
   "metadata": {},
   "outputs": [
    {
     "name": "stdout",
     "output_type": "stream",
     "text": [
      "Alík: haf\n"
     ]
    },
    {
     "ename": "AttributeError",
     "evalue": "'Pes' object has no attribute 'jmeno'",
     "output_type": "error",
     "traceback": [
      "\u001b[0;31m---------------------------------------------------------------------------\u001b[0m",
      "\u001b[0;31mAttributeError\u001b[0m                            Traceback (most recent call last)",
      "\u001b[0;32m/tmp/ipykernel_9626/3346969117.py\u001b[0m in \u001b[0;36m<module>\u001b[0;34m\u001b[0m\n\u001b[1;32m      1\u001b[0m \u001b[0malik\u001b[0m\u001b[0;34m.\u001b[0m\u001b[0mstekni\u001b[0m\u001b[0;34m(\u001b[0m\u001b[0;34m)\u001b[0m\u001b[0;34m\u001b[0m\u001b[0;34m\u001b[0m\u001b[0m\n\u001b[0;32m----> 2\u001b[0;31m \u001b[0mmazlik\u001b[0m\u001b[0;34m.\u001b[0m\u001b[0mstekni\u001b[0m\u001b[0;34m(\u001b[0m\u001b[0;34m)\u001b[0m\u001b[0;34m\u001b[0m\u001b[0;34m\u001b[0m\u001b[0m\n\u001b[0m",
      "\u001b[0;32m/tmp/ipykernel_9626/274718463.py\u001b[0m in \u001b[0;36mstekni\u001b[0;34m(self)\u001b[0m\n\u001b[1;32m      1\u001b[0m \u001b[0;32mclass\u001b[0m \u001b[0mPes\u001b[0m\u001b[0;34m:\u001b[0m\u001b[0;34m\u001b[0m\u001b[0;34m\u001b[0m\u001b[0m\n\u001b[1;32m      2\u001b[0m     \u001b[0;32mdef\u001b[0m \u001b[0mstekni\u001b[0m\u001b[0;34m(\u001b[0m\u001b[0mself\u001b[0m\u001b[0;34m)\u001b[0m\u001b[0;34m:\u001b[0m\u001b[0;34m\u001b[0m\u001b[0;34m\u001b[0m\u001b[0m\n\u001b[0;32m----> 3\u001b[0;31m         \u001b[0mprint\u001b[0m\u001b[0;34m(\u001b[0m\u001b[0mself\u001b[0m\u001b[0;34m.\u001b[0m\u001b[0mjmeno\u001b[0m \u001b[0;34m+\u001b[0m \u001b[0;34m\": haf\"\u001b[0m\u001b[0;34m)\u001b[0m\u001b[0;34m\u001b[0m\u001b[0;34m\u001b[0m\u001b[0m\n\u001b[0m",
      "\u001b[0;31mAttributeError\u001b[0m: 'Pes' object has no attribute 'jmeno'"
     ]
    }
   ],
   "source": [
    "alik.stekni()\n",
    "mazlik.stekni()"
   ]
  },
  {
   "cell_type": "markdown",
   "id": "82b79f6e",
   "metadata": {},
   "source": [
    "## OOP v Pythonu\n",
    "Python má oprotim jiným programovacim jazykům určitá specifika.\n",
    "\n",
    "### Metody a `self`\n",
    "První argument u **všech** metod. \n",
    "\n",
    "Automaticky ukazuje na aktuální instanci.\n",
    "\n",
    "Test metoda bez argumentů vypadá následovnš:"
   ]
  },
  {
   "cell_type": "code",
   "execution_count": null,
   "id": "4a753b12",
   "metadata": {},
   "outputs": [],
   "source": [
    "class Trida:\n",
    "    # Metoda\n",
    "    def metoda(self, *args):\n",
    "        pass"
   ]
  },
  {
   "cell_type": "markdown",
   "id": "60350400",
   "metadata": {},
   "source": [
    "### Konstruktor `__init__`\n",
    "Metoda, která se volá hned při vytvoření instance"
   ]
  },
  {
   "cell_type": "code",
   "execution_count": 10,
   "id": "afb8cf32",
   "metadata": {},
   "outputs": [
    {
     "name": "stdout",
     "output_type": "stream",
     "text": [
      "Alik: haf\n"
     ]
    }
   ],
   "source": [
    "class Pes(object):\n",
    "    def __init__(self, jmeno):\n",
    "        self.jmeno = jmeno\n",
    "        \n",
    "    def stekni(self):\n",
    "        print(self.jmeno + \": haf\")\n",
    "        \n",
    "alik = Pes(\"Alik\")\n",
    "alik.stekni()"
   ]
  },
  {
   "cell_type": "markdown",
   "id": "fc5174d9",
   "metadata": {},
   "source": [
    "> #### Příklad\n",
    "> Vytvořte třídu Kniha.\n",
    ">\n",
    "> Ta bude mít následující atributy:\n",
    "> - `nazev`\n",
    "> - `jmeno_autora`\n",
    "> - `text`\n",
    ">\n",
    "> Ke knize vytvořte konstrukto, který bude vyžadovat `nazev` a `jmeno_autora`, ale tředí parametr `text` text bude volitelný."
   ]
  },
  {
   "cell_type": "code",
   "execution_count": 25,
   "id": "5ec488b0",
   "metadata": {},
   "outputs": [],
   "source": [
    "# Přiklad: trida\n",
    "class Kniha:\n",
    "    \n",
    "    def __init__(self, nazev: str, jmeno_autora: str, text: str = None) -> 'Kniha':\n",
    "        if not isinstance(nazev, str):\n",
    "            raise ValueError('...')\n",
    "            \n",
    "        self.nazev = nazev\n",
    "        self.jmeno_autora = jmeno_autora\n",
    "        self.text = text\n",
    "    \n",
    "    def printInfo(self):\n",
    "        print('Nazev:', self.nazev)\n",
    "        print('Autor:', self.jmeno_autora)\n",
    "        print('Text:', self.text)"
   ]
  },
  {
   "cell_type": "markdown",
   "id": "1b127e05",
   "metadata": {},
   "source": [
    ">\n",
    "> Vytvořte třídu kniha s vaší oblíbenou knihou."
   ]
  },
  {
   "cell_type": "code",
   "execution_count": 27,
   "id": "568fd24d",
   "metadata": {},
   "outputs": [
    {
     "name": "stdout",
     "output_type": "stream",
     "text": [
      "Nazev: {'title': 'Hobit'}\n",
      "Autor: J.R.R.Tolkien\n",
      "Text: None\n"
     ]
    }
   ],
   "source": [
    "# Přiklad: pouziti tridy\n",
    "hobit = Kniha('Hobit', 'J.R.R.Tolkien')\n",
    "hobit.nazev = {'title': 'Hobit'}\n",
    "hobit.printInfo()"
   ]
  },
  {
   "cell_type": "markdown",
   "id": "a9e73861",
   "metadata": {},
   "source": [
    "### Atributy (proměnná patřící objektu)\n",
    "Atribut uchovává data patřící objektu.\n",
    "Každý vytvořený objekt má atributy s jeho vlasními hodnotami.\n",
    "V pythonu se mohou vytvořit kdykoliv."
   ]
  },
  {
   "cell_type": "code",
   "execution_count": null,
   "id": "7da263c5",
   "metadata": {},
   "outputs": [],
   "source": [
    "alik.rasa = \"Jezevčík\"\n",
    "print(alik.rasa)"
   ]
  },
  {
   "cell_type": "markdown",
   "id": "aabfa7bf",
   "metadata": {},
   "source": [
    "Lepší variantou je definovat je v konstruktoru"
   ]
  },
  {
   "cell_type": "code",
   "execution_count": null,
   "id": "61361228",
   "metadata": {},
   "outputs": [],
   "source": [
    "class Pes(object):\n",
    "    def __init__(self, jmeno):\n",
    "        self.jmeno = jmeno\n",
    "        \n",
    "alik = Pes(\"Alik\")\n",
    "print(alik.jmeno)"
   ]
  },
  {
   "cell_type": "markdown",
   "id": "eaf19816",
   "metadata": {},
   "source": [
    "A dají se kdykoliv měnit"
   ]
  },
  {
   "cell_type": "code",
   "execution_count": null,
   "id": "2202ca1d",
   "metadata": {},
   "outputs": [],
   "source": [
    "alik = Pes(\"Alik\")\n",
    "alik.jmeno = \"Jezevčík\"\n",
    "print(alik.jmeno)"
   ]
  },
  {
   "cell_type": "markdown",
   "id": "52c9826b",
   "metadata": {},
   "source": [
    "> #### Příklad:\n",
    "> Vytvořte třídu Knihovna, která bude evidovat Knihy. \n",
    "> Knihovna bude mít metody na přidávání knihy a vypisání knih."
   ]
  },
  {
   "cell_type": "code",
   "execution_count": 39,
   "id": "ede493df",
   "metadata": {},
   "outputs": [
    {
     "name": "stdout",
     "output_type": "stream",
     "text": [
      "None\n"
     ]
    },
    {
     "data": {
      "text/plain": [
       "[<__main__.Kniha at 0x7efc26eb1df0>]"
      ]
     },
     "execution_count": 39,
     "metadata": {},
     "output_type": "execute_result"
    }
   ],
   "source": [
    "# Řešení\n",
    "class Knihovna:\n",
    "    def __init__(self) -> None:\n",
    "        self.knihy = []\n",
    "        \n",
    "    def add(self, kniha: Kniha):\n",
    "        self.knihy.append(kniha)\n",
    "        \n",
    "my = Knihovna()\n",
    "my.add(hobit)\n",
    "my.knihy"
   ]
  },
  {
   "cell_type": "code",
   "execution_count": 43,
   "id": "6999ea4c",
   "metadata": {},
   "outputs": [
    {
     "name": "stdout",
     "output_type": "stream",
     "text": [
      "407 ns ± 15 ns per loop (mean ± std. dev. of 7 runs, 1000000 loops each)\n"
     ]
    }
   ],
   "source": [
    "my = Knihovna()\n",
    "my.add(hobit)\n",
    "my.knihy"
   ]
  },
  {
   "cell_type": "code",
   "execution_count": 42,
   "id": "ee662f89",
   "metadata": {},
   "outputs": [
    {
     "data": {
      "text/plain": [
       "([], [<__main__.Kniha at 0x7efc26eb1df0>])"
      ]
     },
     "execution_count": 42,
     "metadata": {},
     "output_type": "execute_result"
    }
   ],
   "source": [
    "class KnihovnaIm:\n",
    "    def __init__(self, knihy = []) -> None:\n",
    "        self.knihy = knihy\n",
    "        \n",
    "    def add(self, kniha: Kniha) -> 'KnihovnaIm':\n",
    "        return KnihovnaIm(self.knihy + [kniha])\n",
    "    \n"
   ]
  },
  {
   "cell_type": "code",
   "execution_count": 45,
   "id": "2cfd6d43",
   "metadata": {},
   "outputs": [
    {
     "data": {
      "text/plain": [
       "[<__main__.Kniha at 0x7efc26eb1df0>, 'Neco']"
      ]
     },
     "execution_count": 45,
     "metadata": {},
     "output_type": "execute_result"
    }
   ],
   "source": [
    "my = KnihovnaIm()\n",
    "my2 = my.add(hobit)\n",
    "my2.knihy.append('Neco')\n",
    "my2.knihy"
   ]
  },
  {
   "cell_type": "markdown",
   "id": "83087679",
   "metadata": {},
   "source": [
    "### Privátní atributy\n",
    "Pro lepší přehlednost je jepší metody a atributy.\n",
    "Ty není vidět mimo Třídu. V pythonu je označují jednim nebo dvěma `_` před jménem.\n",
    "- Pokud použijete jeden `_`: pak defakto není atribut privatní v pravém slova smyslu, ale všichni tomu budou rozmět a budu se tak k němu chovat.\n",
    "- Pokud použije dva `__`: pak Pyhton vyhodí chybu, když se k atributu bude snažit někdo přistoupit.\n",
    "\n",
    "Dvě `__`"
   ]
  },
  {
   "cell_type": "code",
   "execution_count": 31,
   "id": "c91dbcc1",
   "metadata": {},
   "outputs": [
    {
     "name": "stdout",
     "output_type": "stream",
     "text": [
      "123\n"
     ]
    },
    {
     "ename": "AttributeError",
     "evalue": "'Trida' object has no attribute '__soukromy_atribut'",
     "output_type": "error",
     "traceback": [
      "\u001b[0;31m---------------------------------------------------------------------------\u001b[0m",
      "\u001b[0;31mAttributeError\u001b[0m                            Traceback (most recent call last)",
      "\u001b[0;32m/tmp/ipykernel_9626/1136827246.py\u001b[0m in \u001b[0;36m<module>\u001b[0;34m\u001b[0m\n\u001b[1;32m      7\u001b[0m \u001b[0ma\u001b[0m \u001b[0;34m=\u001b[0m \u001b[0mTrida\u001b[0m\u001b[0;34m(\u001b[0m\u001b[0;34m)\u001b[0m\u001b[0;34m\u001b[0m\u001b[0;34m\u001b[0m\u001b[0m\n\u001b[1;32m      8\u001b[0m \u001b[0ma\u001b[0m\u001b[0;34m.\u001b[0m\u001b[0mprint_soukromy_atribut\u001b[0m\u001b[0;34m(\u001b[0m\u001b[0;34m)\u001b[0m\u001b[0;34m\u001b[0m\u001b[0;34m\u001b[0m\u001b[0m\n\u001b[0;32m----> 9\u001b[0;31m \u001b[0mprint\u001b[0m\u001b[0;34m(\u001b[0m\u001b[0ma\u001b[0m\u001b[0;34m.\u001b[0m\u001b[0m__soukromy_atribut\u001b[0m\u001b[0;34m)\u001b[0m \u001b[0;31m# chyba\u001b[0m\u001b[0;34m\u001b[0m\u001b[0;34m\u001b[0m\u001b[0m\n\u001b[0m",
      "\u001b[0;31mAttributeError\u001b[0m: 'Trida' object has no attribute '__soukromy_atribut'"
     ]
    }
   ],
   "source": [
    "class Trida:\n",
    "    def __init__(self):\n",
    "        self.__soukromy_atribut = 123\n",
    "    def print_soukromy_atribut(self):\n",
    "        print(self.__soukromy_atribut)\n",
    "\n",
    "a = Trida()\n",
    "a.print_soukromy_atribut()\n",
    "print(a.__soukromy_atribut) # chyba"
   ]
  },
  {
   "cell_type": "markdown",
   "id": "2d637e00",
   "metadata": {},
   "source": [
    "Jedno `_`"
   ]
  },
  {
   "cell_type": "code",
   "execution_count": 32,
   "id": "48ee79ef",
   "metadata": {},
   "outputs": [
    {
     "name": "stdout",
     "output_type": "stream",
     "text": [
      "123\n"
     ]
    }
   ],
   "source": [
    "class Trida:\n",
    "    def __init__(self):\n",
    "        self._jako_soukromy = 123\n",
    "\n",
    "a = Trida()\n",
    "print(a._jako_soukromy)"
   ]
  },
  {
   "cell_type": "markdown",
   "id": "1663668d",
   "metadata": {},
   "source": [
    "Symbolem `_` můžeme označit i metody"
   ]
  },
  {
   "cell_type": "code",
   "execution_count": 33,
   "id": "86cf0959",
   "metadata": {},
   "outputs": [
    {
     "name": "stdout",
     "output_type": "stream",
     "text": [
      "['BŽ', '10000']\n",
      "BŽ 10000\n"
     ]
    }
   ],
   "source": [
    "class  Smartphone (object):\n",
    "    def __init__(self, oznaceni):\n",
    "        casti = oznaceni.split()\n",
    "        # privátní atributy\n",
    "        self._vyrobce = casti[0]\n",
    "        self._model = casti[1:]\n",
    "        \n",
    "    # privátní metoda\n",
    "    def _update_systemu(self):\n",
    "        print(\"updatuji system\")\n",
    "    def vypis_model(self):\n",
    "        print(\" \".join(self._model))\n",
    "        \n",
    "mobil = Smartphone(\"Huňavej BŽ 10000\")\n",
    "    \n",
    "# NE - tohle nikdy\n",
    "print(mobil._model)\n",
    "\n",
    "# správně\n",
    "mobil.vypis_model()"
   ]
  },
  {
   "cell_type": "markdown",
   "id": "b6573d13",
   "metadata": {},
   "source": [
    "> #### Příklad:\n",
    "> Upravte třídy Kniha a Knihovna tak aby jejich atributy byli chránenné proti nevhodnému změnění. \n",
    "> \n",
    "> Vytvořte metody, které umožní čtení nově chráněných atributů."
   ]
  },
  {
   "cell_type": "code",
   "execution_count": 46,
   "id": "2b833d66",
   "metadata": {},
   "outputs": [],
   "source": [
    "# Řešení: Kniha\n",
    "class Kniha:\n",
    "    \n",
    "    def __init__(self, nazev: str, jmeno_autora: str, text: str = None) -> 'Kniha':\n",
    "        if not isinstance(nazev, str):\n",
    "            raise ValueError('...')\n",
    "            \n",
    "        self.__nazev = nazev\n",
    "        self.__jmeno_autora = jmeno_autora\n",
    "        self.__text = text\n",
    "    \n",
    "    def printInfo(self):\n",
    "        print('Nazev:', self.__nazev)\n",
    "        print('Autor:', self.__jmeno_autora)\n",
    "        print('Text:', self.__text)"
   ]
  },
  {
   "cell_type": "code",
   "execution_count": 49,
   "id": "259266b9",
   "metadata": {},
   "outputs": [
    {
     "ename": "AttributeError",
     "evalue": "'Kniha' object has no attribute 'nazev'",
     "output_type": "error",
     "traceback": [
      "\u001b[0;31m---------------------------------------------------------------------------\u001b[0m",
      "\u001b[0;31mAttributeError\u001b[0m                            Traceback (most recent call last)",
      "\u001b[0;32m/tmp/ipykernel_9626/1861439041.py\u001b[0m in \u001b[0;36m<module>\u001b[0;34m\u001b[0m\n\u001b[1;32m      1\u001b[0m \u001b[0mhobit\u001b[0m \u001b[0;34m=\u001b[0m \u001b[0mKniha\u001b[0m\u001b[0;34m(\u001b[0m\u001b[0;34m'Hobit'\u001b[0m\u001b[0;34m,\u001b[0m \u001b[0;34m'J.R.R.Tolkien'\u001b[0m\u001b[0;34m)\u001b[0m\u001b[0;34m\u001b[0m\u001b[0;34m\u001b[0m\u001b[0m\n\u001b[0;32m----> 2\u001b[0;31m \u001b[0mhobit\u001b[0m\u001b[0;34m.\u001b[0m\u001b[0mnazev\u001b[0m\u001b[0;34m\u001b[0m\u001b[0;34m\u001b[0m\u001b[0m\n\u001b[0m\u001b[1;32m      3\u001b[0m \u001b[0mhobit\u001b[0m\u001b[0;34m.\u001b[0m\u001b[0mprintInfo\u001b[0m\u001b[0;34m(\u001b[0m\u001b[0;34m)\u001b[0m\u001b[0;34m\u001b[0m\u001b[0;34m\u001b[0m\u001b[0m\n",
      "\u001b[0;31mAttributeError\u001b[0m: 'Kniha' object has no attribute 'nazev'"
     ]
    }
   ],
   "source": [
    "hobit = Kniha('Hobit', 'J.R.R.Tolkien')\n",
    "hobit.nazev\n",
    "hobit.printInfo()"
   ]
  },
  {
   "cell_type": "code",
   "execution_count": null,
   "id": "b7a05524",
   "metadata": {},
   "outputs": [],
   "source": [
    "# Řešení: Knihovna"
   ]
  },
  {
   "cell_type": "markdown",
   "id": "1a9d43a8",
   "metadata": {},
   "source": [
    "![](media/harry-python.png)\n",
    "\n",
    "## Dědičnost\n",
    "Vyjadřuje hierarchii tříd. Jedná se o specializaci objektů."
   ]
  },
  {
   "cell_type": "code",
   "execution_count": 50,
   "id": "a8bf85ec",
   "metadata": {},
   "outputs": [
    {
     "name": "stdout",
     "output_type": "stream",
     "text": [
      "Ahoj z metody rodice\n",
      "Ahoj z metody potomka\n"
     ]
    }
   ],
   "source": [
    "class Rodic:\n",
    "    def __init__(self):\n",
    "        self.x = 10\n",
    "    def metodaRodice(self):\n",
    "        print ('Ahoj z metody rodice')\n",
    "\n",
    "class Potomek(Rodic):\n",
    "    def __init__(self):\n",
    "        self.y = 20\n",
    "    def metodaPotomka(self):\n",
    "        print('Ahoj z metody potomka')\n",
    "\n",
    "\n",
    "a = Potomek()\n",
    "a.metodaRodice()\n",
    "a.metodaPotomka()"
   ]
  },
  {
   "cell_type": "markdown",
   "id": "3383b556",
   "metadata": {},
   "source": [
    "Atribut předka"
   ]
  },
  {
   "cell_type": "code",
   "execution_count": 51,
   "id": "572b6e42",
   "metadata": {},
   "outputs": [
    {
     "ename": "AttributeError",
     "evalue": "'Potomek' object has no attribute 'x'",
     "output_type": "error",
     "traceback": [
      "\u001b[0;31m---------------------------------------------------------------------------\u001b[0m",
      "\u001b[0;31mAttributeError\u001b[0m                            Traceback (most recent call last)",
      "\u001b[0;32m/tmp/ipykernel_9626/2567493210.py\u001b[0m in \u001b[0;36m<module>\u001b[0;34m\u001b[0m\n\u001b[0;32m----> 1\u001b[0;31m \u001b[0mprint\u001b[0m\u001b[0;34m(\u001b[0m\u001b[0ma\u001b[0m\u001b[0;34m.\u001b[0m\u001b[0mx\u001b[0m\u001b[0;34m,\u001b[0m \u001b[0ma\u001b[0m\u001b[0;34m.\u001b[0m\u001b[0my\u001b[0m\u001b[0;34m)\u001b[0m\u001b[0;34m\u001b[0m\u001b[0;34m\u001b[0m\u001b[0m\n\u001b[0m",
      "\u001b[0;31mAttributeError\u001b[0m: 'Potomek' object has no attribute 'x'"
     ]
    }
   ],
   "source": [
    "print(a.x, a.y)"
   ]
  },
  {
   "cell_type": "markdown",
   "id": "5884d01b",
   "metadata": {},
   "source": [
    "Volání konstruktoru rodice"
   ]
  },
  {
   "cell_type": "code",
   "execution_count": 58,
   "id": "727143b4",
   "metadata": {},
   "outputs": [
    {
     "name": "stdout",
     "output_type": "stream",
     "text": [
      "10\n",
      "20\n"
     ]
    }
   ],
   "source": [
    "class Rodic:\n",
    "    def __init__(self):\n",
    "        self.__x = 10\n",
    "    def info(self):\n",
    "        print(self.__x)\n",
    "\n",
    "class Potomek(Rodic):\n",
    "    def __init__(self):\n",
    "        super().__init__()\n",
    "        self.__x = 20\n",
    "    def info(self):\n",
    "        super().info()\n",
    "        print(self.__x)\n",
    "\n",
    "a = Potomek()\n",
    "a.info()"
   ]
  },
  {
   "cell_type": "markdown",
   "id": "ecff8bf0",
   "metadata": {},
   "source": [
    "### Komplexnější příklad"
   ]
  },
  {
   "cell_type": "code",
   "execution_count": null,
   "id": "209ebeac",
   "metadata": {},
   "outputs": [],
   "source": [
    "class DopravniProstredek(object):\n",
    "    def __init__(self, rychlost):\n",
    "        self.rychlost = rychlost\n",
    "    def cestuj(self, odkud, kam):\n",
    "        print(\"cestuji rychlostí\", self.rychlost, \"km/h z\", odkud, \"do\", kam)"
   ]
  },
  {
   "cell_type": "code",
   "execution_count": null,
   "id": "214e263b",
   "metadata": {},
   "outputs": [],
   "source": [
    "neco = DopravniProstredek(100000)\n",
    "neco.cestuj(\"obýváku\", \"nekonečno a ještě dál\")"
   ]
  },
  {
   "cell_type": "code",
   "execution_count": null,
   "id": "0b33e5e9",
   "metadata": {},
   "outputs": [],
   "source": [
    "class Auto(DopravniProstredek):\n",
    "    def nastartuj(self):\n",
    "        print(\"startuji motor\")"
   ]
  },
  {
   "cell_type": "code",
   "execution_count": null,
   "id": "0b16fb99",
   "metadata": {},
   "outputs": [],
   "source": [
    "skodovka = Auto(130)\n",
    "skodovka.nastartuj()\n",
    "skodovka.cestuj(\"Praha\", \"Plzeň\")"
   ]
  },
  {
   "cell_type": "markdown",
   "id": "d85dce22",
   "metadata": {},
   "source": [
    "> #### Příklad \n",
    "> Rozšiřte předchozí příklad o dědičnost.\n",
    "> Třída Kniha může mít potomka PujcenaKniha, jenž bude mít navíc atribut datum, do kdy se má vrátit do knihovny."
   ]
  },
  {
   "cell_type": "code",
   "execution_count": null,
   "id": "4b3b2048",
   "metadata": {},
   "outputs": [],
   "source": [
    "# Řešení"
   ]
  },
  {
   "cell_type": "markdown",
   "id": "05f17bfc",
   "metadata": {},
   "source": [
    "## Polymorfismus\n",
    "Používám více různých objektů stejným způsobem.\n",
    "\n",
    "více různých objektů"
   ]
  },
  {
   "cell_type": "code",
   "execution_count": null,
   "id": "0d199d5b",
   "metadata": {},
   "outputs": [],
   "source": [
    "class Auto(DopravniProstredek):\n",
    "    def __init__(self, rychlost):\n",
    "        super().__init__(rychlost)\n",
    "        \n",
    "    def nastartuj(self):\n",
    "        print(\"startuji motor\")\n",
    "        \n",
    "    def cestuj(self, odkud, kam):\n",
    "        self.nastartuj()\n",
    "        super().cestuj(odkud, kam)\n",
    "        \n",
    "trabant = Auto(90)\n",
    "porsche = Auto(300)\n",
    "kolobezka = DopravniProstredek(15)"
   ]
  },
  {
   "cell_type": "markdown",
   "id": "29e436ab",
   "metadata": {},
   "source": [
    "využití stejným způsobem"
   ]
  },
  {
   "cell_type": "code",
   "execution_count": null,
   "id": "0a54e2d5",
   "metadata": {},
   "outputs": [],
   "source": [
    "trabant.cestuj(\"Praha\", \"Brno\")\n",
    "porsche.cestuj(\"Praha\", \"Brno\")\n",
    "kolobezka.cestuj(\"Praha\", \"Brno\")\n",
    "\n"
   ]
  },
  {
   "cell_type": "markdown",
   "id": "eceb4e17",
   "metadata": {},
   "source": [
    "## Skládání\n",
    "Objekty obsahují jiné objekty."
   ]
  },
  {
   "cell_type": "code",
   "execution_count": null,
   "id": "5531ad8e",
   "metadata": {},
   "outputs": [],
   "source": [
    "class Garaz(object):\n",
    "    pass\n",
    "\n",
    "class Kolo(DopravniProstredek):\n",
    "    pass\n",
    "\n",
    "g = Garaz()\n",
    "g.prvni_misto = Auto(130)\n",
    "g.druhe_misto = Kolo(30)"
   ]
  },
  {
   "cell_type": "markdown",
   "id": "f275b459",
   "metadata": {},
   "source": [
    "řetězení tečkové notace"
   ]
  },
  {
   "cell_type": "code",
   "execution_count": null,
   "id": "891671f3",
   "metadata": {},
   "outputs": [],
   "source": [
    "g.prvni_misto.cestuj(\"garáž\", \"práce\")"
   ]
  },
  {
   "cell_type": "markdown",
   "id": "4a019d50",
   "metadata": {},
   "source": [
    "### Skládání nebo dědičnost?\n",
    "Typicky obojí dohromady.\n",
    "\n",
    "- **Dědičnost** - \"Co objekt je? Čeho je objekt specializací?\"\n",
    "- **Skládání** - \"Z jakých komplexních částí je objekt složen?\"\n",
    "\n",
    "> #### Příklad \n",
    "> Vyvořte třídu Autor, která bude chovávat `jmeno` a `prijmeni` autora.\n",
    "> Nezapomeňt atributy chranit proti nechtěnému změnění.\n",
    ">  \n",
    "> Upravte třídu Kniha by používala místo řetězce s jmenem autora objekt typu Autor."
   ]
  },
  {
   "cell_type": "code",
   "execution_count": null,
   "id": "7a2cafee",
   "metadata": {},
   "outputs": [],
   "source": [
    "# Řešení: Autor"
   ]
  },
  {
   "cell_type": "code",
   "execution_count": null,
   "id": "69899b74",
   "metadata": {},
   "outputs": [],
   "source": [
    "# Řešení: Kniha"
   ]
  },
  {
   "cell_type": "markdown",
   "id": "5ca8b1dd",
   "metadata": {},
   "source": [
    "### Atributy třídy\n",
    "Jedná se o proměnné, které napatří instaci objektu (jako například `jmeno` v našem příkladu se psy), ale třídě.\n",
    "Dá se říci, že všichni psi sdílejí (přistupují) k jedné stejné proměnné."
   ]
  },
  {
   "cell_type": "code",
   "execution_count": null,
   "id": "d100e53f",
   "metadata": {},
   "outputs": [],
   "source": [
    "class Pes(object):\n",
    "\n",
    "    # Atribut třídy Pes\n",
    "    pocet_psu = 0\n",
    "    def __init__(self, jmeno):\n",
    "        self.jmeno = jmeno # atribut instance\n",
    "        Pes.pocet_psu += 1 # atribut tridy\n",
    "    \n",
    "alik = Pes(\"Alik\")\n",
    "punta = Pes(\"Punta\")\n",
    "print(alik.jmeno)\n",
    "print(punta.jmeno)\n",
    "print(Pes.pocet_psu)"
   ]
  },
  {
   "cell_type": "markdown",
   "id": "3082ee8c",
   "metadata": {},
   "source": [
    "### Metody třídy\n",
    "Podobně jak třída může mít atributy, ale také metody.\n",
    "- Ty se označují *Annotací* `@classmethod`.\n",
    "- Místo parametru `self` mají parametr `cls`"
   ]
  },
  {
   "cell_type": "code",
   "execution_count": null,
   "id": "3de56f76",
   "metadata": {},
   "outputs": [],
   "source": [
    "class Trida():\n",
    "\n",
    "    @classmethod\n",
    "    def class_f(cls):\n",
    "        print(\"Metoda tridy:\" + str(cls))\n",
    "\n",
    "t = Trida()\n",
    "t.class_f()\n",
    "Trida.class_f()"
   ]
  },
  {
   "cell_type": "markdown",
   "id": "23552546",
   "metadata": {},
   "source": [
    "> #### Příklad:\n",
    "> Vytvořte proměnou třídy, jenž bude počítat počet instancí *Knih*. \n",
    "> Tato hodnota bude vrácena skrze metodu třídy."
   ]
  },
  {
   "cell_type": "code",
   "execution_count": null,
   "id": "dcbd315d",
   "metadata": {},
   "outputs": [],
   "source": [
    "# Řešení"
   ]
  },
  {
   "cell_type": "markdown",
   "id": "6d3d1646",
   "metadata": {},
   "source": [
    "#### *Poznámka*\n",
    "Podobně jako atributy, které se dají definovat za běhu, dají se i metosdy přiřazovat oběktům za běhu."
   ]
  },
  {
   "cell_type": "code",
   "execution_count": null,
   "id": "75a6ee32",
   "metadata": {},
   "outputs": [],
   "source": [
    "class Trida: \n",
    "    pass\n",
    "    \n",
    "def f(self):\n",
    "    print(\"Funkce\")\n",
    "\n",
    "Trida.atribut = \"a\"\n",
    "Trida.funkce = f\n",
    "\n",
    "t1 = Trida()\n",
    "t1.funkce()"
   ]
  },
  {
   "cell_type": "markdown",
   "id": "1c9129d7",
   "metadata": {},
   "source": [
    "### Destruktor\n",
    "Speciální metoda `__del__`, která se volá v okamžiku zrušení objektu. \n",
    "Opak metody `__init__`"
   ]
  },
  {
   "cell_type": "code",
   "execution_count": null,
   "id": "fad3072b",
   "metadata": {},
   "outputs": [],
   "source": [
    "class Pes:\n",
    "\n",
    "    # Atribut třídy Pes\n",
    "    pocet_psu = 0\n",
    "    def __init__(self, jmeno):\n",
    "        self.jmeno = jmeno # atribut instance\n",
    "        Pes.pocet_psu += 1 # atribut tridy\n",
    "        \n",
    "        \n",
    "    def __del__(self):\n",
    "        Pes.pocet_psu -=1\n",
    "\n",
    "alik = Pes(\"Alik\")\n",
    "punta = Pes(\"Punta\")\n",
    "print(Pes.pocet_psu)\n",
    "del punta\n",
    "print(Pes.pocet_psu)"
   ]
  },
  {
   "cell_type": "markdown",
   "id": "a2ff73a8",
   "metadata": {},
   "source": [
    "> #### Pivní příklad\n",
    "> - Vytvořte třídu SudPiva.\n",
    "> - Vytvořte konstruktor, pomocí kterého nastavíte značku piva (proměnná) a objem sudu (vždy 50L).\n",
    "> - Vytvořte metodu `natoc_pivo(objem_sklenice)`, která vypíše: *Točím pivo XXX do sklenice YYY, v sudu zbývá ZZZ.*\n",
    "> - Ošetřete, pokud v sudu už není dostatek piva.\n",
    "> \n",
    "> Použití:\n",
    "> - Naplňte výčep sudy piva různých značek.\n",
    "> - V cyklu natočte 30 náhodných půllitrů piva (použijte `random.choice`)"
   ]
  },
  {
   "cell_type": "code",
   "execution_count": null,
   "id": "51e6123a",
   "metadata": {},
   "outputs": [],
   "source": [
    "\n",
    "import random\n",
    "\n",
    "# TODO napsat třídu SudPiva\n",
    "\n",
    "vycep = []\n",
    "# TODO naplnit výčep\n",
    "# TODO 30x natočit náhodné pivo z výčepu"
   ]
  }
 ],
 "metadata": {
  "interpreter": {
   "hash": "351af123f4fda19bbbaa019f11d818f2fe3be1acc9ebf40e93daf054b80fd89f"
  },
  "kernelspec": {
   "display_name": "Python 3.9.7 64-bit ('venv': venv)",
   "language": "python",
   "name": "python3"
  },
  "language_info": {
   "codemirror_mode": {
    "name": "ipython",
    "version": 3
   },
   "file_extension": ".py",
   "mimetype": "text/x-python",
   "name": "python",
   "nbconvert_exporter": "python",
   "pygments_lexer": "ipython3",
   "version": "3.9.7"
  }
 },
 "nbformat": 4,
 "nbformat_minor": 5
}
