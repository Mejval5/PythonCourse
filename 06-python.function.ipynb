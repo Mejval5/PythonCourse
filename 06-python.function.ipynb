{
 "cells": [
  {
   "cell_type": "markdown",
   "id": "c35627dc",
   "metadata": {},
   "source": [
    "# Funkce\n",
    "Funkce je část programu, kterou je možné opakovaně volat z různých míst kódu. \n",
    "\n",
    "- **vstup** - argumenty\n",
    "- **výstup** - návratová hodnota \n",
    "\n",
    "![](media/function.png)\n",
    "\n",
    "Definice funkce"
   ]
  },
  {
   "cell_type": "code",
   "execution_count": 6,
   "id": "8d60341b",
   "metadata": {},
   "outputs": [
    {
     "data": {
      "text/plain": [
       "'0b101010'"
      ]
     },
     "execution_count": 6,
     "metadata": {},
     "output_type": "execute_result"
    }
   ],
   "source": [
    "def secist_cisla(x, y):\n",
    "    #print(f\"x je {x}, y je {y}\")\n",
    "    return x + y\n",
    "\n",
    "a = secist_cisla(0b010101,0b010101)\n",
    "bin(a)"
   ]
  },
  {
   "cell_type": "markdown",
   "id": "65dfdfe7",
   "metadata": {},
   "source": [
    "Volání funkce"
   ]
  },
  {
   "cell_type": "code",
   "execution_count": 2,
   "id": "aa33263c",
   "metadata": {},
   "outputs": [
    {
     "name": "stdout",
     "output_type": "stream",
     "text": [
      "x je 5, y je 6\n"
     ]
    },
    {
     "data": {
      "text/plain": [
       "11"
      ]
     },
     "execution_count": 2,
     "metadata": {},
     "output_type": "execute_result"
    }
   ],
   "source": [
    "secist(5, 6)"
   ]
  },
  {
   "cell_type": "markdown",
   "id": "8880e81f",
   "metadata": {},
   "source": [
    "Lze při volání pojmenovat argumenty a pak je zadat v libovolném pořadí"
   ]
  },
  {
   "cell_type": "code",
   "execution_count": 3,
   "id": "c5e34837",
   "metadata": {},
   "outputs": [
    {
     "name": "stdout",
     "output_type": "stream",
     "text": [
      "x je 5, y je 6\n"
     ]
    },
    {
     "data": {
      "text/plain": [
       "11"
      ]
     },
     "execution_count": 3,
     "metadata": {},
     "output_type": "execute_result"
    }
   ],
   "source": [
    "secist(y=6, x=5)"
   ]
  },
  {
   "cell_type": "markdown",
   "id": "9cfa4457",
   "metadata": {},
   "source": [
    "> #### Příklad:\n",
    "> vytvoře funkci `mocnina`, která bude mít dva parametry: `zaklad` a `exponent` \n",
    "> \n",
    "> Funkci zavolejete ale zadejte prvni mocninu a pak základ. \n",
    ">"
   ]
  },
  {
   "cell_type": "code",
   "execution_count": 19,
   "id": "4a783e9f",
   "metadata": {},
   "outputs": [
    {
     "data": {
      "text/plain": [
       "2.23606797749979"
      ]
     },
     "execution_count": 19,
     "metadata": {},
     "output_type": "execute_result"
    }
   ],
   "source": [
    "# Řešení\n",
    "def mocnina(zaklad, exponet):\n",
    "    return zaklad**exponet\n",
    "\n",
    "mocnina(5, 1/2)"
   ]
  },
  {
   "cell_type": "markdown",
   "id": "9c108c6d",
   "metadata": {},
   "source": [
    "Pozor, funkci také nelze volat dříve než je nadefinována."
   ]
  },
  {
   "cell_type": "code",
   "execution_count": 16,
   "id": "f1df17bc",
   "metadata": {},
   "outputs": [
    {
     "name": "stdout",
     "output_type": "stream",
     "text": [
      "1\n"
     ]
    }
   ],
   "source": [
    "\n",
    "def funkce(a):\n",
    "    print (a)\n"
   ]
  },
  {
   "cell_type": "markdown",
   "id": "8f0cd778",
   "metadata": {},
   "source": [
    "Atributy funkce jsou předávány jako reference"
   ]
  },
  {
   "cell_type": "code",
   "execution_count": 25,
   "id": "b8b41b0c",
   "metadata": {},
   "outputs": [
    {
     "data": {
      "text/plain": [
       "[1, 2, 3, 4]"
      ]
     },
     "execution_count": 25,
     "metadata": {},
     "output_type": "execute_result"
    }
   ],
   "source": [
    "\n",
    "def pridej(seznam, cislo):\n",
    "    seznam.append(cislo)\n",
    "\n",
    "seznam=[]\n",
    "\n",
    "pridej(seznam, 1)\n",
    "pridej(seznam, 2)\n",
    "pridej(seznam, 3)\n",
    "pridej(seznam, 4)\n",
    "\n",
    "seznam"
   ]
  },
  {
   "cell_type": "markdown",
   "id": "7ce50397",
   "metadata": {},
   "source": [
    "Pokud ve funkci nedefinujeme návratovou hodnotu, vrací `None`"
   ]
  },
  {
   "cell_type": "code",
   "execution_count": 26,
   "id": "66034064",
   "metadata": {},
   "outputs": [
    {
     "name": "stdout",
     "output_type": "stream",
     "text": [
      "Telo funkce vypis()\n",
      "Vypis vraci: None\n"
     ]
    }
   ],
   "source": [
    "def vypis():\n",
    "    print('Telo funkce vypis()')\n",
    "    \n",
    "print(\"Vypis vraci:\", vypis())"
   ]
  },
  {
   "cell_type": "markdown",
   "id": "0557d1b7",
   "metadata": {},
   "source": [
    "Občas se hodí nic nedělat"
   ]
  },
  {
   "cell_type": "code",
   "execution_count": 29,
   "id": "60ecbee5",
   "metadata": {},
   "outputs": [],
   "source": [
    "def nic():\n",
    "    pass\n",
    "\n",
    "def nasobeni():\n",
    "    pass\n",
    "\n",
    "def super_funkce():\n",
    "    nasobeni()\n",
    "    nic()\n",
    "\n",
    "super_funkce()"
   ]
  },
  {
   "cell_type": "markdown",
   "id": "978343a8",
   "metadata": {},
   "source": [
    "> #### Příklad:\n",
    "> Vytvořte funkci jež navrátí čísla fibonacciho posloupnosti. \n",
    "> Výpočet omezte na základě hodnoty parametru funkce. \n",
    ">\n",
    "> *Každé číslo v posloupnosti je součtem dvou předchozích - [0, 1, 1, 2, 3, 5, 8]*"
   ]
  },
  {
   "cell_type": "code",
   "execution_count": 31,
   "id": "512d8035",
   "metadata": {},
   "outputs": [
    {
     "data": {
      "text/plain": [
       "[0, 1, 1, 2, 3, 5]"
      ]
     },
     "execution_count": 31,
     "metadata": {},
     "output_type": "execute_result"
    }
   ],
   "source": [
    "# Řešení: definice funkce\n",
    "def fib(n):\n",
    "    result = []\n",
    "    for i in range(n+1):\n",
    "        if i < 2:\n",
    "            result.append(i)\n",
    "        else:\n",
    "            result.append(result[-1] + result[-2])\n",
    "    \n",
    "    return result\n",
    "\n",
    "fib(5)"
   ]
  },
  {
   "cell_type": "code",
   "execution_count": 35,
   "id": "1e827816",
   "metadata": {},
   "outputs": [
    {
     "data": {
      "text/plain": [
       "0"
      ]
     },
     "execution_count": 35,
     "metadata": {},
     "output_type": "execute_result"
    }
   ],
   "source": [
    "def fib(n):\n",
    "    return n if n < 2 else fib(n-1) + fib(n-2)\n",
    "\n",
    "\n",
    "def odecitani_cisla(cislo):\n",
    "    if (cislo > 0):\n",
    "        return odecitani_cisla(cislo - 1)\n",
    "    else:\n",
    "        return cislo\n",
    "    \n",
    "odecitani_cisla(10)"
   ]
  },
  {
   "cell_type": "code",
   "execution_count": 34,
   "id": "59a6c127",
   "metadata": {},
   "outputs": [
    {
     "name": "stdout",
     "output_type": "stream",
     "text": [
      "3.14 ms ± 11.6 µs per loop (mean ± std. dev. of 7 runs, 100 loops each)\n"
     ]
    }
   ],
   "source": [
    "%%timeit\n",
    "\n",
    "# Řešení: volání funkce\n",
    "\n",
    "for i in range(20):\n",
    "    fib(i)"
   ]
  },
  {
   "cell_type": "markdown",
   "id": "8b8245c8",
   "metadata": {},
   "source": [
    "28.1 µs ± 1.93 µs per loop (mean ± std. dev. of 7 runs, 10000 loops each)\n",
    "\n",
    "31.3 ms ± 3.76 ms per loop (mean ± std. dev. of 7 runs, 10 loops each)"
   ]
  },
  {
   "cell_type": "markdown",
   "id": "1b7bc9ce",
   "metadata": {},
   "source": [
    "Typ parametru není typově určen."
   ]
  },
  {
   "cell_type": "code",
   "execution_count": 36,
   "id": "d230e6b0",
   "metadata": {},
   "outputs": [
    {
     "name": "stdout",
     "output_type": "stream",
     "text": [
      "3\n",
      "ab\n",
      "[1, 2]\n"
     ]
    }
   ],
   "source": [
    "def funkce(a:str, b:str) -> str:\n",
    "    return a+b\n",
    "\n",
    "print(funkce(1,2))\n",
    "print(funkce(\"a\",\"b\"))\n",
    "print(funkce([1],[2]))\n",
    "\n",
    "import math\n",
    "math.cos"
   ]
  },
  {
   "cell_type": "markdown",
   "id": "9d2adcc1",
   "metadata": {},
   "source": [
    "## Výchozí hodnoty argumentů\n",
    "Argumenty funkce mohou mít výchozí hodnotu, v takovém případě se nemusí při volání funkce zadávat.\n",
    "\n",
    "**POZOR: Povinné argumenty musí být před nepovinnými!**"
   ]
  },
  {
   "cell_type": "code",
   "execution_count": 40,
   "id": "da5e4048",
   "metadata": {},
   "outputs": [
    {
     "data": {
      "text/plain": [
       "3"
      ]
     },
     "execution_count": 40,
     "metadata": {},
     "output_type": "execute_result"
    }
   ],
   "source": [
    "def mocnina(x:int, exponent=5) -> int:\n",
    "    \"\"\"[summary]\n",
    "    Args:\n",
    "        x (int): [description]\n",
    "        exponent (int, optional): [description]. Defaults to 2.\n",
    "\n",
    "    Returns:\n",
    "        [type]: [description]\n",
    "    \"\"\"\n",
    "    return x ** exponent\n",
    "    \n",
    "mocnina(3, 1)"
   ]
  },
  {
   "cell_type": "code",
   "execution_count": null,
   "id": "963e6eed",
   "metadata": {},
   "outputs": [],
   "source": []
  },
  {
   "cell_type": "code",
   "execution_count": 52,
   "id": "433c0119",
   "metadata": {},
   "outputs": [
    {
     "data": {
      "text/plain": [
       "True"
      ]
     },
     "execution_count": 52,
     "metadata": {},
     "output_type": "execute_result"
    }
   ],
   "source": [
    "import math\n",
    "from math import cos\n",
    "\n",
    "def cos(uhel):\n",
    "    return math.cos(uhel / 180 * math.pi)\n",
    "\n",
    "cos(90) < 0.00000001"
   ]
  },
  {
   "cell_type": "code",
   "execution_count": null,
   "id": "bc8e0ad8",
   "metadata": {},
   "outputs": [],
   "source": [
    "mocnina()"
   ]
  },
  {
   "cell_type": "code",
   "execution_count": 9,
   "id": "d2e408de",
   "metadata": {},
   "outputs": [
    {
     "ename": "NameError",
     "evalue": "name 'print' is not defined",
     "output_type": "error",
     "traceback": [
      "\u001b[0;31m---------------------------------------------------------------------------\u001b[0m",
      "\u001b[0;31mNameError\u001b[0m                                 Traceback (most recent call last)",
      "\u001b[0;32m/tmp/ipykernel_295441/1941634850.py\u001b[0m in \u001b[0;36m<module>\u001b[0;34m\u001b[0m\n\u001b[0;32m----> 1\u001b[0;31m \u001b[0;32mdel\u001b[0m \u001b[0mprint\u001b[0m\u001b[0;34m\u001b[0m\u001b[0;34m\u001b[0m\u001b[0m\n\u001b[0m",
      "\u001b[0;31mNameError\u001b[0m: name 'print' is not defined"
     ]
    }
   ],
   "source": [
    "del print"
   ]
  },
  {
   "cell_type": "markdown",
   "id": "2575e76f",
   "metadata": {},
   "source": [
    "Parametry jsou předány na základě pozice."
   ]
  },
  {
   "cell_type": "code",
   "execution_count": 10,
   "id": "8ef97db3",
   "metadata": {},
   "outputs": [
    {
     "name": "stdout",
     "output_type": "stream",
     "text": [
      "1 4 a\n",
      "1 2 a\n",
      "1 2 3\n",
      "1 2 3\n",
      "1 3 2\n"
     ]
    },
    {
     "ename": "TypeError",
     "evalue": "funkce() missing 1 required positional argument: 'p1'",
     "output_type": "error",
     "traceback": [
      "\u001b[0;31m---------------------------------------------------------------------------\u001b[0m",
      "\u001b[0;31mTypeError\u001b[0m                                 Traceback (most recent call last)",
      "\u001b[0;32m/tmp/ipykernel_295441/1592948678.py\u001b[0m in \u001b[0;36m<module>\u001b[0;34m\u001b[0m\n\u001b[1;32m      7\u001b[0m \u001b[0mfunkce\u001b[0m\u001b[0;34m(\u001b[0m\u001b[0mp1\u001b[0m\u001b[0;34m=\u001b[0m\u001b[0;36m1\u001b[0m\u001b[0;34m,\u001b[0m\u001b[0mp2\u001b[0m\u001b[0;34m=\u001b[0m\u001b[0;36m2\u001b[0m\u001b[0;34m,\u001b[0m\u001b[0mp3\u001b[0m\u001b[0;34m=\u001b[0m\u001b[0;36m3\u001b[0m\u001b[0;34m)\u001b[0m \u001b[0;31m# jména\u001b[0m\u001b[0;34m\u001b[0m\u001b[0;34m\u001b[0m\u001b[0m\n\u001b[1;32m      8\u001b[0m \u001b[0mfunkce\u001b[0m\u001b[0;34m(\u001b[0m\u001b[0;36m1\u001b[0m\u001b[0;34m,\u001b[0m\u001b[0mp3\u001b[0m\u001b[0;34m=\u001b[0m\u001b[0;36m2\u001b[0m\u001b[0;34m,\u001b[0m\u001b[0mp2\u001b[0m\u001b[0;34m=\u001b[0m\u001b[0;36m3\u001b[0m\u001b[0;34m)\u001b[0m \u001b[0;31m# jiné pořadí\u001b[0m\u001b[0;34m\u001b[0m\u001b[0;34m\u001b[0m\u001b[0m\n\u001b[0;32m----> 9\u001b[0;31m \u001b[0mfunkce\u001b[0m\u001b[0;34m(\u001b[0m\u001b[0;34m)\u001b[0m \u001b[0;31m# chyba\u001b[0m\u001b[0;34m\u001b[0m\u001b[0;34m\u001b[0m\u001b[0m\n\u001b[0m",
      "\u001b[0;31mTypeError\u001b[0m: funkce() missing 1 required positional argument: 'p1'"
     ]
    }
   ],
   "source": [
    "def funkce(p1, p2=4, p3='a'):\n",
    "    print(p1,p2,p3)\n",
    "\n",
    "funkce(1) # pouze povinný\n",
    "funkce(1,2) # povinný a nepovinný\n",
    "funkce(1,2,3) # všechny\n",
    "funkce(p1=1,p2=2,p3=3) # jména\n",
    "funkce(1,p3=2,p2=3) # jiné pořadí\n",
    "funkce() # chyba"
   ]
  },
  {
   "cell_type": "markdown",
   "id": "a42e36e2",
   "metadata": {},
   "source": [
    "> #### Příklad:\n",
    "> Vytvořte funkci jež bude obsahovat povinné a nepovinné parametry. \n",
    "> Tato funkce pozdraví uživatele následujícím způsobem\n",
    ">\n",
    "> `Ahoj <jmeno> <prijmeni>`\n",
    ">\n",
    "> přičemž parametr příjmení bude nepovinný."
   ]
  },
  {
   "cell_type": "code",
   "execution_count": 12,
   "id": "473e5844",
   "metadata": {},
   "outputs": [
    {
     "name": "stdout",
     "output_type": "stream",
     "text": [
      "Ahoj Honza\n",
      "Dobrý den Honza Kolomazník\n"
     ]
    }
   ],
   "source": [
    "# Řešení\n",
    "def pozdrav(jmeno: str, prijmeni: str = None) -> str:\n",
    "    if prijmeni:\n",
    "        return f\"Dobrý den {jmeno} {prijmeni}\"\n",
    "    else:\n",
    "        return f\"Ahoj {jmeno}\"\n",
    "        \n",
    "print(pozdrav(\"Honza\"))\n",
    "print(pozdrav(\"Honza\", \"Kolomazník\"))"
   ]
  },
  {
   "cell_type": "markdown",
   "id": "f6c6fca0",
   "metadata": {},
   "source": [
    "Modifikace výchozího parametru"
   ]
  },
  {
   "cell_type": "code",
   "execution_count": 59,
   "id": "c05d6efe",
   "metadata": {},
   "outputs": [
    {
     "name": "stdout",
     "output_type": "stream",
     "text": [
      "[1]\n",
      "[1, 2]\n",
      "[1, 2, 3]\n"
     ]
    }
   ],
   "source": [
    "def evil(a, L=[]):\n",
    "    L.append(a)\n",
    "    return L\n",
    "\n",
    "print(evil(1))\n",
    "print(evil(2))\n",
    "print(evil(3))"
   ]
  },
  {
   "cell_type": "markdown",
   "id": "9910db06",
   "metadata": {},
   "source": [
    "## Proměnný počet argumentů\n",
    "Proměnný počat argumentů: **poziční** = záleží na pořadí"
   ]
  },
  {
   "cell_type": "code",
   "execution_count": 1,
   "id": "3e7ce546",
   "metadata": {},
   "outputs": [
    {
     "data": {
      "text/plain": [
       "'zpracováno: poslení'"
      ]
     },
     "execution_count": 1,
     "metadata": {},
     "output_type": "execute_result"
    }
   ],
   "source": [
    "def zpracuj_posledni_soubor(*soubory):  # proměnný počet pozičních\n",
    "    return \"zpracováno: \" + soubory[-1]\n",
    "\n",
    "zpracuj_posledni_soubor('soubor1', 'soubor2', 'soubor3', \"poslení\")"
   ]
  },
  {
   "cell_type": "code",
   "execution_count": null,
   "id": "cd030449",
   "metadata": {},
   "outputs": [],
   "source": []
  },
  {
   "cell_type": "markdown",
   "id": "f9792f34",
   "metadata": {},
   "source": [
    "> #### Příklad:\n",
    "> Vytvořte funkci, která převezme lib počet slov (řetězců) a spojí je ho jedné věty."
   ]
  },
  {
   "cell_type": "code",
   "execution_count": null,
   "id": "0321edb3",
   "metadata": {},
   "outputs": [],
   "source": [
    "# Řesení"
   ]
  },
  {
   "cell_type": "markdown",
   "id": "d9392643",
   "metadata": {},
   "source": [
    "Proměnný počat argumentů: **pojmenované** = musejí se pojmenovat"
   ]
  },
  {
   "cell_type": "code",
   "execution_count": null,
   "id": "bb944a5f",
   "metadata": {},
   "outputs": [],
   "source": [
    "def vypis_cele_jmeno(**data):  # proměnný počet pojmenovaných\n",
    "\n",
    "    if \"jmeno\" in data and \"prijmeni\" in data:\n",
    "        print(  \"{} {}\".format(data[\"jmeno\"], data[\"prijmeni\"])  )\n",
    "\n",
    "    elif \"prijmeni\" in data:\n",
    "        print(data[\"prijmeni\"])\n",
    "    \n",
    "    elif \"jmeno\" in data:\n",
    "        print(data[\"jmeno\"])\n",
    "    \n",
    "    else:\n",
    "        print(\"(neznámá osoba)\")\n",
    "\n",
    "vypis_cele_jmeno(jmeno=\"Milan\", vyska=180, vek=20, prijmeni=\"Frajer\")"
   ]
  },
  {
   "cell_type": "markdown",
   "id": "b3746675",
   "metadata": {},
   "source": [
    "### Konvence:\n",
    "- **poziční** = `*args`\n",
    "- **pojmenované** = `**kwargs`\n",
    "\n",
    "\n",
    "Lze použít obojí najednou"
   ]
  },
  {
   "cell_type": "code",
   "execution_count": 87,
   "id": "c3aa0263",
   "metadata": {},
   "outputs": [
    {
     "name": "stdout",
     "output_type": "stream",
     "text": [
      "1\n",
      "2\n",
      "3\n"
     ]
    }
   ],
   "source": [
    "def vypis_vse(x, y, z):\n",
    "    print(x)\n",
    "    print(y)\n",
    "    print(z)\n",
    "    pass\n",
    "\n",
    "tup = (1,2,3)\n",
    "vypis_vse(*tup)"
   ]
  },
  {
   "cell_type": "markdown",
   "id": "6dc5f3a0",
   "metadata": {},
   "source": [
    "Převod struktur na argumenty\n",
    "__`*`__ nebo __`**`__ lze použít při volání funkce k rozbalení N-tic nebo slovníků!"
   ]
  },
  {
   "cell_type": "code",
   "execution_count": 4,
   "id": "17586e2b",
   "metadata": {},
   "outputs": [
    {
     "name": "stdout",
     "output_type": "stream",
     "text": [
      "((1, 2, 3, 4),) {}\n",
      "(1, 2, 3, 4) {}\n",
      "() {'a': 3, 'b': 4}\n",
      "(1, 2, 3, 4) {'a': 3, 'b': 4}\n"
     ]
    }
   ],
   "source": [
    "ntice = (1, 2, 3, 4)\n",
    "slovnik = {\"a\": 3, \"b\": 4}\n",
    "\n",
    "vypis_vse(ntice)                 # = vypis_vse((1, 2, 3, 4)) – jeden parametr, N-tice\n",
    "vypis_vse(*ntice)                # = vypis_vse(1, 2, 3, 4) – čtyři parametry\n",
    "vypis_vse(**slovnik)             # = vypis_vse(a=3, b=4) – dva pojmenované parametry\n",
    "vypis_vse(*ntice, **slovnik)     # = vypis_vse(1, 2, 3, 4, a=3, b=4) – mix"
   ]
  },
  {
   "cell_type": "code",
   "execution_count": 10,
   "id": "fc7baa95",
   "metadata": {},
   "outputs": [
    {
     "data": {
      "text/plain": [
       "{'a': 3, 'b': 4}"
      ]
     },
     "execution_count": 10,
     "metadata": {},
     "output_type": "execute_result"
    }
   ],
   "source": [
    "{**slovnik}"
   ]
  },
  {
   "cell_type": "markdown",
   "id": "3cec4cd8",
   "metadata": {},
   "source": [
    "## Dokumentace funkce"
   ]
  },
  {
   "cell_type": "code",
   "execution_count": 11,
   "id": "c541b5aa",
   "metadata": {},
   "outputs": [
    {
     "name": "stdout",
     "output_type": "stream",
     "text": [
      "Help on function complex in module __main__:\n",
      "\n",
      "complex(real=0.0, imag=0.0)\n",
      "    Form a complex number.\n",
      "    \n",
      "    Keyword arguments:\n",
      "    real -- the real part (default 0.0)\n",
      "    imag -- the imaginary part (default 0.0)\n",
      "\n"
     ]
    }
   ],
   "source": [
    "def complex(real=0.0, imag=0.0):    \n",
    "    \"\"\"Form a complex number.\n",
    "\n",
    "    Keyword arguments:\n",
    "    real -- the real part (default 0.0)\n",
    "    imag -- the imaginary part (default 0.0)\n",
    "    \"\"\"\n",
    "    pass\n",
    "    \n",
    "help(complex)   "
   ]
  },
  {
   "cell_type": "code",
   "execution_count": 14,
   "id": "572f3f9a",
   "metadata": {},
   "outputs": [
    {
     "name": "stdout",
     "output_type": "stream",
     "text": [
      "\n",
      "    toto je (1, 2, 3, 4)\n",
      "    muj string \n",
      "    na více \n",
      "    řádků.\n",
      "\n"
     ]
    }
   ],
   "source": [
    "s = f\"\"\"\n",
    "    toto je {ntice}\n",
    "    muj string \n",
    "    na více \n",
    "    řádků.\n",
    "\"\"\"\n",
    "\n",
    "print(s)"
   ]
  },
  {
   "cell_type": "markdown",
   "id": "19e134c0",
   "metadata": {},
   "source": [
    "## Ukazatele na funkce a návratové typy\n",
    "\n",
    "Jako parametr můžeme předat i funkci"
   ]
  },
  {
   "cell_type": "code",
   "execution_count": null,
   "id": "2b1bf460",
   "metadata": {},
   "outputs": [],
   "source": [
    "def vypisPlus1(a):\n",
    "    print(a+1)\n",
    "    \n",
    "def vypisPlus2(a):\n",
    "    print(a+2)\n",
    "    \n",
    "def funkce(f,a):\n",
    "    f(a)\n",
    "    \n",
    "funkce(vypisPlus1,10)"
   ]
  },
  {
   "cell_type": "markdown",
   "id": "38708676",
   "metadata": {},
   "source": [
    "Více navratových hodnot"
   ]
  },
  {
   "cell_type": "code",
   "execution_count": 15,
   "id": "37a8b9c5",
   "metadata": {},
   "outputs": [
    {
     "name": "stdout",
     "output_type": "stream",
     "text": [
      "10 20\n",
      "(10, 20)\n"
     ]
    }
   ],
   "source": [
    "def f():\n",
    "    return 10,20\n",
    "\n",
    "a,b = f()\n",
    "print(a,b)\n",
    "print(f())"
   ]
  },
  {
   "cell_type": "code",
   "execution_count": 16,
   "id": "b2a8ded6",
   "metadata": {},
   "outputs": [
    {
     "data": {
      "text/plain": [
       "'Prvni 1, Druhá 2, Soucet 3'"
      ]
     },
     "execution_count": 16,
     "metadata": {},
     "output_type": "execute_result"
    }
   ],
   "source": [
    "def secti(a,b):\n",
    "    return a,b,a+b\n",
    "\n",
    "\"Prvni {0[0]}, Druhá {0[1]}, Soucet {0[2]}\".format(secti(1,2))"
   ]
  },
  {
   "cell_type": "markdown",
   "id": "162d01ea",
   "metadata": {},
   "source": [
    "> #### Příklad:\n",
    "> Vytvořte funkci `swap()`, které dostane dva argumenty a vrátí je v opačném pořadí."
   ]
  },
  {
   "cell_type": "code",
   "execution_count": null,
   "id": "6d7197cd",
   "metadata": {},
   "outputs": [],
   "source": [
    "# Řešení\n",
    "def swap(a, b):\n",
    "    return b, a"
   ]
  },
  {
   "cell_type": "markdown",
   "id": "c58d72bd",
   "metadata": {},
   "source": [
    "Funkce je také možné definovat za běhu programu, třeba podle podmínky ..."
   ]
  },
  {
   "cell_type": "code",
   "execution_count": 18,
   "id": "d5905aaa",
   "metadata": {},
   "outputs": [
    {
     "name": "stdout",
     "output_type": "stream",
     "text": [
      "funkce 2\n"
     ]
    }
   ],
   "source": [
    "a = \"b\"\n",
    "if a == \"a\":\n",
    "    def funkce():\n",
    "        print(\"funkce 1\")\n",
    "else:\n",
    "    def funkce():\n",
    "        print(\"funkce 2\")\n",
    "funkce()"
   ]
  },
  {
   "cell_type": "markdown",
   "id": "0535d276",
   "metadata": {},
   "source": [
    "--- \n",
    "Další zdroje:\n",
    "- [realpython](https://realpython.com/defining-your-own-python-function/)"
   ]
  }
 ],
 "metadata": {
  "interpreter": {
   "hash": "351af123f4fda19bbbaa019f11d818f2fe3be1acc9ebf40e93daf054b80fd89f"
  },
  "kernelspec": {
   "display_name": "Python 3.9.7 64-bit ('venv': venv)",
   "language": "python",
   "name": "python3"
  },
  "language_info": {
   "codemirror_mode": {
    "name": "ipython",
    "version": 3
   },
   "file_extension": ".py",
   "mimetype": "text/x-python",
   "name": "python",
   "nbconvert_exporter": "python",
   "pygments_lexer": "ipython3",
   "version": "3.10.3"
  }
 },
 "nbformat": 4,
 "nbformat_minor": 5
}
