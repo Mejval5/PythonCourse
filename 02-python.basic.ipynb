{
 "cells": [
  {
   "cell_type": "markdown",
   "id": "67c942bc",
   "metadata": {},
   "source": [
    "# Základy jazyka\n",
    "\n",
    "V následujícím bloku budeme Python používat jako \"chytřejší kalkulačku\".\n",
    "Cílem je\n",
    "\n",
    "- seznámit se základy jazyka\n",
    "- s datovými typy\n",
    "\n",
    "## Komentáře\n",
    "V IPythonu je komentáře možné řešit v samostatném boku ve formátu `markdown`\n",
    "\n",
    "Přímo v kódu je k uvození komentáře slouží znak `#`"
   ]
  },
  {
   "cell_type": "code",
   "execution_count": 1,
   "id": "1941fd21",
   "metadata": {},
   "outputs": [],
   "source": [
    "# Komentář"
   ]
  },
  {
   "cell_type": "markdown",
   "id": "a8310b09",
   "metadata": {},
   "source": [
    "## Vystup konsole (`print()`)\n",
    "Výsledek poslední operace se automaticky vypisuje na konzoli\n",
    "\n",
    "Jinak je možné použít funkci `print()`"
   ]
  },
  {
   "cell_type": "code",
   "execution_count": 2,
   "id": "02269d20",
   "metadata": {},
   "outputs": [
    {
     "name": "stdout",
     "output_type": "stream",
     "text": [
      "ŽÁDNÉ středníky;\n",
      "ŽÁDNÉ { složené závorky }\n"
     ]
    }
   ],
   "source": [
    "# výpis na konzoli\n",
    "print(\"ŽÁDNÉ středníky;\")\n",
    "print(\"ŽÁDNÉ { složené závorky }\")"
   ]
  },
  {
   "cell_type": "markdown",
   "id": "c98d8cc9",
   "metadata": {},
   "source": [
    "Vypsání více hodnot na jeden řádek"
   ]
  },
  {
   "cell_type": "code",
   "execution_count": 4,
   "id": "3dd3c615",
   "metadata": {},
   "outputs": [
    {
     "name": "stdout",
     "output_type": "stream",
     "text": [
      "1 2 3 auto\n"
     ]
    }
   ],
   "source": [
    "print(1, 2, 3, \"auto\")"
   ]
  },
  {
   "cell_type": "markdown",
   "id": "755062a6",
   "metadata": {},
   "source": [
    "### Příklady implicitního vypisování"
   ]
  },
  {
   "cell_type": "code",
   "execution_count": 5,
   "id": "bf313c55",
   "metadata": {},
   "outputs": [
    {
     "data": {
      "text/plain": [
       "30"
      ]
     },
     "execution_count": 5,
     "metadata": {},
     "output_type": "execute_result"
    }
   ],
   "source": [
    "1 + 2\n",
    "10 + 20"
   ]
  },
  {
   "cell_type": "code",
   "execution_count": 15,
   "id": "8c9b72df",
   "metadata": {},
   "outputs": [
    {
     "name": "stdout",
     "output_type": "stream",
     "text": [
      "1 2 3\n"
     ]
    }
   ],
   "source": [
    "1 + 2\n",
    "r = print(1, 2, 3)\n",
    "r"
   ]
  },
  {
   "cell_type": "markdown",
   "id": "4991e7b1",
   "metadata": {},
   "source": [
    "## Proměnné\n",
    "Symbolické jméno uchovávající určitou informaci.\n",
    "- Stačí jen zadat jméno a přiřadit hodnotu\n",
    "- Není potřeba deklarovat předem ani určovat typ \n",
    "- Nelze deklarovat proměnou bez přiřazení hodnoty\n",
    "- Jednou definovaná proměnná v rámci skriptu stále uchovává stejnou hodnotu"
   ]
  },
  {
   "cell_type": "code",
   "execution_count": 6,
   "id": "2d9b68a5",
   "metadata": {},
   "outputs": [],
   "source": [
    "moje_oblibene_cislo = 42"
   ]
  },
  {
   "cell_type": "code",
   "execution_count": 10,
   "id": "73ac0508",
   "metadata": {},
   "outputs": [
    {
     "data": {
      "text/plain": [
       "'4'"
      ]
     },
     "execution_count": 10,
     "metadata": {},
     "output_type": "execute_result"
    }
   ],
   "source": [
    "moje_oblibene_cislo = \"4\"\n",
    "moje_oblibene_cislo"
   ]
  },
  {
   "cell_type": "code",
   "execution_count": 11,
   "id": "8cff3b8b",
   "metadata": {},
   "outputs": [
    {
     "data": {
      "text/plain": [
       "4"
      ]
     },
     "execution_count": 11,
     "metadata": {},
     "output_type": "execute_result"
    }
   ],
   "source": [
    "cislo = int(moje_oblibene_cislo)\n",
    "cislo"
   ]
  },
  {
   "cell_type": "code",
   "execution_count": 12,
   "id": "bd51bb2b",
   "metadata": {},
   "outputs": [
    {
     "data": {
      "text/plain": [
       "(int, str)"
      ]
     },
     "execution_count": 12,
     "metadata": {},
     "output_type": "execute_result"
    }
   ],
   "source": [
    "type(cislo), type(moje_oblibene_cislo)"
   ]
  },
  {
   "cell_type": "code",
   "execution_count": 15,
   "id": "7cdea8ba",
   "metadata": {},
   "outputs": [
    {
     "ename": "ValueError",
     "evalue": "invalid literal for int() with base 10: 'auto'",
     "output_type": "error",
     "traceback": [
      "\u001b[1;31m---------------------------------------------------------------------------\u001b[0m",
      "\u001b[1;31mValueError\u001b[0m                                Traceback (most recent call last)",
      "\u001b[1;32mc:\\Users\\StudentEN\\Desktop\\PythonCourse-main\\PythonCourse-main\\02-python.basic.ipynb Cell 15'\u001b[0m in \u001b[0;36m<cell line: 2>\u001b[1;34m()\u001b[0m\n\u001b[0;32m      <a href='vscode-notebook-cell:/c%3A/Users/StudentEN/Desktop/PythonCourse-main/PythonCourse-main/02-python.basic.ipynb#ch0000014?line=0'>1</a>\u001b[0m moje_oblibene_cislo \u001b[39m=\u001b[39m \u001b[39m\"\u001b[39m\u001b[39mauto\u001b[39m\u001b[39m\"\u001b[39m\n\u001b[1;32m----> <a href='vscode-notebook-cell:/c%3A/Users/StudentEN/Desktop/PythonCourse-main/PythonCourse-main/02-python.basic.ipynb#ch0000014?line=1'>2</a>\u001b[0m \u001b[39mint\u001b[39;49m(moje_oblibene_cislo)\n\u001b[0;32m      <a href='vscode-notebook-cell:/c%3A/Users/StudentEN/Desktop/PythonCourse-main/PythonCourse-main/02-python.basic.ipynb#ch0000014?line=2'>3</a>\u001b[0m cislo, moje_oblibene_cislo\n",
      "\u001b[1;31mValueError\u001b[0m: invalid literal for int() with base 10: 'auto'"
     ]
    }
   ],
   "source": [
    "moje_oblibene_cislo = \"auto\"\n",
    "int(moje_oblibene_cislo)\n",
    "cislo, moje_oblibene_cislo"
   ]
  },
  {
   "cell_type": "markdown",
   "id": "04093a68",
   "metadata": {},
   "source": [
    "#### Příklady:"
   ]
  },
  {
   "cell_type": "code",
   "execution_count": 24,
   "id": "04657fd7",
   "metadata": {},
   "outputs": [
    {
     "name": "stdout",
     "output_type": "stream",
     "text": [
      "2\n"
     ]
    }
   ],
   "source": [
    "a = 2\n",
    "print(a)"
   ]
  },
  {
   "cell_type": "code",
   "execution_count": 17,
   "id": "7ae01de0",
   "metadata": {},
   "outputs": [
    {
     "name": "stdout",
     "output_type": "stream",
     "text": [
      "3.14\n"
     ]
    }
   ],
   "source": [
    "b = 3.14\n",
    "print(b)"
   ]
  },
  {
   "cell_type": "code",
   "execution_count": 36,
   "id": "cfcc5e9c",
   "metadata": {},
   "outputs": [
    {
     "name": "stdout",
     "output_type": "stream",
     "text": [
      "aAsdfsdf\n",
      "sdfsdfsd\n",
      "sdfsdf\n",
      "sdfsd\n",
      "sdf\n",
      "1\n"
     ]
    }
   ],
   "source": [
    "c = \"\"\"aAsdfsdf\n",
    "sdfsdfsd\n",
    "sdfsdf\n",
    "sdfsd\n",
    "sdf\"\"\"\n",
    "print(c)\n",
    "c = 1\n",
    "print(c)"
   ]
  },
  {
   "cell_type": "code",
   "execution_count": 41,
   "id": "4f6c1eba",
   "metadata": {},
   "outputs": [
    {
     "name": "stdout",
     "output_type": "stream",
     "text": [
      "aAtzutzu\"\n"
     ]
    }
   ],
   "source": [
    "d = \"aAtzutzu\"\n",
    "print(d)"
   ]
  },
  {
   "cell_type": "code",
   "execution_count": 25,
   "id": "f3dcfbbf",
   "metadata": {},
   "outputs": [
    {
     "data": {
      "text/plain": [
       "2"
      ]
     },
     "execution_count": 25,
     "metadata": {},
     "output_type": "execute_result"
    }
   ],
   "source": [
    "a"
   ]
  },
  {
   "cell_type": "code",
   "execution_count": 22,
   "id": "2aa3842f",
   "metadata": {},
   "outputs": [
    {
     "name": "stdout",
     "output_type": "stream",
     "text": [
      "10\n"
     ]
    }
   ],
   "source": [
    "a = 10\n",
    "print(a)"
   ]
  },
  {
   "cell_type": "code",
   "execution_count": 24,
   "id": "9dacac78",
   "metadata": {},
   "outputs": [
    {
     "data": {
      "text/plain": [
       "10"
      ]
     },
     "execution_count": 24,
     "metadata": {},
     "output_type": "execute_result"
    }
   ],
   "source": [
    "a"
   ]
  },
  {
   "cell_type": "markdown",
   "id": "72729a79",
   "metadata": {},
   "source": [
    "## Vstup z konsole (`input()`)\n",
    "Opakem příkazu `print()`, který zajišťuje výstup je `input()` pro vstup."
   ]
  },
  {
   "cell_type": "code",
   "execution_count": 27,
   "id": "f59ab292",
   "metadata": {},
   "outputs": [
    {
     "name": "stdout",
     "output_type": "stream",
     "text": [
      "13\n"
     ]
    }
   ],
   "source": [
    "a = input()\n",
    "print(a)\n"
   ]
  },
  {
   "cell_type": "markdown",
   "id": "9ea6e327",
   "metadata": {},
   "source": [
    "Input se vstupní hláškou"
   ]
  },
  {
   "cell_type": "code",
   "execution_count": 29,
   "id": "45c016ba",
   "metadata": {},
   "outputs": [
    {
     "name": "stdout",
     "output_type": "stream",
     "text": [
      "45\n"
     ]
    }
   ],
   "source": [
    "a = input(\"Strana: \")\n",
    "print(a)"
   ]
  },
  {
   "cell_type": "markdown",
   "id": "cd1ddeaf",
   "metadata": {},
   "source": [
    "## Pravidla pro pojmenování proměnných\n",
    "*[PEP8](https://www.python.org/dev/peps/pep-0008/) – Style Guide for Python Code*\n",
    "\n",
    "Proměnné musí začínat písmenem či podtržítkem\n",
    "\n",
    "Proměnné jsou *case sensitive*"
   ]
  },
  {
   "cell_type": "code",
   "execution_count": 42,
   "id": "33382a50",
   "metadata": {},
   "outputs": [
    {
     "name": "stdout",
     "output_type": "stream",
     "text": [
      "1 2 3\n"
     ]
    }
   ],
   "source": [
    "cislo = 1\n",
    "Cislo = 2\n",
    "číslo = 3\n",
    "print(cislo, Cislo, číslo)"
   ]
  },
  {
   "cell_type": "markdown",
   "id": "b0772d40",
   "metadata": {},
   "source": [
    "Pro více-slovné proměnné používáme jako oddělovač podtržítko `_`"
   ]
  },
  {
   "cell_type": "code",
   "execution_count": 43,
   "id": "434809df",
   "metadata": {},
   "outputs": [
    {
     "name": "stdout",
     "output_type": "stream",
     "text": [
      "42\n"
     ]
    }
   ],
   "source": [
    "moje_oblibene_cislo = 42\n",
    "print(moje_oblibene_cislo)"
   ]
  },
  {
   "cell_type": "markdown",
   "id": "7df96a72",
   "metadata": {},
   "source": [
    "Další ukázky"
   ]
  },
  {
   "cell_type": "code",
   "execution_count": 46,
   "id": "78f61f00",
   "metadata": {},
   "outputs": [
    {
     "name": "stdout",
     "output_type": "stream",
     "text": [
      "10\n"
     ]
    }
   ],
   "source": [
    "x10 = 10\n",
    "print(x10)"
   ]
  },
  {
   "cell_type": "code",
   "execution_count": 32,
   "id": "9d407526",
   "metadata": {},
   "outputs": [
    {
     "ename": "SyntaxError",
     "evalue": "invalid decimal literal (1410891281.py, line 3)",
     "output_type": "error",
     "traceback": [
      "\u001b[1;36m  Input \u001b[1;32mIn [32]\u001b[1;36m\u001b[0m\n\u001b[1;33m    9x = 30\u001b[0m\n\u001b[1;37m    ^\u001b[0m\n\u001b[1;31mSyntaxError\u001b[0m\u001b[1;31m:\u001b[0m invalid decimal literal\n"
     ]
    }
   ],
   "source": [
    "_y = 20\n",
    "$y = 50\n",
    "9x = 30"
   ]
  },
  {
   "cell_type": "markdown",
   "id": "4c4783bf",
   "metadata": {},
   "source": [
    "## Operátory přiřazení\n",
    "\n",
    "Základní přiražení"
   ]
  },
  {
   "cell_type": "code",
   "execution_count": 51,
   "id": "f09ecff8",
   "metadata": {},
   "outputs": [
    {
     "name": "stdout",
     "output_type": "stream",
     "text": [
      "2\n"
     ]
    },
    {
     "ename": "NameError",
     "evalue": "name 'p' is not defined",
     "output_type": "error",
     "traceback": [
      "\u001b[1;31m---------------------------------------------------------------------------\u001b[0m",
      "\u001b[1;31mNameError\u001b[0m                                 Traceback (most recent call last)",
      "\u001b[1;32mc:\\Users\\StudentEN\\Desktop\\PythonCourse-main\\PythonCourse-main\\02-python.basic.ipynb Cell 36'\u001b[0m in \u001b[0;36m<cell line: 5>\u001b[1;34m()\u001b[0m\n\u001b[0;32m      <a href='vscode-notebook-cell:/c%3A/Users/StudentEN/Desktop/PythonCourse-main/PythonCourse-main/02-python.basic.ipynb#ch0000035?line=2'>3</a>\u001b[0m \u001b[39mdel\u001b[39;00m a\n\u001b[0;32m      <a href='vscode-notebook-cell:/c%3A/Users/StudentEN/Desktop/PythonCourse-main/PythonCourse-main/02-python.basic.ipynb#ch0000035?line=3'>4</a>\u001b[0m \u001b[39mprint\u001b[39m(b)\n\u001b[1;32m----> <a href='vscode-notebook-cell:/c%3A/Users/StudentEN/Desktop/PythonCourse-main/PythonCourse-main/02-python.basic.ipynb#ch0000035?line=4'>5</a>\u001b[0m \u001b[39mprint\u001b[39m(p)\n",
      "\u001b[1;31mNameError\u001b[0m: name 'p' is not defined"
     ]
    }
   ],
   "source": [
    "a = 1\n",
    "b = a + 1\n",
    "del a\n",
    "print(b)"
   ]
  },
  {
   "cell_type": "markdown",
   "id": "baf5741b",
   "metadata": {},
   "source": [
    "Vícenásobné přiřazeni"
   ]
  },
  {
   "cell_type": "code",
   "execution_count": 52,
   "id": "39d762b5",
   "metadata": {},
   "outputs": [
    {
     "name": "stdout",
     "output_type": "stream",
     "text": [
      "1 2 3\n"
     ]
    }
   ],
   "source": [
    "a, b, c = 1, 2, 3\n",
    "print(a, b, c)"
   ]
  },
  {
   "cell_type": "markdown",
   "id": "11c33d6c",
   "metadata": {},
   "source": [
    "Prohození dvou proměných díky přiřazeni"
   ]
  },
  {
   "cell_type": "code",
   "execution_count": 53,
   "id": "cbbcaa4f",
   "metadata": {},
   "outputs": [
    {
     "name": "stdout",
     "output_type": "stream",
     "text": [
      "2 1\n"
     ]
    }
   ],
   "source": [
    "a = 1\n",
    "b = 2\n",
    "a, b = b, a\n",
    "print(a, b)"
   ]
  },
  {
   "cell_type": "markdown",
   "id": "d74f06ee",
   "metadata": {},
   "source": [
    "> #### Příklad:\n",
    "> Do proměnných `a,b,c` přiřaďte hodnoty `ahoj, 10, 20.23` a následně je vypište."
   ]
  },
  {
   "cell_type": "code",
   "execution_count": 56,
   "id": "dde83249",
   "metadata": {},
   "outputs": [
    {
     "name": "stdout",
     "output_type": "stream",
     "text": [
      "ahoj 10 20.23\n"
     ]
    }
   ],
   "source": [
    "a, b, c = \"ahoj\", 10, 20.23\n",
    "a = \"ahoj\"\n",
    "b = 10\n",
    "c = 20.23\n",
    "print(a, b, c)\n",
    "# Řešení"
   ]
  },
  {
   "cell_type": "markdown",
   "id": "21db3070",
   "metadata": {},
   "source": [
    "### Operátor přiřazení kombinovavý s operací\n",
    "Operátory přiřazení lze zkombinovat s operací, tedy zápis:\n",
    "- `a = a + 1`\n",
    "Je stejný jako zápis:\n",
    "- `a += 1`"
   ]
  },
  {
   "cell_type": "code",
   "execution_count": 60,
   "id": "adab149e",
   "metadata": {},
   "outputs": [
    {
     "name": "stdout",
     "output_type": "stream",
     "text": [
      "2 2\n"
     ]
    }
   ],
   "source": [
    "b = 1\n",
    "b = b + 1\n",
    "\n",
    "b = 1\n",
    "b = 1\n",
    "print(a, b)"
   ]
  },
  {
   "cell_type": "code",
   "execution_count": null,
   "id": "542416df",
   "metadata": {},
   "outputs": [],
   "source": []
  },
  {
   "cell_type": "code",
   "execution_count": 68,
   "id": "f466ce49",
   "metadata": {},
   "outputs": [
    {
     "name": "stdout",
     "output_type": "stream",
     "text": [
      "1\n"
     ]
    }
   ],
   "source": [
    "print(1)"
   ]
  },
  {
   "cell_type": "markdown",
   "id": "b63c4b6a",
   "metadata": {},
   "source": []
  },
  {
   "cell_type": "markdown",
   "id": "1659a46a",
   "metadata": {},
   "source": [
    "Takto se dají kombinovat i další binární operátory.\n",
    "\n",
    "## Rezervovaná slova\n",
    "Jedná se o slova, která nelze použít pro názvy proměnných.\n",
    "\n",
    "`and `\n",
    "`exec `\n",
    "`not`\n",
    "`assert`\n",
    "`finally`\n",
    "`or`\n",
    "`break`\n",
    "`for`\n",
    "`pass`\n",
    "`class`\n",
    "`from`\n",
    "`print`\n",
    "`continue`\n",
    "`lambda`\n",
    "`yield`\n",
    "`global`\n",
    "`raise`\n",
    "`def`\n",
    "`if`\n",
    "`return`\n",
    "`del`\n",
    "`import`\n",
    "`try`\n",
    "`elif`\n",
    "`in`\n",
    "`while`\n",
    "`else`\n",
    "`is`\n",
    "`with `\n",
    "`except`\n",
    "\n",
    "\n",
    "## Konce řádků a středníky\n",
    "Z mnoha programovacích jazyků jsme zvyklí ukončovat příkazy středníky.\n",
    "To má velkou výhodu v tom, že když chceme napsat příkaz na více řádků, ničemu to nevadí.\n",
    "\n",
    "V Pythonu platí co řádek to příkaz.\n",
    "Když chceme napsat příkaz na více řádků, použijeme znak `\\`."
   ]
  },
  {
   "cell_type": "code",
   "execution_count": 70,
   "id": "d9c52860",
   "metadata": {},
   "outputs": [
    {
     "data": {
      "text/plain": [
       "'Ahoj svetě.'"
      ]
     },
     "execution_count": 70,
     "metadata": {},
     "output_type": "execute_result"
    }
   ],
   "source": [
    "a = 1\n",
    "\n",
    "\n",
    "(\"Ahoj\" \n",
    "+ \" \"\n",
    "+ \"svetě.\")"
   ]
  },
  {
   "cell_type": "markdown",
   "id": "de052128",
   "metadata": {},
   "source": [
    "## Import funkci, objeku, modulu\n",
    "Pokud chceme použit něco, co není soušátí standatního balíčku, pak musíme provést import.\n",
    "\n",
    "Například python nezná konstantu `pi`, ta je v modulu `math`."
   ]
  },
  {
   "cell_type": "code",
   "execution_count": 71,
   "id": "7743acbf",
   "metadata": {},
   "outputs": [
    {
     "ename": "NameError",
     "evalue": "name 'pi' is not defined",
     "output_type": "error",
     "traceback": [
      "\u001b[1;31m---------------------------------------------------------------------------\u001b[0m",
      "\u001b[1;31mNameError\u001b[0m                                 Traceback (most recent call last)",
      "\u001b[1;32mc:\\Users\\StudentEN\\Desktop\\PythonCourse-main\\PythonCourse-main\\02-python.basic.ipynb Cell 51'\u001b[0m in \u001b[0;36m<cell line: 1>\u001b[1;34m()\u001b[0m\n\u001b[1;32m----> <a href='vscode-notebook-cell:/c%3A/Users/StudentEN/Desktop/PythonCourse-main/PythonCourse-main/02-python.basic.ipynb#ch0000050?line=0'>1</a>\u001b[0m pi\n",
      "\u001b[1;31mNameError\u001b[0m: name 'pi' is not defined"
     ]
    }
   ],
   "source": [
    "pi"
   ]
  },
  {
   "cell_type": "code",
   "execution_count": 2,
   "id": "856ff94a",
   "metadata": {},
   "outputs": [
    {
     "data": {
      "text/plain": [
       "3.141592653589793"
      ]
     },
     "execution_count": 2,
     "metadata": {},
     "output_type": "execute_result"
    }
   ],
   "source": [
    "import math\n",
    "math.pi"
   ]
  },
  {
   "cell_type": "markdown",
   "id": "137a4cfd",
   "metadata": {},
   "source": [
    "pokud bychom chtěli pouze `pi`"
   ]
  },
  {
   "cell_type": "code",
   "execution_count": 4,
   "id": "8bba62e4",
   "metadata": {},
   "outputs": [
    {
     "data": {
      "text/plain": [
       "2.718281828459045"
      ]
     },
     "execution_count": 4,
     "metadata": {},
     "output_type": "execute_result"
    }
   ],
   "source": [
    "from math import pi, e\n",
    "pi\n",
    "e"
   ]
  },
  {
   "cell_type": "code",
   "execution_count": 19,
   "id": "33be86a4",
   "metadata": {},
   "outputs": [
    {
     "data": {
      "text/plain": [
       "{'__name__': 'math',\n",
       " '__doc__': 'This module provides access to the mathematical functions\\ndefined by the C standard.',\n",
       " '__package__': '',\n",
       " '__loader__': _frozen_importlib.BuiltinImporter,\n",
       " '__spec__': ModuleSpec(name='math', loader=<class '_frozen_importlib.BuiltinImporter'>, origin='built-in'),\n",
       " 'acos': <function math.acos(x, /)>,\n",
       " 'acosh': <function math.acosh(x, /)>,\n",
       " 'asin': <function math.asin(x, /)>,\n",
       " 'asinh': <function math.asinh(x, /)>,\n",
       " 'atan': <function math.atan(x, /)>,\n",
       " 'atan2': <function math.atan2(y, x, /)>,\n",
       " 'atanh': <function math.atanh(x, /)>,\n",
       " 'ceil': <function math.ceil(x, /)>,\n",
       " 'copysign': <function math.copysign(x, y, /)>,\n",
       " 'cos': <function math.cos(x, /)>,\n",
       " 'cosh': <function math.cosh(x, /)>,\n",
       " 'degrees': <function math.degrees(x, /)>,\n",
       " 'dist': <function math.dist(p, q, /)>,\n",
       " 'erf': <function math.erf(x, /)>,\n",
       " 'erfc': <function math.erfc(x, /)>,\n",
       " 'exp': <function math.exp(x, /)>,\n",
       " 'expm1': <function math.expm1(x, /)>,\n",
       " 'fabs': <function math.fabs(x, /)>,\n",
       " 'factorial': <function math.factorial(x, /)>,\n",
       " 'floor': <function math.floor(x, /)>,\n",
       " 'fmod': <function math.fmod(x, y, /)>,\n",
       " 'frexp': <function math.frexp(x, /)>,\n",
       " 'fsum': <function math.fsum(seq, /)>,\n",
       " 'gamma': <function math.gamma(x, /)>,\n",
       " 'gcd': <function math.gcd(*integers)>,\n",
       " 'hypot': <function math.hypot>,\n",
       " 'isclose': <function math.isclose(a, b, *, rel_tol=1e-09, abs_tol=0.0)>,\n",
       " 'isfinite': <function math.isfinite(x, /)>,\n",
       " 'isinf': <function math.isinf(x, /)>,\n",
       " 'isnan': <function math.isnan(x, /)>,\n",
       " 'isqrt': <function math.isqrt(n, /)>,\n",
       " 'lcm': <function math.lcm(*integers)>,\n",
       " 'ldexp': <function math.ldexp(x, i, /)>,\n",
       " 'lgamma': <function math.lgamma(x, /)>,\n",
       " 'log': <function math.log>,\n",
       " 'log1p': <function math.log1p(x, /)>,\n",
       " 'log10': <function math.log10(x, /)>,\n",
       " 'log2': <function math.log2(x, /)>,\n",
       " 'modf': <function math.modf(x, /)>,\n",
       " 'pow': <function math.pow(x, y, /)>,\n",
       " 'radians': <function math.radians(x, /)>,\n",
       " 'remainder': <function math.remainder(x, y, /)>,\n",
       " 'sin': <function math.sin(x, /)>,\n",
       " 'sinh': <function math.sinh(x, /)>,\n",
       " 'sqrt': <function math.sqrt(x, /)>,\n",
       " 'tan': <function math.tan(x, /)>,\n",
       " 'tanh': <function math.tanh(x, /)>,\n",
       " 'trunc': <function math.trunc(x, /)>,\n",
       " 'prod': <function math.prod(iterable, /, *, start=1)>,\n",
       " 'perm': <function math.perm(n, k=None, /)>,\n",
       " 'comb': <function math.comb(n, k, /)>,\n",
       " 'nextafter': <function math.nextafter(x, y, /)>,\n",
       " 'ulp': <function math.ulp(x, /)>,\n",
       " 'pi': 3.141592653589793,\n",
       " 'e': 2.718281828459045,\n",
       " 'tau': 6.283185307179586,\n",
       " 'inf': inf,\n",
       " 'nan': nan}"
      ]
     },
     "execution_count": 19,
     "metadata": {},
     "output_type": "execute_result"
    }
   ],
   "source": [
    "import math\n",
    "math.__dict__"
   ]
  },
  {
   "cell_type": "code",
   "execution_count": 21,
   "id": "dc491037",
   "metadata": {},
   "outputs": [
    {
     "data": {
      "text/plain": [
       "3.141592653589793"
      ]
     },
     "execution_count": 21,
     "metadata": {},
     "output_type": "execute_result"
    }
   ],
   "source": [
    "from math import pi as PI\n",
    "PI"
   ]
  },
  {
   "cell_type": "code",
   "execution_count": 24,
   "id": "20204530",
   "metadata": {},
   "outputs": [],
   "source": [
    "import requests\n"
   ]
  },
  {
   "cell_type": "code",
   "execution_count": 26,
   "id": "1f28f5e9",
   "metadata": {},
   "outputs": [
    {
     "data": {
      "text/plain": [
       "['In',\n",
       " 'Out',\n",
       " 'PI',\n",
       " '_',\n",
       " '_1',\n",
       " '_10',\n",
       " '_11',\n",
       " '_12',\n",
       " '_15',\n",
       " '_16',\n",
       " '_17',\n",
       " '_18',\n",
       " '_19',\n",
       " '_2',\n",
       " '_20',\n",
       " '_21',\n",
       " '_3',\n",
       " '_4',\n",
       " '_5',\n",
       " '_6',\n",
       " '_7',\n",
       " '_8',\n",
       " '_9',\n",
       " '__',\n",
       " '___',\n",
       " '__builtin__',\n",
       " '__builtins__',\n",
       " '__doc__',\n",
       " '__loader__',\n",
       " '__name__',\n",
       " '__package__',\n",
       " '__spec__',\n",
       " '__vsc_ipynb_file__',\n",
       " '_dh',\n",
       " '_exit_code',\n",
       " '_i',\n",
       " '_i1',\n",
       " '_i10',\n",
       " '_i11',\n",
       " '_i12',\n",
       " '_i13',\n",
       " '_i14',\n",
       " '_i15',\n",
       " '_i16',\n",
       " '_i17',\n",
       " '_i18',\n",
       " '_i19',\n",
       " '_i2',\n",
       " '_i20',\n",
       " '_i21',\n",
       " '_i22',\n",
       " '_i23',\n",
       " '_i24',\n",
       " '_i25',\n",
       " '_i26',\n",
       " '_i3',\n",
       " '_i4',\n",
       " '_i5',\n",
       " '_i6',\n",
       " '_i7',\n",
       " '_i8',\n",
       " '_i9',\n",
       " '_ih',\n",
       " '_ii',\n",
       " '_iii',\n",
       " '_oh',\n",
       " 'e',\n",
       " 'exit',\n",
       " 'get_ipython',\n",
       " 'k',\n",
       " 'm',\n",
       " 'math',\n",
       " 'np',\n",
       " 'numpy',\n",
       " 'os',\n",
       " 'pi',\n",
       " 'quit',\n",
       " 'requests',\n",
       " 'site',\n",
       " 'sys']"
      ]
     },
     "execution_count": 26,
     "metadata": {},
     "output_type": "execute_result"
    }
   ],
   "source": [
    "dir()"
   ]
  },
  {
   "cell_type": "code",
   "execution_count": 25,
   "id": "f23176c3",
   "metadata": {},
   "outputs": [
    {
     "name": "stdout",
     "output_type": "stream",
     "text": [
      "Defaulting to user installation because normal site-packages is not writeable\n",
      "Requirement already satisfied: requests in c:\\users\\studenten\\appdata\\roaming\\python\\python310\\site-packages (2.27.1)\n",
      "Requirement already satisfied: charset-normalizer~=2.0.0 in c:\\users\\studenten\\appdata\\roaming\\python\\python310\\site-packages (from requests) (2.0.12)\n",
      "Requirement already satisfied: certifi>=2017.4.17 in c:\\users\\studenten\\appdata\\roaming\\python\\python310\\site-packages (from requests) (2021.10.8)\n",
      "Requirement already satisfied: urllib3<1.27,>=1.21.1 in c:\\users\\studenten\\appdata\\roaming\\python\\python310\\site-packages (from requests) (1.26.9)\n",
      "Requirement already satisfied: idna<4,>=2.5 in c:\\users\\studenten\\appdata\\roaming\\python\\python310\\site-packages (from requests) (3.3)\n"
     ]
    }
   ],
   "source": [
    "!pip install requests"
   ]
  },
  {
   "cell_type": "code",
   "execution_count": 39,
   "id": "f1a24682",
   "metadata": {},
   "outputs": [
    {
     "ename": "ModuleNotFoundError",
     "evalue": "No module named 'requests'",
     "output_type": "error",
     "traceback": [
      "\u001b[1;31m---------------------------------------------------------------------------\u001b[0m",
      "\u001b[1;31mModuleNotFoundError\u001b[0m                       Traceback (most recent call last)",
      "\u001b[1;32mc:\\Users\\Raccoon5\\Desktop\\PythonCourse-main\\02-python.basic.ipynb Cell 60'\u001b[0m in \u001b[0;36m<cell line: 1>\u001b[1;34m()\u001b[0m\n\u001b[1;32m----> <a href='vscode-notebook-cell:/c%3A/Users/Raccoon5/Desktop/PythonCourse-main/02-python.basic.ipynb#ch0000059?line=0'>1</a>\u001b[0m \u001b[39mimport\u001b[39;00m \u001b[39mrequests\u001b[39;00m\n",
      "\u001b[1;31mModuleNotFoundError\u001b[0m: No module named 'requests'"
     ]
    }
   ],
   "source": [
    "import requests"
   ]
  }
 ],
 "metadata": {
  "interpreter": {
   "hash": "351af123f4fda19bbbaa019f11d818f2fe3be1acc9ebf40e93daf054b80fd89f"
  },
  "kernelspec": {
   "display_name": "Python 3.9.7 64-bit ('venv': venv)",
   "language": "python",
   "name": "python3"
  },
  "language_info": {
   "codemirror_mode": {
    "name": "ipython",
    "version": 3
   },
   "file_extension": ".py",
   "mimetype": "text/x-python",
   "name": "python",
   "nbconvert_exporter": "python",
   "pygments_lexer": "ipython3",
   "version": "3.10.3"
  }
 },
 "nbformat": 4,
 "nbformat_minor": 5
}
