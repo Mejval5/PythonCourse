{
 "cells": [
  {
   "cell_type": "code",
   "execution_count": null,
   "id": "1b01291a",
   "metadata": {},
   "outputs": [],
   "source": [
    "#Komponentalní přístup\n",
    "\n",
    "class Naceneni:\n",
    "    cena = 10\n",
    "\n",
    "class Kola:\n",
    "    pocet_kol = 4\n",
    "    material = \"guma\"\n",
    "    \n",
    "class JizdniKolo:\n",
    "    naceneni = Naceneni()\n",
    "    kola = Kola()\n",
    "\n",
    "class Auto:\n",
    "    naceneni = Naceneni()\n",
    "    kola = Kola()\n",
    "\n",
    "skodovka = Auto()\n",
    "skodovka.naceneni.cena\n",
    "skodovka.kola.pocet_kol\n",
    "skodovka.kola.material\n",
    "\n",
    "moje_kolo = JizdniKolo()\n",
    "moje_kolo.kola.pocet_kol"
   ]
  },
  {
   "cell_type": "markdown",
   "id": "82448142",
   "metadata": {},
   "source": [
    "# Základy programování v Python\n",
    "\n",
    "## Tak prvně proč Python\n",
    "\n",
    "Python?\n",
    "- Monty Python’s Flying Circus (BBC, 1970s) \n",
    "\n",
    "Následovník jazyka ABC\n",
    "- 80’s\n",
    "- pro odborníky, neprogramátory\n",
    "\n",
    "![Guido van Rossum - 1991](./media/guidovanrossum.jpg)\n",
    "\n",
    "## Charakteristika\n",
    "\n",
    "- snadný a intuitivní jazyk\n",
    "- otevřená specifikace a implantace jazyka \n",
    "- kód snadno srozumitelný \n",
    "  - skoro jako běžná angličtina\n",
    "- vhodný pro běžné každodenní úkoly\n",
    "- umožňující vývoj v krátkém čase\n",
    "- objektově orientovaný - vše je objekt\n",
    "- bohatá standardní knihovna a množství knihoven \n",
    "- v současnosti dvě verze Python 2.x a 3.x \n",
    "  - (nekompatibilní) \n",
    "- dynamická typová kontrola\n",
    "- automatická správa paměti\n",
    "- podpora mnoha paradigmat\n",
    "  - OOP\n",
    "  - Funkcionální\n",
    "  - Imperativní\n",
    "- aktivní/interaktivní vývoj\n",
    "\n",
    "## K čemu se python hodí?\n",
    "\n",
    "#### Konzolové nástroje, nástroje pro správu systému\n",
    "- skripty v OS, (yum/dnf - fedora)\n",
    "#### Webové aplikace\n",
    "- Aplikační rozhraní, serverové CGI skripty\n",
    "- Django, web2py, Flask\n",
    "####  **Machine learning**\n",
    "- scikit, numpy,  etc.\n",
    "#### GUI (Graphic User Interface)\n",
    "- Trinker - nativní GUI na dané platformě\n",
    "- wxPytohn - GUI API založeno na C++ knihovně. \n",
    "- Dabo -  vysokoúrovňová knihovna\n",
    "- pyQT, pyGTK, pyWin32 \n",
    "#### Datábáze a ORM\n",
    "- Oracle, MySQL, PostgreSQL, SQLite\n",
    "- Pickle - ukládání objektů do souborů\n",
    "#### Integrace komponent\n",
    "- Propojení správa částí implementovaných v jiných jazycích\n",
    "- Cython - C/C++ kód a knihovy\n",
    "#### Komunikace\n",
    "- komunikace skrze FTP, Telnet, \n",
    "- zpracování XML, JSON\n",
    "## Kdo python používá?\n",
    "#### Google\n",
    "- Youtube\n",
    "- Google App Engine\n",
    "#### Dropbox\n",
    "- Klientská i serverová část\n",
    "#### Netflix\n",
    "- backend \n",
    "#### NASA\n",
    "- Python on Mars\n",
    "#### Reddit\n",
    "\n",
    "---\n",
    "\n",
    "*[Python success](http://www.python.org/about/success)*"
   ]
  },
  {
   "cell_type": "code",
   "execution_count": 2,
   "id": "31015a79",
   "metadata": {},
   "outputs": [
    {
     "data": {
      "text/plain": [
       "2"
      ]
     },
     "execution_count": 2,
     "metadata": {},
     "output_type": "execute_result"
    }
   ],
   "source": [
    "1+1\n",
    "1+1"
   ]
  }
 ],
 "metadata": {
  "interpreter": {
   "hash": "351af123f4fda19bbbaa019f11d818f2fe3be1acc9ebf40e93daf054b80fd89f"
  },
  "kernelspec": {
   "display_name": "Python 3.9.7 64-bit ('venv': venv)",
   "language": "python",
   "name": "python3"
  },
  "language_info": {
   "codemirror_mode": {
    "name": "ipython",
    "version": 3
   },
   "file_extension": ".py",
   "mimetype": "text/x-python",
   "name": "python",
   "nbconvert_exporter": "python",
   "pygments_lexer": "ipython3",
   "version": "3.10.3"
  }
 },
 "nbformat": 4,
 "nbformat_minor": 5
}
