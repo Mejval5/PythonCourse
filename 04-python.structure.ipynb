{
 "cells": [
  {
   "cell_type": "markdown",
   "id": "c80319f9",
   "metadata": {},
   "source": [
    "# Základní datové struktury\n",
    "**`tuple()`**\n",
    "kolekce lib. objektů, nelze měnit\n",
    "\n",
    "**`list()`**\n",
    "kolekce lib. objektů\n",
    "\n",
    "**`set()`** \n",
    "kolekce lib. unikátních objektů\n",
    "\n",
    "**`dict()`**\n",
    "slovník, key-value\n",
    "\n",
    "## N-tice (tuple)\n",
    "Neměnné pole (indexujeme od 0).\n",
    "\n",
    "je neměnný a k jednotlivým prvkům mhu přistoupit pomocí `[]`, obdobně jako jsme to již dělali u řetězce.\n",
    "\n",
    "N-tice a přístup k prvnímu prvku"
   ]
  },
  {
   "cell_type": "code",
   "execution_count": 4,
   "id": "45c6bd63",
   "metadata": {},
   "outputs": [
    {
     "data": {
      "text/plain": [
       "(1, 2, 3)"
      ]
     },
     "execution_count": 4,
     "metadata": {},
     "output_type": "execute_result"
    }
   ],
   "source": [
    "ntice = 1, 2, 3,\n",
    "ntice"
   ]
  },
  {
   "cell_type": "markdown",
   "id": "91ecf84a",
   "metadata": {},
   "source": [
    "N-tice a přístup k poslednímu prvku"
   ]
  },
  {
   "cell_type": "code",
   "execution_count": 5,
   "id": "1c78ac69",
   "metadata": {},
   "outputs": [
    {
     "data": {
      "text/plain": [
       "3"
      ]
     },
     "execution_count": 5,
     "metadata": {},
     "output_type": "execute_result"
    }
   ],
   "source": [
    "ntice = (1, 2, 3)\n",
    "ntice[-1]"
   ]
  },
  {
   "cell_type": "markdown",
   "id": "3d5518b5",
   "metadata": {},
   "source": [
    "Přístup mimo rozsah N-tice"
   ]
  },
  {
   "cell_type": "code",
   "execution_count": 8,
   "id": "f171adf1",
   "metadata": {},
   "outputs": [
    {
     "data": {
      "text/plain": [
       "1"
      ]
     },
     "execution_count": 8,
     "metadata": {},
     "output_type": "execute_result"
    }
   ],
   "source": [
    "ntice = (1, 2, 3)\n",
    "ntice[0]"
   ]
  },
  {
   "cell_type": "markdown",
   "id": "dd64df2f",
   "metadata": {},
   "source": [
    "N-tice mohou obsahovat různé typy"
   ]
  },
  {
   "cell_type": "code",
   "execution_count": 9,
   "id": "c422e18a",
   "metadata": {},
   "outputs": [
    {
     "data": {
      "text/plain": [
       "('má', 4, ('smíšené', 'datové typy'))"
      ]
     },
     "execution_count": 9,
     "metadata": {},
     "output_type": "execute_result"
    }
   ],
   "source": [
    "(\"má\", 4, (\"smíšené\", \"datové typy\"))"
   ]
  },
  {
   "cell_type": "markdown",
   "id": "5dfa093c",
   "metadata": {},
   "source": [
    "takzvaný \"tuple unpacking\" = rozbalení"
   ]
  },
  {
   "cell_type": "code",
   "execution_count": 10,
   "id": "2d29ca90",
   "metadata": {},
   "outputs": [
    {
     "data": {
      "text/plain": [
       "3"
      ]
     },
     "execution_count": 10,
     "metadata": {},
     "output_type": "execute_result"
    }
   ],
   "source": [
    "ntice = (1, 2, 3)\n",
    "a, b, c = ntice\n",
    "c"
   ]
  },
  {
   "cell_type": "code",
   "execution_count": 13,
   "metadata": {},
   "outputs": [],
   "source": [
    "n = 1, 2\n",
    "a, b = 1, 2\n",
    "a, b = b, a"
   ]
  },
  {
   "cell_type": "markdown",
   "id": "117bdfb9",
   "metadata": {},
   "source": [
    "test zda N-tice obsahuje prvek"
   ]
  },
  {
   "cell_type": "code",
   "execution_count": 14,
   "id": "7b3f68ad",
   "metadata": {},
   "outputs": [
    {
     "data": {
      "text/plain": [
       "True"
      ]
     },
     "execution_count": 14,
     "metadata": {},
     "output_type": "execute_result"
    }
   ],
   "source": [
    "ntice = (1, 2, 3)\n",
    "2 in ntice"
   ]
  },
  {
   "cell_type": "markdown",
   "id": "e6830310",
   "metadata": {},
   "source": [
    "> #### Příklad:\n",
    "> 1. Vytvořte ntici obsahujíci 2, 3, 4, 5 mocninu z uživatelem zadaného čísla.\n",
    "> 2. Poté se zeptejte uživatele na číslo a ověřte, jestli je obsaženo ve vytvožené ntici."
   ]
  },
  {
   "cell_type": "code",
   "execution_count": 17,
   "id": "25db94c2",
   "metadata": {},
   "outputs": [
    {
     "data": {
      "text/plain": [
       "False"
      ]
     },
     "execution_count": 17,
     "metadata": {},
     "output_type": "execute_result"
    }
   ],
   "source": [
    "cislo = int(input(\"Zadej cislo\"))\n",
    "mocniny = (cislo**2, cislo**3, cislo**4, cislo**5)\n",
    "mocnina = int(input(\"Hadej mocninu\"))\n",
    "mocnina in mocniny"
   ]
  },
  {
   "cell_type": "markdown",
   "id": "a748b10a",
   "metadata": {},
   "source": [
    "### Jednoprvké tuple\n",
    "Zamyslete se nad následujícím kouskem kódu, co vlastně vytváří?"
   ]
  },
  {
   "cell_type": "code",
   "execution_count": 18,
   "id": "b5a85b72",
   "metadata": {},
   "outputs": [
    {
     "data": {
      "text/plain": [
       "int"
      ]
     },
     "execution_count": 18,
     "metadata": {},
     "output_type": "execute_result"
    }
   ],
   "source": [
    "t = (1)\n",
    "type(t)"
   ]
  },
  {
   "cell_type": "markdown",
   "id": "cd67cac2",
   "metadata": {},
   "source": [
    "Python interpretuje (naprosto logicky a správně) výraz `(1)`, jehož výsledek je jedna.\n",
    "\n",
    "Jak tedy vytvořit jednoprvkový tuple?\n",
    "Jedna varianta je použit funkci:"
   ]
  },
  {
   "cell_type": "code",
   "execution_count": 19,
   "id": "f85a9959",
   "metadata": {},
   "outputs": [
    {
     "ename": "TypeError",
     "evalue": "'int' object is not iterable",
     "output_type": "error",
     "traceback": [
      "\u001b[0;31m---------------------------------------------------------------------------\u001b[0m",
      "\u001b[0;31mTypeError\u001b[0m                                 Traceback (most recent call last)",
      "\u001b[0;32m/tmp/ipykernel_203693/145731533.py\u001b[0m in \u001b[0;36m<module>\u001b[0;34m\u001b[0m\n\u001b[0;32m----> 1\u001b[0;31m \u001b[0mtuple\u001b[0m\u001b[0;34m(\u001b[0m\u001b[0;36m1\u001b[0m\u001b[0;34m)\u001b[0m\u001b[0;34m\u001b[0m\u001b[0;34m\u001b[0m\u001b[0m\n\u001b[0m",
      "\u001b[0;31mTypeError\u001b[0m: 'int' object is not iterable"
     ]
    }
   ],
   "source": [
    "tuple(1)"
   ]
  },
  {
   "cell_type": "markdown",
   "id": "cf4c8f3e",
   "metadata": {},
   "source": [
    "Ale nebyl by to python, kdyby nenabízel lepší řešení:"
   ]
  },
  {
   "cell_type": "code",
   "execution_count": 21,
   "id": "8b7f91c5",
   "metadata": {},
   "outputs": [
    {
     "data": {
      "text/plain": [
       "(1,)"
      ]
     },
     "execution_count": 21,
     "metadata": {},
     "output_type": "execute_result"
    }
   ],
   "source": [
    "1,"
   ]
  },
  {
   "cell_type": "code",
   "execution_count": 22,
   "id": "4513497b",
   "metadata": {},
   "outputs": [],
   "source": [
    "a = (1,2)\n"
   ]
  },
  {
   "cell_type": "code",
   "execution_count": 28,
   "id": "7e0222ab",
   "metadata": {},
   "outputs": [
    {
     "data": {
      "text/plain": [
       "(1, 2, 1, 2, 1, 2, 1, 2, 1, 2, 1, 2, 1, 2, 1, 2, 1, 2, 1, 2)"
      ]
     },
     "execution_count": 28,
     "metadata": {},
     "output_type": "execute_result"
    }
   ],
   "source": [
    "t = a * 10\n",
    "t"
   ]
  },
  {
   "cell_type": "code",
   "execution_count": 29,
   "id": "310b32aa",
   "metadata": {},
   "outputs": [
    {
     "data": {
      "text/plain": [
       "(1, 2, 1)"
      ]
     },
     "execution_count": 29,
     "metadata": {},
     "output_type": "execute_result"
    }
   ],
   "source": [
    "t[:3]"
   ]
  },
  {
   "cell_type": "markdown",
   "id": "24790bc2",
   "metadata": {},
   "source": [
    "## Seznam (list)\n",
    "Jako N-tice, akorát jej lze měnit.\n",
    "\n",
    "K prvkům seznamu přistupuji přes indexy v `[]` stejně jako u řetězce nebo n-tice.\n",
    "\n",
    "Vytvoření seznamu pomocí hranatých závorek"
   ]
  },
  {
   "cell_type": "code",
   "execution_count": 30,
   "id": "3063f289",
   "metadata": {},
   "outputs": [
    {
     "name": "stdout",
     "output_type": "stream",
     "text": [
      "[1, 2, 3]\n"
     ]
    }
   ],
   "source": [
    "seznam = [1, 2, 3]\n",
    "print(seznam)"
   ]
  },
  {
   "cell_type": "markdown",
   "id": "11aa076b",
   "metadata": {},
   "source": [
    "prázdný list pomocí"
   ]
  },
  {
   "cell_type": "code",
   "execution_count": 31,
   "id": "32096544",
   "metadata": {},
   "outputs": [
    {
     "name": "stdout",
     "output_type": "stream",
     "text": [
      "[]\n"
     ]
    }
   ],
   "source": [
    "seznam = []\n",
    "print(seznam)"
   ]
  },
  {
   "cell_type": "markdown",
   "id": "f6b2c6d0",
   "metadata": {},
   "source": [
    "nebo pomocí funkce `list()` a ntice případně jiné stuktury"
   ]
  },
  {
   "cell_type": "code",
   "execution_count": null,
   "id": "2bf2dd21",
   "metadata": {},
   "outputs": [],
   "source": [
    "ntice = (1,2,3) \n",
    "seznam = list(ntice)\n",
    "print(seznam)"
   ]
  },
  {
   "cell_type": "markdown",
   "id": "ed055036",
   "metadata": {},
   "source": [
    "Podobně jako `tuple` může obsahovat různé prvky"
   ]
  },
  {
   "cell_type": "code",
   "execution_count": 33,
   "id": "b7c7229d",
   "metadata": {},
   "outputs": [
    {
     "name": "stdout",
     "output_type": "stream",
     "text": [
      "[123, 'abc', 1.23]\n"
     ]
    }
   ],
   "source": [
    "seznam = [123,'abc',1.23]\n",
    "print(seznam)"
   ]
  },
  {
   "cell_type": "markdown",
   "id": "a22ba150",
   "metadata": {},
   "source": [
    "> #### Příklad:\n",
    "> Uživatel zadá seznam čísel oddělených mezerami.\n",
    "> Metodou `split` z něj vytvoříte seznam.\n",
    ">\n",
    "> Vypište druhé a před-poslední prvek seznamu."
   ]
  },
  {
   "cell_type": "code",
   "execution_count": 36,
   "id": "ab85bbaf",
   "metadata": {},
   "outputs": [
    {
     "data": {
      "text/plain": [
       "('2', '3')"
      ]
     },
     "execution_count": 36,
     "metadata": {},
     "output_type": "execute_result"
    }
   ],
   "source": [
    "seznam = input(\"Zadej čísla oddělená mezerou: \").split()\n",
    "seznam[1], seznam[-2]"
   ]
  },
  {
   "cell_type": "markdown",
   "id": "300a634c",
   "metadata": {},
   "source": [
    "Určení počtu prvků v seznamu pomocí funkce `len()`"
   ]
  },
  {
   "cell_type": "code",
   "execution_count": null,
   "id": "e56b7b92",
   "metadata": {},
   "outputs": [],
   "source": [
    "seznam = [123,'abc',1.23]\n",
    "len(seznam)"
   ]
  },
  {
   "cell_type": "markdown",
   "id": "37d5bf8d",
   "metadata": {},
   "source": [
    "Dotaz na přítomnost prvku v seznamu"
   ]
  },
  {
   "cell_type": "code",
   "execution_count": null,
   "id": "a175b8ca",
   "metadata": {},
   "outputs": [],
   "source": [
    "seznam = [123,'abc',1.23]\n",
    "prvek = 66\n",
    "prvek in seznam"
   ]
  },
  {
   "cell_type": "markdown",
   "id": "3b44a352",
   "metadata": {},
   "source": [
    "### Operace se seznamy (nemění vstupní seznam)\n",
    "Seznamy můžeme sečíst, původní zůstanou nezměněné"
   ]
  },
  {
   "cell_type": "code",
   "execution_count": 37,
   "id": "6461ca41",
   "metadata": {},
   "outputs": [
    {
     "data": {
      "text/plain": [
       "[123, 'abc', 1.23, 4, 5, 6]"
      ]
     },
     "execution_count": 37,
     "metadata": {},
     "output_type": "execute_result"
    }
   ],
   "source": [
    "seznam = [123,'abc',1.23]\n",
    "seznam + [4,5,6]"
   ]
  },
  {
   "cell_type": "markdown",
   "id": "6083cb20",
   "metadata": {},
   "source": [
    "Seznamy můžeme i násobit číslem"
   ]
  },
  {
   "cell_type": "code",
   "execution_count": 38,
   "id": "48c5220e",
   "metadata": {},
   "outputs": [
    {
     "data": {
      "text/plain": [
       "[123, 'abc', 1.23, 123, 'abc', 1.23]"
      ]
     },
     "execution_count": 38,
     "metadata": {},
     "output_type": "execute_result"
    }
   ],
   "source": [
    "seznam = [123,'abc',1.23]\n",
    "seznam * 2"
   ]
  },
  {
   "cell_type": "markdown",
   "id": "38bc0866",
   "metadata": {},
   "source": [
    "Získání určité části seznamu"
   ]
  },
  {
   "cell_type": "code",
   "execution_count": 39,
   "id": "5d404a85",
   "metadata": {},
   "outputs": [
    {
     "data": {
      "text/plain": [
       "[3, 4, 5]"
      ]
     },
     "execution_count": 39,
     "metadata": {},
     "output_type": "execute_result"
    }
   ],
   "source": [
    "seznam = [1,2,3,4,5,6,7,8,9]\n",
    "seznam[2:5]"
   ]
  },
  {
   "cell_type": "markdown",
   "id": "bdac3832",
   "metadata": {},
   "source": [
    "Odříznutí začátku"
   ]
  },
  {
   "cell_type": "code",
   "execution_count": 40,
   "id": "74712d59",
   "metadata": {},
   "outputs": [
    {
     "data": {
      "text/plain": [
       "[3, 4, 5, 6, 7, 8, 9]"
      ]
     },
     "execution_count": 40,
     "metadata": {},
     "output_type": "execute_result"
    }
   ],
   "source": [
    "seznam = [1,2,3,4,5,6,7,8,9]\n",
    "seznam[2:]"
   ]
  },
  {
   "cell_type": "markdown",
   "id": "a372bbd3",
   "metadata": {},
   "source": [
    "Odříznutí konce"
   ]
  },
  {
   "cell_type": "code",
   "execution_count": 41,
   "id": "9324ecc4",
   "metadata": {},
   "outputs": [
    {
     "data": {
      "text/plain": [
       "[1, 2, 3, 4, 5]"
      ]
     },
     "execution_count": 41,
     "metadata": {},
     "output_type": "execute_result"
    }
   ],
   "source": [
    "seznam = [1,2,3,4,5,6,7,8,9]\n",
    "seznam[:5]"
   ]
  },
  {
   "cell_type": "markdown",
   "id": "5edc952b",
   "metadata": {},
   "source": [
    "Při řezání můžeme indexovat i od konce!"
   ]
  },
  {
   "cell_type": "code",
   "execution_count": 42,
   "id": "c19c5c79",
   "metadata": {},
   "outputs": [
    {
     "data": {
      "text/plain": [
       "[1, 2, 3, 4, 5, 6, 7]"
      ]
     },
     "execution_count": 42,
     "metadata": {},
     "output_type": "execute_result"
    }
   ],
   "source": [
    "seznam = [1,2,3,4,5,6,7,8,9]\n",
    "seznam[:-2]"
   ]
  },
  {
   "cell_type": "markdown",
   "id": "57302f0b",
   "metadata": {},
   "source": [
    "> #### Příklad:\n",
    "> Vytvořte dva listy obsahující 3 libovolné položky.\n",
    "> Vytvořte nový seznam obsahující dva poslední prvky z obou seznamů."
   ]
  },
  {
   "cell_type": "code",
   "execution_count": 45,
   "id": "ad04019a",
   "metadata": {},
   "outputs": [
    {
     "data": {
      "text/plain": [
       "['2', '3', 'b', 'c']"
      ]
     },
     "execution_count": 45,
     "metadata": {},
     "output_type": "execute_result"
    }
   ],
   "source": [
    "a = input(\"První seznam\").split()\n",
    "b = input(\"Druhý seznam\").split()\n",
    "\n",
    "c = a[-2:] + b[-2:]\n",
    "c"
   ]
  },
  {
   "cell_type": "markdown",
   "id": "e93fd0d5",
   "metadata": {},
   "source": [
    "### Modifikace seznamu\n",
    "Změna konkrétní položky"
   ]
  },
  {
   "cell_type": "code",
   "execution_count": 46,
   "id": "c7e57997",
   "metadata": {},
   "outputs": [
    {
     "data": {
      "text/plain": [
       "[10, 'abc', 1.23]"
      ]
     },
     "execution_count": 46,
     "metadata": {},
     "output_type": "execute_result"
    }
   ],
   "source": [
    "seznam = [123,'abc',1.23]\n",
    "seznam[0] = 10\n",
    "seznam"
   ]
  },
  {
   "cell_type": "code",
   "execution_count": 71,
   "id": "a25db76d",
   "metadata": {},
   "outputs": [
    {
     "data": {
      "text/plain": [
       "['a', 10, 20, 'b', 'c', 'd', 'f']"
      ]
     },
     "execution_count": 71,
     "metadata": {},
     "output_type": "execute_result"
    }
   ],
   "source": [
    "seznam = ['a','b','c','d','f']\n",
    "seznam[1:1] = [10,20]\n",
    "seznam"
   ]
  },
  {
   "cell_type": "markdown",
   "id": "6b2f0685",
   "metadata": {},
   "source": [
    "Připojení položky na konec seznamu"
   ]
  },
  {
   "cell_type": "code",
   "execution_count": 67,
   "id": "6020b485",
   "metadata": {},
   "outputs": [
    {
     "data": {
      "text/plain": [
       "[123, 'abc', 1.23, 'ahoj']"
      ]
     },
     "execution_count": 67,
     "metadata": {},
     "output_type": "execute_result"
    }
   ],
   "source": [
    "seznam = [123,'abc',1.23]\n",
    "seznam.append('ahoj')\n",
    "seznam"
   ]
  },
  {
   "cell_type": "markdown",
   "id": "79ed1d77",
   "metadata": {},
   "source": [
    "Připojení jiného seznamu na konec seznamu"
   ]
  },
  {
   "cell_type": "code",
   "execution_count": 69,
   "id": "11797146",
   "metadata": {},
   "outputs": [
    {
     "data": {
      "text/plain": [
       "[123, 'abc', 1.23, 'ahoj', 'svete']"
      ]
     },
     "execution_count": 69,
     "metadata": {},
     "output_type": "execute_result"
    }
   ],
   "source": [
    "seznam = [123,'abc',1.23]\n",
    "seznam.extend(['ahoj', 'svete'])\n",
    "seznam"
   ]
  },
  {
   "cell_type": "markdown",
   "id": "64070cff",
   "metadata": {},
   "source": [
    "Přidání položky na konkrétní pozici"
   ]
  },
  {
   "cell_type": "code",
   "execution_count": 70,
   "id": "2cd0fe9c",
   "metadata": {},
   "outputs": [
    {
     "data": {
      "text/plain": [
       "[123, 'kuk', 'abc', 1.23]"
      ]
     },
     "execution_count": 70,
     "metadata": {},
     "output_type": "execute_result"
    }
   ],
   "source": [
    "seznam = [123,'abc',1.23]\n",
    "seznam.insert(1, 'kuk')\n",
    "seznam"
   ]
  },
  {
   "cell_type": "code",
   "execution_count": 75,
   "id": "21f87204",
   "metadata": {},
   "outputs": [
    {
     "name": "stdout",
     "output_type": "stream",
     "text": [
      "1.23\n"
     ]
    },
    {
     "data": {
      "text/plain": [
       "[123, 'abc']"
      ]
     },
     "execution_count": 75,
     "metadata": {},
     "output_type": "execute_result"
    }
   ],
   "source": [
    "seznam = [123,'abc',1.23]\n",
    "print(seznam.pop(2))\n",
    "seznam"
   ]
  },
  {
   "cell_type": "markdown",
   "id": "8eb6bb8d",
   "metadata": {},
   "source": [
    "Odebrání položky ze seznamu podle indexu, `pop()` bez parametru odebere poslední prvek."
   ]
  },
  {
   "cell_type": "code",
   "execution_count": 77,
   "id": "150daa2d",
   "metadata": {},
   "outputs": [
    {
     "data": {
      "text/plain": [
       "['a', 'b', 'd', 'f']"
      ]
     },
     "execution_count": 77,
     "metadata": {},
     "output_type": "execute_result"
    }
   ],
   "source": [
    "seznam = ['a','b','c','d','f']\n",
    "del seznam[2]\n",
    "seznam"
   ]
  },
  {
   "cell_type": "markdown",
   "id": "5ee58bab",
   "metadata": {},
   "source": [
    "Uspořádání prvků v seznamu"
   ]
  },
  {
   "cell_type": "code",
   "execution_count": 78,
   "id": "45321fea",
   "metadata": {},
   "outputs": [
    {
     "data": {
      "text/plain": [
       "['aa', 'bb', 'cc']"
      ]
     },
     "execution_count": 78,
     "metadata": {},
     "output_type": "execute_result"
    }
   ],
   "source": [
    "seznam = ['bb', 'aa', 'cc'] \n",
    "seznam.sort()\n",
    "seznam"
   ]
  },
  {
   "cell_type": "markdown",
   "id": "46f2b3d7",
   "metadata": {},
   "source": [
    "Otočení počadí prvků v seznamu"
   ]
  },
  {
   "cell_type": "code",
   "execution_count": 79,
   "id": "76cf3a41",
   "metadata": {},
   "outputs": [
    {
     "data": {
      "text/plain": [
       "['cc', 'bb', 'aa']"
      ]
     },
     "execution_count": 79,
     "metadata": {},
     "output_type": "execute_result"
    }
   ],
   "source": [
    "seznam = ['aa', 'bb', 'cc'] \n",
    "seznam.reverse()\n",
    "seznam"
   ]
  },
  {
   "cell_type": "markdown",
   "id": "035f1b0e",
   "metadata": {},
   "source": [
    "### Generování seznamu čísel\n",
    "Seznam s posloupností čísel se používá v cyklech"
   ]
  },
  {
   "cell_type": "code",
   "execution_count": 85,
   "id": "4a36458d",
   "metadata": {},
   "outputs": [
    {
     "data": {
      "text/plain": [
       "[0, 1, 2, 3]"
      ]
     },
     "execution_count": 85,
     "metadata": {},
     "output_type": "execute_result"
    }
   ],
   "source": [
    "list(range(4))"
   ]
  },
  {
   "cell_type": "markdown",
   "id": "128a802c",
   "metadata": {},
   "source": [
    "Nastavení mezí a přírůstku při generování seznamu čísel."
   ]
  },
  {
   "cell_type": "code",
   "execution_count": 86,
   "id": "1be660b2",
   "metadata": {},
   "outputs": [
    {
     "data": {
      "text/plain": [
       "[-6, -4, -2, 0, 2, 4, 6]"
      ]
     },
     "execution_count": 86,
     "metadata": {},
     "output_type": "execute_result"
    }
   ],
   "source": [
    "list(range(-6,7,2))"
   ]
  },
  {
   "cell_type": "markdown",
   "id": "2dc4e39e",
   "metadata": {},
   "source": [
    "> #### Příklad\n",
    "> 1. Vytvořte list `[1,2,3,4,5]` pomocí `range()`. \n",
    "> 2. Vytvořte list `[5,4,3,2,1]` pomocí `range()`. "
   ]
  },
  {
   "cell_type": "code",
   "execution_count": 87,
   "id": "489ccbaa",
   "metadata": {},
   "outputs": [
    {
     "data": {
      "text/plain": [
       "[1, 2, 3, 4, 5]"
      ]
     },
     "execution_count": 87,
     "metadata": {},
     "output_type": "execute_result"
    }
   ],
   "source": [
    "# Řešení\n",
    "list(range(1,6))"
   ]
  },
  {
   "cell_type": "code",
   "execution_count": 89,
   "id": "ba41c46e",
   "metadata": {},
   "outputs": [
    {
     "data": {
      "text/plain": [
       "[5, 4, 3, 2, 1]"
      ]
     },
     "execution_count": 89,
     "metadata": {},
     "output_type": "execute_result"
    }
   ],
   "source": [
    "list(range(5,0,-1))"
   ]
  },
  {
   "cell_type": "markdown",
   "id": "145d3b7f",
   "metadata": {},
   "source": [
    "Spočítání výskytů nějakého prvku v seznamu."
   ]
  },
  {
   "cell_type": "code",
   "execution_count": 82,
   "id": "c70ac6e9",
   "metadata": {},
   "outputs": [
    {
     "data": {
      "text/plain": [
       "1"
      ]
     },
     "execution_count": 82,
     "metadata": {},
     "output_type": "execute_result"
    }
   ],
   "source": [
    "seznam = [123,\"a\",123,\"b\"]\n",
    "seznam.index('a')"
   ]
  },
  {
   "cell_type": "markdown",
   "id": "cc4f9243",
   "metadata": {},
   "source": [
    "### Rozbalení seznamu\n",
    "Stejně jako `tuple` umí Python rozbalit i seznam. \n",
    "Zvažte následující příklad:"
   ]
  },
  {
   "cell_type": "code",
   "execution_count": 84,
   "id": "59f38c93",
   "metadata": {},
   "outputs": [
    {
     "data": {
      "text/plain": [
       "(1, 2, 3)"
      ]
     },
     "execution_count": 84,
     "metadata": {},
     "output_type": "execute_result"
    }
   ],
   "source": [
    "values = [1, 2, 3]\n",
    "a, b, c = values\n",
    "a, b, c"
   ]
  },
  {
   "cell_type": "markdown",
   "id": "d862ffd9",
   "metadata": {},
   "source": [
    "Ale pozor, pokud bychom chtěli seznam rozbalit do funkce (funkce probereme za chvíli) tak se seznam aplikuje pouze na první paramter.\n",
    "Musíme tedy Pythonu říci, aby seznam rozbalil a to uděláme pomocí operátoru `*`"
   ]
  },
  {
   "cell_type": "code",
   "execution_count": 91,
   "id": "56123191",
   "metadata": {},
   "outputs": [
    {
     "data": {
      "text/plain": [
       "6"
      ]
     },
     "execution_count": 91,
     "metadata": {},
     "output_type": "execute_result"
    }
   ],
   "source": [
    "def sum(a, b, c):\n",
    "    return a + b + c\n",
    "\n",
    "values = [1, 2, 3]\n",
    "sum(*values)"
   ]
  },
  {
   "cell_type": "markdown",
   "id": "24e66d07",
   "metadata": {},
   "source": [
    "## Množina (set)\n",
    "Matematicky pojatá – každý prvek pouze jednou, je neuspořádaná.\n",
    "\n",
    "Definice výčtem."
   ]
  },
  {
   "cell_type": "code",
   "execution_count": 92,
   "id": "c5119697",
   "metadata": {},
   "outputs": [
    {
     "data": {
      "text/plain": [
       "{1, 2, 3, 4}"
      ]
     },
     "execution_count": 92,
     "metadata": {},
     "output_type": "execute_result"
    }
   ],
   "source": [
    "{1, 1, 2, 2, 3, 4}"
   ]
  },
  {
   "cell_type": "code",
   "execution_count": 96,
   "id": "5d1b7f0b",
   "metadata": {},
   "outputs": [
    {
     "data": {
      "text/plain": [
       "True"
      ]
     },
     "execution_count": 96,
     "metadata": {},
     "output_type": "execute_result"
    }
   ],
   "source": [
    "[1,2,3] == [1,2,3]"
   ]
  },
  {
   "cell_type": "markdown",
   "id": "dc9c167f",
   "metadata": {},
   "source": [
    "Převod z listu (funguje i naopak)"
   ]
  },
  {
   "cell_type": "code",
   "execution_count": 111,
   "id": "d8bce97d",
   "metadata": {},
   "outputs": [
    {
     "ename": "TypeError",
     "evalue": "'int' object is not iterable",
     "output_type": "error",
     "traceback": [
      "\u001b[0;31m---------------------------------------------------------------------------\u001b[0m",
      "\u001b[0;31mTypeError\u001b[0m                                 Traceback (most recent call last)",
      "\u001b[0;32m/tmp/ipykernel_203693/2151344565.py\u001b[0m in \u001b[0;36m<module>\u001b[0;34m\u001b[0m\n\u001b[1;32m      1\u001b[0m \u001b[0mseznam\u001b[0m \u001b[0;34m=\u001b[0m \u001b[0;34m[\u001b[0m\u001b[0;34m\"a\"\u001b[0m\u001b[0;34m,\u001b[0m\u001b[0;34m\"b\"\u001b[0m\u001b[0;34m,\u001b[0m\u001b[0;34m\"c\"\u001b[0m\u001b[0;34m]\u001b[0m\u001b[0;34m\u001b[0m\u001b[0;34m\u001b[0m\u001b[0m\n\u001b[0;32m----> 2\u001b[0;31m \u001b[0mset\u001b[0m\u001b[0;34m(\u001b[0m\u001b[0;36m1\u001b[0m\u001b[0;34m,\u001b[0m\u001b[0;34m)\u001b[0m\u001b[0;34m\u001b[0m\u001b[0;34m\u001b[0m\u001b[0m\n\u001b[0m",
      "\u001b[0;31mTypeError\u001b[0m: 'int' object is not iterable"
     ]
    }
   ],
   "source": [
    "seznam = [\"a\",\"b\",\"c\"]\n",
    "set(1,)"
   ]
  },
  {
   "cell_type": "markdown",
   "id": "5adb42a9",
   "metadata": {},
   "source": [
    "### Testy nad množinami\n",
    "Dotaz jestlu je prvek v množině"
   ]
  },
  {
   "cell_type": "code",
   "execution_count": null,
   "id": "247526cd",
   "metadata": {},
   "outputs": [],
   "source": [
    "mnozina = {1, 2, 3}\n",
    "5 in mnozina"
   ]
  },
  {
   "cell_type": "code",
   "execution_count": 98,
   "id": "1ac80c4a",
   "metadata": {},
   "outputs": [
    {
     "data": {
      "text/plain": [
       "False"
      ]
     },
     "execution_count": 98,
     "metadata": {},
     "output_type": "execute_result"
    }
   ],
   "source": [
    "mnozina = {1, 2, 3}\n",
    "5 in mnozina"
   ]
  },
  {
   "cell_type": "markdown",
   "id": "1ea3e3fd",
   "metadata": {},
   "source": [
    "Dotaz jestli jsou podmnožinou jiné množiny, existuji i opačný dotaz: `<set1>.issuperset(<set2>)`"
   ]
  },
  {
   "cell_type": "code",
   "execution_count": null,
   "id": "2c6e7f71",
   "metadata": {},
   "outputs": [],
   "source": [
    "u = {1, 2, 3, 4}\n",
    "v = {1, 2, 3}\n",
    "v.issubset(u)"
   ]
  },
  {
   "cell_type": "markdown",
   "id": "dcd46094",
   "metadata": {},
   "source": [
    "Zjištění počtu prvků v množině"
   ]
  },
  {
   "cell_type": "code",
   "execution_count": null,
   "id": "cc6ff11f",
   "metadata": {},
   "outputs": [],
   "source": [
    "u = {1, 2, 3, 4}\n",
    "len(u)"
   ]
  },
  {
   "cell_type": "markdown",
   "id": "8e0aabae",
   "metadata": {},
   "source": [
    "### Množinové operace (nemění vstupní množinu)\n",
    "Průnik dvou množin, jinak také: `<set1>.intersection(<set2>)`"
   ]
  },
  {
   "cell_type": "code",
   "execution_count": null,
   "id": "4e882cea",
   "metadata": {},
   "outputs": [],
   "source": [
    "u = {1, 2, 3, 4}\n",
    "v = {3, 4, 5, 6}\n",
    "u & v"
   ]
  },
  {
   "cell_type": "markdown",
   "id": "a4b0c9d4",
   "metadata": {},
   "source": [
    "Sjednocení dvou množin, jinak také: `<set1>.union(<set2>)`"
   ]
  },
  {
   "cell_type": "code",
   "execution_count": null,
   "id": "18e0c832",
   "metadata": {},
   "outputs": [],
   "source": [
    "u = {1, 2, 3, 4}\n",
    "v = {3, 4, 5, 6}\n",
    "u | v"
   ]
  },
  {
   "cell_type": "markdown",
   "id": "17468fd4",
   "metadata": {},
   "source": [
    "Rozdíl dvou množin, jinak také: `<set1>.difference(<set2>)`"
   ]
  },
  {
   "cell_type": "code",
   "execution_count": null,
   "id": "6be102ec",
   "metadata": {},
   "outputs": [],
   "source": [
    "u = {1, 2, 3, 4}\n",
    "v = {3, 4, 5, 6}\n",
    "u - v"
   ]
  },
  {
   "cell_type": "markdown",
   "id": "5841179c",
   "metadata": {},
   "source": [
    "### Modifikace množin\n",
    "Odebrání prvku z množiny"
   ]
  },
  {
   "cell_type": "code",
   "execution_count": 99,
   "id": "137811cd",
   "metadata": {},
   "outputs": [
    {
     "data": {
      "text/plain": [
       "{'a', 'x', 'z'}"
      ]
     },
     "execution_count": 99,
     "metadata": {},
     "output_type": "execute_result"
    }
   ],
   "source": [
    "u = {'a', 'x', 'y' ,'z'}\n",
    "u.discard('y')\n",
    "u"
   ]
  },
  {
   "cell_type": "markdown",
   "id": "b8afab97",
   "metadata": {},
   "source": [
    "Přidání prvků do množinu"
   ]
  },
  {
   "cell_type": "code",
   "execution_count": 101,
   "id": "91e69af8",
   "metadata": {},
   "outputs": [
    {
     "data": {
      "text/plain": [
       "{'a', 'x', 'y', 'z'}"
      ]
     },
     "execution_count": 101,
     "metadata": {},
     "output_type": "execute_result"
    }
   ],
   "source": [
    "u = {'a', 'x', 'y' ,'z'}\n",
    "u.add('a')\n",
    "u"
   ]
  },
  {
   "cell_type": "markdown",
   "id": "f5821f60",
   "metadata": {},
   "source": [
    "> #### Příklad:\n",
    "> Mějme dva seznamy se jmény zaměstnanců. \n",
    "> První seznam eviduje jména programátorů, druhý jména inženýrů. \n",
    "> Zaměstnanec může být současně na více seznamech. \n",
    "> 1. Vypište jména zaměstnanců jež jsou zapsáni na obou seznamech (tj. zaměstnanec je programátor i inženýr)\n",
    "> 2. Vypište jména všech zaměstnanců."
   ]
  },
  {
   "cell_type": "code",
   "execution_count": 104,
   "id": "e8fb40cd",
   "metadata": {},
   "outputs": [
    {
     "data": {
      "text/plain": [
       "{'Honza', 'Jirka'}"
      ]
     },
     "execution_count": 104,
     "metadata": {},
     "output_type": "execute_result"
    }
   ],
   "source": [
    "# Řešení\n",
    "engineer = {'Honza', 'Pepa', 'Karel', 'Jirka'}\n",
    "programs = {'Honza', 'Jirka', 'Eva', 'Tomas'}\n",
    "\n",
    "engineer & programs"
   ]
  },
  {
   "cell_type": "code",
   "execution_count": null,
   "id": "cc863814",
   "metadata": {},
   "outputs": [],
   "source": []
  },
  {
   "cell_type": "markdown",
   "id": "4e974a4a",
   "metadata": {},
   "source": [
    "## Slovníky (dict)\n",
    "**Klíč + hodnota**.\n",
    "\n",
    "Jinde HashTable, Map, asociativní pole, ...\n",
    "\n",
    "klasické schéma klíč - hodnota\n",
    "implementováno pomocí hash table \n",
    "\n",
    "Vytvoření slovníku výčtem"
   ]
  },
  {
   "cell_type": "code",
   "execution_count": 105,
   "id": "0b351782",
   "metadata": {},
   "outputs": [
    {
     "data": {
      "text/plain": [
       "{'one': 1, 'two': 2, 'three': 3}"
      ]
     },
     "execution_count": 105,
     "metadata": {},
     "output_type": "execute_result"
    }
   ],
   "source": [
    "{'one': 1, 'two': 2, 'three': 3}"
   ]
  },
  {
   "cell_type": "markdown",
   "id": "e35367b3",
   "metadata": {},
   "source": [
    "Vytvoření množiny funkcí `dict()`"
   ]
  },
  {
   "cell_type": "code",
   "execution_count": 106,
   "id": "09b2a852",
   "metadata": {},
   "outputs": [
    {
     "data": {
      "text/plain": [
       "{'one': 1, 'two': 2, 'three': 3}"
      ]
     },
     "execution_count": 106,
     "metadata": {},
     "output_type": "execute_result"
    }
   ],
   "source": [
    "dict(one=1, two=2, three=3)"
   ]
  },
  {
   "cell_type": "markdown",
   "id": "1f58eab5",
   "metadata": {},
   "source": [
    "Vytvoření prázdného slovníku, ne množiny! pomocí `{}`"
   ]
  },
  {
   "cell_type": "code",
   "execution_count": 107,
   "id": "ff947e8a",
   "metadata": {},
   "outputs": [
    {
     "data": {
      "text/plain": [
       "{}"
      ]
     },
     "execution_count": 107,
     "metadata": {},
     "output_type": "execute_result"
    }
   ],
   "source": [
    "{}"
   ]
  },
  {
   "cell_type": "markdown",
   "id": "ed8e932b",
   "metadata": {},
   "source": [
    "### Dotazu na slovnik\n",
    "Získání prvků ze slovníku"
   ]
  },
  {
   "cell_type": "code",
   "execution_count": 115,
   "id": "d428ceef",
   "metadata": {},
   "outputs": [
    {
     "name": "stdout",
     "output_type": "stream",
     "text": [
      "1\n",
      "False\n"
     ]
    }
   ],
   "source": [
    "slovnik = {'one': 1, 'two': 2, 'three': 3}\n",
    "print(slovnik['one'])\n",
    "print('xxx' in slovnik)"
   ]
  },
  {
   "cell_type": "markdown",
   "id": "ccee82c7",
   "metadata": {},
   "source": [
    "Získání hodnoty ze slovníku, ale s výchozí hodnotou"
   ]
  },
  {
   "cell_type": "code",
   "execution_count": 117,
   "id": "6713932b",
   "metadata": {},
   "outputs": [
    {
     "data": {
      "text/plain": [
       "[]"
      ]
     },
     "execution_count": 117,
     "metadata": {},
     "output_type": "execute_result"
    }
   ],
   "source": [
    "slovnik = {'one': 1, 'two': 2, 'three': 3}\n",
    "slovnik.get(\"XXX\", [])"
   ]
  },
  {
   "cell_type": "markdown",
   "id": "04357317",
   "metadata": {},
   "source": [
    "Získání množiny klíčů a hodnot a ze slovníku"
   ]
  },
  {
   "cell_type": "code",
   "execution_count": 118,
   "id": "dba9eef1",
   "metadata": {},
   "outputs": [
    {
     "name": "stdout",
     "output_type": "stream",
     "text": [
      "dict_keys(['one', 'two', 'three'])\n",
      "dict_values([1, 2, 3])\n",
      "dict_items([('one', 1), ('two', 2), ('three', 3)])\n"
     ]
    }
   ],
   "source": [
    "slovnik = {'one': 1, 'two': 2, 'three': 3}\n",
    "print(slovnik.keys())\n",
    "print(slovnik.values())\n",
    "print(slovnik.items())"
   ]
  },
  {
   "cell_type": "markdown",
   "id": "1eb05331",
   "metadata": {},
   "source": [
    "Dotazy na přítomnost prvků ve slovníku"
   ]
  },
  {
   "cell_type": "code",
   "execution_count": 119,
   "id": "faf50a39",
   "metadata": {},
   "outputs": [
    {
     "name": "stdout",
     "output_type": "stream",
     "text": [
      "True\n",
      "False\n",
      "True\n",
      "False\n",
      "True\n"
     ]
    }
   ],
   "source": [
    "slovnik = {'one': 1, 'two': 2, 'three': 3}\n",
    "print(\"one\" in slovnik)\n",
    "print(1 in slovnik)\n",
    "print(1 in slovnik.values())\n",
    "print(\"one\" in slovnik.items())\n",
    "print((\"one\", 1) in slovnik.items())"
   ]
  },
  {
   "cell_type": "markdown",
   "id": "e13376eb",
   "metadata": {},
   "source": [
    "### Modifikace slovníku\n",
    "\n",
    "Přidáné nebo modifikace položky ve slovníku"
   ]
  },
  {
   "cell_type": "code",
   "execution_count": 120,
   "id": "dda50ead",
   "metadata": {},
   "outputs": [
    {
     "data": {
      "text/plain": [
       "{'one': 1}"
      ]
     },
     "execution_count": 120,
     "metadata": {},
     "output_type": "execute_result"
    }
   ],
   "source": [
    "slovnik = {}\n",
    "slovnik[\"one\"] = 1\n",
    "slovnik"
   ]
  },
  {
   "cell_type": "markdown",
   "id": "f31e5a4d",
   "metadata": {},
   "source": [
    "Přidání více položok do slovníku"
   ]
  },
  {
   "cell_type": "code",
   "execution_count": 122,
   "id": "b9054870",
   "metadata": {},
   "outputs": [
    {
     "data": {
      "text/plain": [
       "{'one': 1, 'two': 4, 'three': 3, 'five': 5}"
      ]
     },
     "execution_count": 122,
     "metadata": {},
     "output_type": "execute_result"
    }
   ],
   "source": [
    "slovnik = {\"one\":1, \"two\":2, \"three\":3}\n",
    "slovnik.update({\"two\":4, \"five\":5})\n",
    "slovnik"
   ]
  },
  {
   "cell_type": "markdown",
   "id": "c78d6988",
   "metadata": {},
   "source": [
    "Modifikace zánamu ve slovníku"
   ]
  },
  {
   "cell_type": "code",
   "execution_count": 123,
   "id": "c6475ea2",
   "metadata": {},
   "outputs": [
    {
     "data": {
      "text/plain": [
       "{'one': 'jedna', 'two': 2, 'three': 3}"
      ]
     },
     "execution_count": 123,
     "metadata": {},
     "output_type": "execute_result"
    }
   ],
   "source": [
    "slovnik = {\"one\":1, \"two\":2, \"three\":3}\n",
    "slovnik[\"one\"] = \"jedna\"\n",
    "slovnik"
   ]
  },
  {
   "cell_type": "markdown",
   "id": "9c85a6bb",
   "metadata": {},
   "source": [
    "Odtranění záznamu ze slovníku"
   ]
  },
  {
   "cell_type": "code",
   "execution_count": 125,
   "id": "c1fdf26f",
   "metadata": {},
   "outputs": [
    {
     "name": "stdout",
     "output_type": "stream",
     "text": [
      "2\n"
     ]
    },
    {
     "data": {
      "text/plain": [
       "{'one': 1, 'three': 3}"
      ]
     },
     "execution_count": 125,
     "metadata": {},
     "output_type": "execute_result"
    }
   ],
   "source": [
    "slovnik = {\"one\":1, \"two\":2, \"three\":3}\n",
    "print(slovnik.pop(\"two\"))\n",
    "slovnik"
   ]
  },
  {
   "cell_type": "markdown",
   "id": "e533fc64",
   "metadata": {},
   "source": [
    "> #### Příklad:\n",
    "> Potřebujeme evidovat jména lidí a pro každého 0 až N telefonních čísel.\n",
    "> \n",
    "> - Zvolte vhodnou kombinaci datových typů, do které vše uložíte.\n",
    "> - Připravte si proměnnou adresář."
   ]
  },
  {
   "cell_type": "code",
   "execution_count": 134,
   "id": "c1baf7d5",
   "metadata": {},
   "outputs": [],
   "source": [
    "# Řešení\n",
    "seznam = {}"
   ]
  },
  {
   "cell_type": "markdown",
   "id": "0f91e897",
   "metadata": {},
   "source": [
    "> - Vytvořte v adresáři prázdný záznam \"Petr Novák\"."
   ]
  },
  {
   "cell_type": "code",
   "execution_count": 137,
   "id": "467364eb",
   "metadata": {},
   "outputs": [
    {
     "data": {
      "text/plain": [
       "{'Petr Novák': []}"
      ]
     },
     "execution_count": 137,
     "metadata": {},
     "output_type": "execute_result"
    }
   ],
   "source": [
    "# Řešení\n",
    "seznam['Petr Novák'] = []\n",
    "seznam"
   ]
  },
  {
   "cell_type": "markdown",
   "id": "8e7d09f9",
   "metadata": {},
   "source": [
    "> - Přidejte Petrovi telefonní číslo \"+420 123 456 789\"."
   ]
  },
  {
   "cell_type": "code",
   "execution_count": 138,
   "id": "392f05e4",
   "metadata": {},
   "outputs": [
    {
     "data": {
      "text/plain": [
       "{'Petr Novák': ['+420 123 456 789']}"
      ]
     },
     "execution_count": 138,
     "metadata": {},
     "output_type": "execute_result"
    }
   ],
   "source": [
    "# Řešení\n",
    "seznam['Petr Novák'].append('+420 123 456 789')\n",
    "seznam"
   ]
  },
  {
   "cell_type": "markdown",
   "id": "b122b9d5",
   "metadata": {},
   "source": [
    "> - Vypište všechna Petrova čísla."
   ]
  },
  {
   "cell_type": "code",
   "execution_count": 139,
   "id": "2a19dcd2",
   "metadata": {},
   "outputs": [
    {
     "data": {
      "text/plain": [
       "['+420 123 456 789']"
      ]
     },
     "execution_count": 139,
     "metadata": {},
     "output_type": "execute_result"
    }
   ],
   "source": [
    "# Řešení\n",
    "seznam['Petr Novák']"
   ]
  },
  {
   "cell_type": "markdown",
   "id": "98ec2aa6",
   "metadata": {},
   "source": [
    "> - Přidejte Petrovi telefonní číslo \"+666 987 654 321\"."
   ]
  },
  {
   "cell_type": "code",
   "execution_count": 140,
   "id": "107fdb91",
   "metadata": {},
   "outputs": [
    {
     "data": {
      "text/plain": [
       "{'Petr Novák': ['+420 123 456 789', '+666 987 654 321']}"
      ]
     },
     "execution_count": 140,
     "metadata": {},
     "output_type": "execute_result"
    }
   ],
   "source": [
    "# Řešení\n",
    "seznam['Petr Novák'].append('+666 987 654 321')\n",
    "seznam"
   ]
  },
  {
   "cell_type": "markdown",
   "id": "e890f3bd",
   "metadata": {},
   "source": [
    "> - Vypište Petrovo poslední číslo."
   ]
  },
  {
   "cell_type": "code",
   "execution_count": 141,
   "id": "5c3d88b3",
   "metadata": {},
   "outputs": [
    {
     "data": {
      "text/plain": [
       "'+666 987 654 321'"
      ]
     },
     "execution_count": 141,
     "metadata": {},
     "output_type": "execute_result"
    }
   ],
   "source": [
    "# Řešení\n",
    "seznam['Petr Novák'][-1]"
   ]
  },
  {
   "cell_type": "markdown",
   "id": "b96a6759",
   "metadata": {},
   "source": [
    "> - Vypište, zdali v adresáři existuje člověk \"Miro Žbirka\"."
   ]
  },
  {
   "cell_type": "code",
   "execution_count": 142,
   "id": "1e8a7002",
   "metadata": {},
   "outputs": [
    {
     "data": {
      "text/plain": [
       "False"
      ]
     },
     "execution_count": 142,
     "metadata": {},
     "output_type": "execute_result"
    }
   ],
   "source": [
    "# Řešení\n",
    "\"Miro Žbirka\" in seznam"
   ]
  },
  {
   "cell_type": "markdown",
   "id": "87e637f7",
   "metadata": {},
   "source": [
    "> - Vypište celkový počet osob uložených v adresáři."
   ]
  },
  {
   "cell_type": "code",
   "execution_count": 143,
   "id": "37c3830c",
   "metadata": {},
   "outputs": [
    {
     "data": {
      "text/plain": [
       "1"
      ]
     },
     "execution_count": 143,
     "metadata": {},
     "output_type": "execute_result"
    }
   ],
   "source": [
    "# Řešení\n",
    "len(seznam)"
   ]
  },
  {
   "cell_type": "markdown",
   "id": "3d6b0377",
   "metadata": {},
   "source": [
    "> - Vypište pouze jména osob uložených v adresáři."
   ]
  },
  {
   "cell_type": "code",
   "execution_count": 144,
   "id": "9a166b1e",
   "metadata": {},
   "outputs": [
    {
     "data": {
      "text/plain": [
       "dict_keys(['Petr Novák'])"
      ]
     },
     "execution_count": 144,
     "metadata": {},
     "output_type": "execute_result"
    }
   ],
   "source": [
    "# Řešení\n",
    "seznam.keys()"
   ]
  },
  {
   "cell_type": "markdown",
   "id": "8c06c6f3",
   "metadata": {},
   "source": [
    "## Buildin function pro praci se seznamy\n",
    "\n",
    "- `all(iterable)`\n",
    "- `ant(iterable)`\n",
    "- `enumerate(iterable, start=0)`\n",
    "- `filter(function, iterable)`\n",
    "- `len(iterable)`\n",
    "- `map(function, iterable, ...)¶`\n",
    "- `max(iterable, *[, key, default])`\n",
    "- `min(iterable, *[, key, default])`\n",
    "- `reversed(seq)`\n",
    "- `sorted(iterable, *, key=None, reverse=False)`\n",
    "- `sum(iterable, /, start=0)`\n",
    "- `zip(*iterables)`\n",
    "---\n",
    "\n",
    "#### Další zdroje\n",
    "- [Multiple assignment and tuple unpacking improve Python code readability](https://treyhunner.com/2018/03/tuple-unpacking-improves-python-code-readability/)"
   ]
  },
  {
   "cell_type": "code",
   "execution_count": null,
   "id": "2a9e88a9",
   "metadata": {},
   "outputs": [],
   "source": []
  }
 ],
 "metadata": {
  "interpreter": {
   "hash": "351af123f4fda19bbbaa019f11d818f2fe3be1acc9ebf40e93daf054b80fd89f"
  },
  "kernelspec": {
   "display_name": "Python 3.9.7 64-bit ('venv': venv)",
   "language": "python",
   "name": "python3"
  },
  "language_info": {
   "codemirror_mode": {
    "name": "ipython",
    "version": 3
   },
   "file_extension": ".py",
   "mimetype": "text/x-python",
   "name": "python",
   "nbconvert_exporter": "python",
   "pygments_lexer": "ipython3",
   "version": "3.9.7"
  }
 },
 "nbformat": 4,
 "nbformat_minor": 5
}
