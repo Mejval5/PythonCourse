{
 "cells": [
  {
   "cell_type": "markdown",
   "id": "46e5de6b",
   "metadata": {},
   "source": [
    "# Základní konstrukce jazyka\n",
    "Bloky kódu se v Pythonu neuzavírají do závorek, ale definují se pomocí odsazení.\n",
    "- Zvyšuje to přehlédnout kódu\n",
    "- **Musí se dodržovat**\n",
    "- Bíle znaky jsou mimo použití v odsazení ignorovány\n",
    "- Používá se **tabulátor** nebo mezery ([PEP8](https://www.python.org/dev/peps/pep-0008/) – Style Guide for Python Code*\n",
    ")\n",
    "  - *NELZE* kombinovat* \n",
    "\n",
    "### Řízení toku programu\n",
    "**`if`**: větvení toku podle podmínky\n",
    "\n",
    "**`while`** cyklus s podmínkou\n",
    "\n",
    "**`for`**: cyklus přes *něco*\n",
    "\n",
    "## Podmínka (`if`)\n",
    "Vícenásobné větvení kódu"
   ]
  },
  {
   "cell_type": "code",
   "execution_count": 8,
   "id": "a46fcb57",
   "metadata": {},
   "outputs": [
    {
     "name": "stdout",
     "output_type": "stream",
     "text": [
      "malá\n"
     ]
    }
   ],
   "source": [
    "promenna = 5\n",
    "\n",
    "if promenna < 1:\n",
    "    print('velká')\n",
    "elif promenna < 10:\n",
    "    print('malá')\n",
    "elif promenna < 100:\n",
    "    print('super')\n",
    "else:\n",
    "    print('akorát')"
   ]
  },
  {
   "cell_type": "markdown",
   "id": "60944154",
   "metadata": {},
   "source": [
    "![](media/bloky.png)\n",
    "\n",
    "> #### Příklad:\n",
    "> Načtěte od uživatele vstup (číslo) a vypište, zda je číslo kladné, záporné."
   ]
  },
  {
   "cell_type": "code",
   "execution_count": 14,
   "id": "b569dee1",
   "metadata": {},
   "outputs": [
    {
     "ename": "SyntaxError",
     "evalue": "invalid syntax (1469764863.py, line 4)",
     "output_type": "error",
     "traceback": [
      "\u001b[0;36m  File \u001b[0;32m\"/tmp/ipykernel_262657/1469764863.py\"\u001b[0;36m, line \u001b[0;32m4\u001b[0m\n\u001b[0;31m    if max(cislo, -1), -1:\u001b[0m\n\u001b[0m                     ^\u001b[0m\n\u001b[0;31mSyntaxError\u001b[0m\u001b[0;31m:\u001b[0m invalid syntax\n"
     ]
    }
   ],
   "source": [
    "# Řešení\n",
    "cislo = float(input(\"Zadej číslo\"))\n",
    "\n",
    "if cislo < 0:\n",
    "    print('Záporné')\n",
    "elif cislo > 0:\n",
    "    print('Kladné')\n",
    "else:\n",
    "    print('Nula')"
   ]
  },
  {
   "cell_type": "code",
   "execution_count": 24,
   "id": "9f5894f2",
   "metadata": {},
   "outputs": [
    {
     "name": "stdout",
     "output_type": "stream",
     "text": [
      "1\n",
      "1\n"
     ]
    }
   ],
   "source": [
    "def foo(cislo):\n",
    "    return 1\n",
    "\n",
    "r = foo(5)\n",
    "if r:\n",
    "    print(r)\n",
    "   \n",
    "if r:= foo(5):\n",
    "    print(r) "
   ]
  },
  {
   "cell_type": "markdown",
   "id": "99924cce",
   "metadata": {},
   "source": [
    "> #### Příklad:\n",
    "> Vytvořte jednoduchou kalkulačku. \n",
    ">\n",
    "> Uživatel zadá dvě čísla a poté mu bude prezentována nabídka operací \n",
    ">\n",
    "> Po vybrání bude operace provedena a výstup vypsán.\n",
    "> Operace jsou `+`, `-`, `*`, `/`"
   ]
  },
  {
   "cell_type": "code",
   "execution_count": null,
   "id": "88d00b9b",
   "metadata": {},
   "outputs": [],
   "source": [
    "# Řešení"
   ]
  },
  {
   "cell_type": "markdown",
   "id": "68b63e85",
   "metadata": {},
   "source": [
    "## Smyčka (`while`)\n",
    "Opakuje se, dokud je podmínka splněna."
   ]
  },
  {
   "cell_type": "code",
   "execution_count": 25,
   "id": "94b34d0f",
   "metadata": {},
   "outputs": [
    {
     "name": "stdout",
     "output_type": "stream",
     "text": [
      "0\n",
      "1\n",
      "2\n",
      "3\n"
     ]
    }
   ],
   "source": [
    "x = 0\n",
    "while x < 4:\n",
    "    x += 1 # pozor, žádné x++ neexistuje\n",
    "    print(x)\n",
    "    "
   ]
  },
  {
   "cell_type": "code",
   "execution_count": 29,
   "id": "ad7048d7",
   "metadata": {},
   "outputs": [
    {
     "name": "stdout",
     "output_type": "stream",
     "text": [
      "1\n",
      "2\n",
      "3\n"
     ]
    }
   ],
   "source": [
    "x  =  0\n",
    "while (x:=x+1) < 4:\n",
    "    print(x)"
   ]
  },
  {
   "cell_type": "markdown",
   "id": "34d412f9",
   "metadata": {},
   "source": [
    "A podobně jako u `if` je možné zde napsat i větev `else`"
   ]
  },
  {
   "cell_type": "code",
   "execution_count": 31,
   "id": "fb8cb8cd",
   "metadata": {},
   "outputs": [
    {
     "name": "stdout",
     "output_type": "stream",
     "text": [
      "while: 0\n",
      "while: 1\n",
      "while: 2\n",
      "while: 3\n",
      "else: 4\n"
     ]
    }
   ],
   "source": [
    "x  =  0\n",
    "while  x  <  4:\n",
    "    print(f'while: {x}')\n",
    "    x  +=  1 # pozor, žádné x++ neexistuje\n",
    "else:\n",
    "    print(f'else: {x}')"
   ]
  },
  {
   "cell_type": "markdown",
   "id": "c56ae13e",
   "metadata": {},
   "source": [
    "Smyčku lze přerušit v libovolném místě příkazem `break`"
   ]
  },
  {
   "cell_type": "code",
   "execution_count": 34,
   "id": "7a74f0c1",
   "metadata": {},
   "outputs": [
    {
     "name": "stdout",
     "output_type": "stream",
     "text": [
      "0\n",
      "1\n",
      "2\n"
     ]
    }
   ],
   "source": [
    "i=0\n",
    "while i < 10:\n",
    "    if input() == 'x':\n",
    "        break\n",
    "    print(i)\n",
    "    i=i+1\n",
    "else:\n",
    "    print('toto se nikdy nevypíše')"
   ]
  },
  {
   "cell_type": "markdown",
   "id": "7ba1c15b",
   "metadata": {},
   "source": [
    "Pokud *neni* smtčka přerušená, vykoná se také block ."
   ]
  },
  {
   "cell_type": "code",
   "execution_count": null,
   "id": "3c143a41",
   "metadata": {},
   "outputs": [],
   "source": [
    "x  =  0\n",
    "while  x  <  4:\n",
    "    print(x)\n",
    "    x  +=  1 # pozor, žádné x++ neexistuje"
   ]
  },
  {
   "cell_type": "markdown",
   "id": "c680e9d6",
   "metadata": {},
   "source": [
    "*Obdobně existuje i příkaz `continue`.\n",
    "\n",
    "> #### Příklad:\n",
    "> Upravte kalkulačku tak, aby se po vykonání výpočtu ptala, jestli chce uživatel skončit, nebo pokračovat."
   ]
  },
  {
   "cell_type": "code",
   "execution_count": null,
   "id": "91cf5b30",
   "metadata": {},
   "outputs": [],
   "source": [
    "# Řešení"
   ]
  },
  {
   "cell_type": "markdown",
   "id": "66e0dac5",
   "metadata": {},
   "source": [
    "> #### Příklad:\n",
    "> Hádání čísla trezoru."
   ]
  },
  {
   "cell_type": "code",
   "execution_count": 38,
   "id": "640ea268",
   "metadata": {},
   "outputs": [
    {
     "name": "stdout",
     "output_type": "stream",
     "text": [
      "Tajné číslo ve MENSI než True\n"
     ]
    },
    {
     "ename": "KeyboardInterrupt",
     "evalue": "Interrupted by user",
     "output_type": "error",
     "traceback": [
      "\u001b[0;31m---------------------------------------------------------------------------\u001b[0m",
      "\u001b[0;31mKeyboardInterrupt\u001b[0m                         Traceback (most recent call last)",
      "\u001b[0;32m/tmp/ipykernel_262657/2594523797.py\u001b[0m in \u001b[0;36m<module>\u001b[0;34m\u001b[0m\n\u001b[1;32m      2\u001b[0m \u001b[0msecret_number\u001b[0m \u001b[0;34m=\u001b[0m \u001b[0mrandrange\u001b[0m\u001b[0;34m(\u001b[0m\u001b[0;36m0\u001b[0m\u001b[0;34m,\u001b[0m \u001b[0;36m10\u001b[0m\u001b[0;34m)\u001b[0m\u001b[0;34m\u001b[0m\u001b[0;34m\u001b[0m\u001b[0m\n\u001b[1;32m      3\u001b[0m \u001b[0;34m\u001b[0m\u001b[0m\n\u001b[0;32m----> 4\u001b[0;31m \u001b[0;32mwhile\u001b[0m \u001b[0mcislo\u001b[0m\u001b[0;34m:=\u001b[0m\u001b[0mint\u001b[0m\u001b[0;34m(\u001b[0m\u001b[0minput\u001b[0m\u001b[0;34m(\u001b[0m\u001b[0;34m'Hadej cislo: '\u001b[0m\u001b[0;34m)\u001b[0m\u001b[0;34m)\u001b[0m \u001b[0;34m!=\u001b[0m \u001b[0msecret_number\u001b[0m\u001b[0;34m:\u001b[0m\u001b[0;34m\u001b[0m\u001b[0;34m\u001b[0m\u001b[0m\n\u001b[0m\u001b[1;32m      5\u001b[0m     \u001b[0;32mif\u001b[0m \u001b[0mcislo\u001b[0m \u001b[0;34m<\u001b[0m \u001b[0msecret_number\u001b[0m\u001b[0;34m:\u001b[0m\u001b[0;34m\u001b[0m\u001b[0;34m\u001b[0m\u001b[0m\n\u001b[1;32m      6\u001b[0m         \u001b[0mprint\u001b[0m\u001b[0;34m(\u001b[0m\u001b[0;34mf\"Tajné číslo je VETSI než {cislo}\"\u001b[0m\u001b[0;34m)\u001b[0m\u001b[0;34m\u001b[0m\u001b[0;34m\u001b[0m\u001b[0m\n",
      "\u001b[0;32m~/Git/pyth1/venv/lib/python3.9/site-packages/ipykernel/kernelbase.py\u001b[0m in \u001b[0;36mraw_input\u001b[0;34m(self, prompt)\u001b[0m\n\u001b[1;32m   1005\u001b[0m                 \u001b[0;34m\"raw_input was called, but this frontend does not support input requests.\"\u001b[0m\u001b[0;34m\u001b[0m\u001b[0;34m\u001b[0m\u001b[0m\n\u001b[1;32m   1006\u001b[0m             )\n\u001b[0;32m-> 1007\u001b[0;31m         return self._input_request(\n\u001b[0m\u001b[1;32m   1008\u001b[0m             \u001b[0mstr\u001b[0m\u001b[0;34m(\u001b[0m\u001b[0mprompt\u001b[0m\u001b[0;34m)\u001b[0m\u001b[0;34m,\u001b[0m\u001b[0;34m\u001b[0m\u001b[0;34m\u001b[0m\u001b[0m\n\u001b[1;32m   1009\u001b[0m             \u001b[0mself\u001b[0m\u001b[0;34m.\u001b[0m\u001b[0m_parent_ident\u001b[0m\u001b[0;34m[\u001b[0m\u001b[0;34m\"shell\"\u001b[0m\u001b[0;34m]\u001b[0m\u001b[0;34m,\u001b[0m\u001b[0;34m\u001b[0m\u001b[0;34m\u001b[0m\u001b[0m\n",
      "\u001b[0;32m~/Git/pyth1/venv/lib/python3.9/site-packages/ipykernel/kernelbase.py\u001b[0m in \u001b[0;36m_input_request\u001b[0;34m(self, prompt, ident, parent, password)\u001b[0m\n\u001b[1;32m   1050\u001b[0m             \u001b[0;32mexcept\u001b[0m \u001b[0mKeyboardInterrupt\u001b[0m\u001b[0;34m:\u001b[0m\u001b[0;34m\u001b[0m\u001b[0;34m\u001b[0m\u001b[0m\n\u001b[1;32m   1051\u001b[0m                 \u001b[0;31m# re-raise KeyboardInterrupt, to truncate traceback\u001b[0m\u001b[0;34m\u001b[0m\u001b[0;34m\u001b[0m\u001b[0m\n\u001b[0;32m-> 1052\u001b[0;31m                 \u001b[0;32mraise\u001b[0m \u001b[0mKeyboardInterrupt\u001b[0m\u001b[0;34m(\u001b[0m\u001b[0;34m\"Interrupted by user\"\u001b[0m\u001b[0;34m)\u001b[0m \u001b[0;32mfrom\u001b[0m \u001b[0;32mNone\u001b[0m\u001b[0;34m\u001b[0m\u001b[0;34m\u001b[0m\u001b[0m\n\u001b[0m\u001b[1;32m   1053\u001b[0m             \u001b[0;32mexcept\u001b[0m \u001b[0mException\u001b[0m\u001b[0;34m:\u001b[0m\u001b[0;34m\u001b[0m\u001b[0;34m\u001b[0m\u001b[0m\n\u001b[1;32m   1054\u001b[0m                 \u001b[0mself\u001b[0m\u001b[0;34m.\u001b[0m\u001b[0mlog\u001b[0m\u001b[0;34m.\u001b[0m\u001b[0mwarning\u001b[0m\u001b[0;34m(\u001b[0m\u001b[0;34m\"Invalid Message:\"\u001b[0m\u001b[0;34m,\u001b[0m \u001b[0mexc_info\u001b[0m\u001b[0;34m=\u001b[0m\u001b[0;32mTrue\u001b[0m\u001b[0;34m)\u001b[0m\u001b[0;34m\u001b[0m\u001b[0;34m\u001b[0m\u001b[0m\n",
      "\u001b[0;31mKeyboardInterrupt\u001b[0m: Interrupted by user"
     ]
    }
   ],
   "source": [
    "from random import randrange\n",
    "secret_number = randrange(0, 10)\n",
    "\n",
    "while (cislo:=int(input('Hadej cislo: '))) != secret_number:\n",
    "    if cislo < secret_number:\n",
    "        print(f\"Tajné číslo je VETSI než {cislo}\")\n",
    "    else:\n",
    "        print(f'Tajné číslo ve MENSI než {cislo}')\n",
    "else:\n",
    "    print(f'Uhadl jsi tajné číslo {cislo}')"
   ]
  },
  {
   "cell_type": "code",
   "execution_count": null,
   "id": "248837eb",
   "metadata": {},
   "outputs": [],
   "source": [
    "from random import randrange\n",
    "secret_number = randrange(0, 10)\n",
    "\n",
    "cislo = int(input('Hádej číslo: '))\n",
    "while cislo != secret_number:\n",
    "    if cislo < secret_number:\n",
    "        print(f\"Tajné číslo je VETSI než {cislo}\")\n",
    "    else:\n",
    "        print(f'Tajné číslo ve MENSI než {cislo}')\n",
    "    cislo = int(input('Hadej cislo: '))\n",
    "else:\n",
    "    print(f'Uhadl jsi tajné číslo {cislo}')"
   ]
  },
  {
   "cell_type": "code",
   "execution_count": null,
   "id": "e84f1cb1",
   "metadata": {},
   "outputs": [],
   "source": [
    "from random import randrange\n",
    "secret_number = randrange(0, 10)\n",
    "\n",
    "\n",
    "while True:\n",
    "    cislo = int(input('Hádej číslo: '))\n",
    "    if cislo == secret_number:\n",
    "        print(f'Uhadl jsi tajné číslo {cislo}')\n",
    "        break\n",
    "    elif cislo < secret_number:\n",
    "        print(f\"Tajné číslo je VETSI než {cislo}\")\n",
    "    else:\n",
    "        print(f'Tajné číslo ve MENSI než {cislo}')\n",
    "    "
   ]
  },
  {
   "cell_type": "markdown",
   "id": "8d43e2fd",
   "metadata": {},
   "source": [
    "## Smyčka (`for`)\n",
    "= Iteruje prakticky přes cokoliv.\n",
    "\n",
    "Iterace přes seznam (list)"
   ]
  },
  {
   "cell_type": "code",
   "execution_count": 39,
   "id": "6cb8509e",
   "metadata": {},
   "outputs": [
    {
     "name": "stdout",
     "output_type": "stream",
     "text": [
      "pes je savec\n",
      "kočka je savec\n",
      "myš je savec\n"
     ]
    }
   ],
   "source": [
    "seznam  =  ['pes', 'kočka', 'myš']\n",
    "for zvire in seznam:\n",
    "    print(f'{zvire} je savec')"
   ]
  },
  {
   "cell_type": "markdown",
   "id": "8b43c057",
   "metadata": {},
   "source": [
    "> #### Příklad:\n",
    "> Načtěte od uživatele vstup slov oddělených mezerou.\n",
    "> Metodou split jeje rozdělte na pole slov a vytvořte nové pole čísel s hodnotami délek každého slova."
   ]
  },
  {
   "cell_type": "code",
   "execution_count": 41,
   "id": "b337ba9c",
   "metadata": {},
   "outputs": [
    {
     "name": "stdout",
     "output_type": "stream",
     "text": [
      "Delka Toto je 4\n",
      "Delka je je 2\n",
      "Delka moje je 4\n",
      "Delka věta je 4\n"
     ]
    }
   ],
   "source": [
    "slova = input('Vlož slova oddělená mezerami (větu):').split()\n",
    "# Řešení\n",
    "for slovo in slova:\n",
    "    print(f\"Delka '{slovo}' je {len(slovo)}\")"
   ]
  },
  {
   "cell_type": "markdown",
   "id": "01eaf83f",
   "metadata": {},
   "source": [
    "Iterace přes číselný rozsah = přes seznam čísel"
   ]
  },
  {
   "cell_type": "code",
   "execution_count": 42,
   "id": "b4e775c4",
   "metadata": {},
   "outputs": [
    {
     "name": "stdout",
     "output_type": "stream",
     "text": [
      "0\n",
      "1\n",
      "2\n",
      "3\n"
     ]
    }
   ],
   "source": [
    "rozsah = range(4)\n",
    "for i in rozsah:\n",
    "    print(i)"
   ]
  },
  {
   "cell_type": "markdown",
   "id": "cf9df311",
   "metadata": {},
   "source": [
    "Iterace přes slovník"
   ]
  },
  {
   "cell_type": "code",
   "execution_count": 46,
   "id": "4e1904d7",
   "metadata": {},
   "outputs": [
    {
     "name": "stdout",
     "output_type": "stream",
     "text": [
      "jedna: 1\n",
      "dva: 2\n",
      "tři: 3\n"
     ]
    }
   ],
   "source": [
    "slovnik = {'jedna': 1, 'dva': 2, 'tři': 3}\n",
    "for klic in slovnik:\n",
    "    print(f\"{klic}: {slovnik[klic]}\")"
   ]
  },
  {
   "cell_type": "markdown",
   "id": "cc097aff",
   "metadata": {},
   "source": [
    "Iterace slovníku přes klíče a hodnoty:"
   ]
  },
  {
   "cell_type": "code",
   "execution_count": 47,
   "id": "32ac40c1",
   "metadata": {},
   "outputs": [
    {
     "name": "stdout",
     "output_type": "stream",
     "text": [
      "jedna 1\n",
      "dva 2\n",
      "tři 3\n"
     ]
    }
   ],
   "source": [
    "slovnik = {'jedna': 1, 'dva': 2, 'tři': 3}\n",
    "for klic, hodnota in slovnik.items():\n",
    "    print(klic, hodnota)"
   ]
  },
  {
   "cell_type": "markdown",
   "id": "de313ed7",
   "metadata": {},
   "source": [
    "### Funkce `range()`\n",
    "Umí generovat i komplikovanější číselné řady"
   ]
  },
  {
   "cell_type": "code",
   "execution_count": null,
   "id": "066809a7",
   "metadata": {},
   "outputs": [],
   "source": [
    "cisla = range(0, 101, 10)\n",
    "for x in cisla:\n",
    "    print('Číslo je:',x)"
   ]
  },
  {
   "cell_type": "markdown",
   "id": "3e6b6270",
   "metadata": {},
   "source": [
    "> #### Příklad:\n",
    "> Opět načťete slova od uživatele a rozdělte je na seznam.\n",
    ">\n",
    "> Do konzole vypište každé druhé slovo."
   ]
  },
  {
   "cell_type": "code",
   "execution_count": 49,
   "id": "f45d8b9c",
   "metadata": {},
   "outputs": [
    {
     "name": "stdout",
     "output_type": "stream",
     "text": [
      "a\n",
      "c\n",
      "e\n",
      "g\n"
     ]
    }
   ],
   "source": [
    "# Řešení\n",
    "seznam = input().split()\n",
    "for slovo in seznam[::2]:\n",
    "    print(slovo)"
   ]
  },
  {
   "cell_type": "markdown",
   "id": "b3500a0a",
   "metadata": {},
   "source": [
    "> Upravte tak aby jste vypsali to stejné ale od konce"
   ]
  },
  {
   "cell_type": "code",
   "execution_count": 53,
   "id": "1a5c45cd",
   "metadata": {},
   "outputs": [
    {
     "name": "stdout",
     "output_type": "stream",
     "text": [
      "e\n",
      "c\n",
      "a\n"
     ]
    }
   ],
   "source": [
    "# Řešení\n",
    "seznam = input().split()\n",
    "for slovo in reversed(seznam[::2]):\n",
    "    print(slovo)"
   ]
  },
  {
   "cell_type": "markdown",
   "id": "7b03b8ed",
   "metadata": {},
   "source": [
    "### řetězce\n",
    "řetězec je pole znaků, takže je možné jej také procházet pomocí `for`"
   ]
  },
  {
   "cell_type": "code",
   "execution_count": 48,
   "id": "472e66b8",
   "metadata": {},
   "outputs": [
    {
     "name": "stdout",
     "output_type": "stream",
     "text": [
      "P\n",
      "Y\n",
      "T\n",
      "H\n",
      "O\n",
      "N\n"
     ]
    }
   ],
   "source": [
    "for pismeno in 'Python':\n",
    "    print(pismeno.upper())"
   ]
  },
  {
   "cell_type": "markdown",
   "id": "44831ed8",
   "metadata": {},
   "source": [
    "> #### Příklad:\n",
    "> Do listu uložte slova různé délky. \n",
    ">\n",
    "> Projděte list cyklem a vypište jen slova delší než 4 znaky."
   ]
  },
  {
   "cell_type": "code",
   "execution_count": 54,
   "id": "c52d8ce1",
   "metadata": {},
   "outputs": [
    {
     "name": "stdout",
     "output_type": "stream",
     "text": [
      "asdf\n",
      "asdfg\n",
      "asdfgh\n"
     ]
    }
   ],
   "source": [
    "# Řešení\n",
    "seznam = input().split()\n",
    "for slovo in seznam:\n",
    "    if len(slovo) >= 4:\n",
    "        print(slovo)"
   ]
  },
  {
   "cell_type": "markdown",
   "id": "6c4e2d0b",
   "metadata": {},
   "source": [
    "### Cyklus přes seznam s indexem\n",
    "Máte seznam a chcete jej projít s indexem, něco jako ..."
   ]
  },
  {
   "cell_type": "code",
   "execution_count": null,
   "id": "77448dac",
   "metadata": {},
   "outputs": [],
   "source": [
    "i = 0\n",
    "for barva in ['červená', 'zelená', 'modrá']:\n",
    "    print(f'pořadí: {i}, barva: {barva}')\n",
    "    i += 1"
   ]
  },
  {
   "cell_type": "markdown",
   "id": "26c77c6d",
   "metadata": {},
   "source": [
    "Tak tak takhle **NE**\n",
    "\n",
    "Můžeme použít funkcí `enumerate()` a rozbalení N-tice"
   ]
  },
  {
   "cell_type": "code",
   "execution_count": 55,
   "id": "7512e497",
   "metadata": {},
   "outputs": [
    {
     "data": {
      "text/plain": [
       "[(0, 'červená'), (1, 'zelená'), (2, 'modrá')]"
      ]
     },
     "execution_count": 55,
     "metadata": {},
     "output_type": "execute_result"
    }
   ],
   "source": [
    "list(enumerate(['červená', 'zelená', 'modrá']))"
   ]
  },
  {
   "cell_type": "markdown",
   "id": "2831c29c",
   "metadata": {},
   "source": [
    "Takže správnější řešení je:"
   ]
  },
  {
   "cell_type": "code",
   "execution_count": 57,
   "id": "d7b95b87",
   "metadata": {},
   "outputs": [
    {
     "name": "stdout",
     "output_type": "stream",
     "text": [
      "pořadí: 0, barva: červená\n",
      "pořadí: 1, barva: zelená\n",
      "pořadí: 2, barva: modrá\n"
     ]
    }
   ],
   "source": [
    "for i, barva in enumerate(['červená', 'zelená', 'modrá']):\n",
    "    print(f'pořadí: {i}, barva: {barva}')"
   ]
  },
  {
   "cell_type": "markdown",
   "id": "c6e70099",
   "metadata": {},
   "source": [
    "> #### Příklad:\n",
    "> Vypište čísla od 1 do 100, přičemž:\n",
    "> \n",
    "> - čísla dělitelná 3 nahraďte slovem 'Fizz'\n",
    "> - čísla dělitelná 5 nahraďte slovem 'Buzz'\n",
    "> - čísla dělitelná 3 a zároveň 5 slovem 'FizzBuzz'"
   ]
  },
  {
   "cell_type": "code",
   "execution_count": 58,
   "id": "c43d2637",
   "metadata": {},
   "outputs": [
    {
     "name": "stdout",
     "output_type": "stream",
     "text": [
      "1\n",
      "2\n",
      "Fizz\n",
      "4\n",
      "Buzz\n",
      "Fizz\n",
      "7\n",
      "8\n",
      "Fizz\n",
      "Buzz\n",
      "11\n",
      "Fizz\n",
      "13\n",
      "14\n",
      "FizzBuzz\n",
      "16\n",
      "17\n",
      "Fizz\n",
      "19\n",
      "Buzz\n",
      "Fizz\n",
      "22\n",
      "23\n",
      "Fizz\n",
      "Buzz\n",
      "26\n",
      "Fizz\n",
      "28\n",
      "29\n",
      "FizzBuzz\n",
      "31\n",
      "32\n",
      "Fizz\n",
      "34\n",
      "Buzz\n",
      "Fizz\n",
      "37\n",
      "38\n",
      "Fizz\n",
      "Buzz\n",
      "41\n",
      "Fizz\n",
      "43\n",
      "44\n",
      "FizzBuzz\n",
      "46\n",
      "47\n",
      "Fizz\n",
      "49\n",
      "Buzz\n",
      "Fizz\n",
      "52\n",
      "53\n",
      "Fizz\n",
      "Buzz\n",
      "56\n",
      "Fizz\n",
      "58\n",
      "59\n",
      "FizzBuzz\n",
      "61\n",
      "62\n",
      "Fizz\n",
      "64\n",
      "Buzz\n",
      "Fizz\n",
      "67\n",
      "68\n",
      "Fizz\n",
      "Buzz\n",
      "71\n",
      "Fizz\n",
      "73\n",
      "74\n",
      "FizzBuzz\n",
      "76\n",
      "77\n",
      "Fizz\n",
      "79\n",
      "Buzz\n",
      "Fizz\n",
      "82\n",
      "83\n",
      "Fizz\n",
      "Buzz\n",
      "86\n",
      "Fizz\n",
      "88\n",
      "89\n",
      "FizzBuzz\n",
      "91\n",
      "92\n",
      "Fizz\n",
      "94\n",
      "Buzz\n",
      "Fizz\n",
      "97\n",
      "98\n",
      "Fizz\n",
      "Buzz\n"
     ]
    }
   ],
   "source": [
    "# Řešení\n",
    "for i in range(1,101):\n",
    "    if i % 15 == 0:\n",
    "        print(\"FizzBuzz\")\n",
    "    elif i % 5 == 0:\n",
    "        print(\"Buzz\")\n",
    "    elif i % 3 == 0:\n",
    "        print(\"Fizz\")\n",
    "    else:\n",
    "        print(i)"
   ]
  },
  {
   "cell_type": "markdown",
   "id": "b98df3e3",
   "metadata": {},
   "source": [
    "### Procházení vícerozměrných listů"
   ]
  },
  {
   "cell_type": "code",
   "execution_count": 61,
   "id": "50bdf4b5",
   "metadata": {},
   "outputs": [
    {
     "name": "stdout",
     "output_type": "stream",
     "text": [
      "1\n",
      "0\n",
      "0\n",
      "0\n",
      "1\n",
      "0\n",
      "0\n",
      "0\n",
      "1\n"
     ]
    }
   ],
   "source": [
    "matice = [ [1,0,0], [0,1,0], [0,0,1] ]\n",
    "\n",
    "for row in matice:\n",
    "    for cell in row:\n",
    "        print(cell)"
   ]
  },
  {
   "cell_type": "code",
   "execution_count": 62,
   "id": "f0b6ca72",
   "metadata": {},
   "outputs": [
    {
     "name": "stdout",
     "output_type": "stream",
     "text": [
      "[0, 0] = 1\n",
      "[0, 1] = 0\n",
      "[0, 2] = 0\n",
      "[1, 0] = 0\n",
      "[1, 1] = 1\n",
      "[1, 2] = 0\n",
      "[2, 0] = 0\n",
      "[2, 1] = 0\n",
      "[2, 2] = 1\n"
     ]
    }
   ],
   "source": [
    "for r, row in enumerate(matice):\n",
    "    for c, cell in enumerate(row):\n",
    "        print(f\"[{r}, {c}] = {cell}\")"
   ]
  },
  {
   "cell_type": "markdown",
   "id": "11166198",
   "metadata": {},
   "source": [
    "> #### Příklad:\n",
    "> Načťete soubor *building1retail.csv* a zjistěte jestli existuje závislost mezi teplotou a energií budovy.\n",
    "> \n",
    "> Naším ukolem zjistit v kterých dnech byla teplota a spotřeba na horních 25% a kolik dní je společných."
   ]
  },
  {
   "cell_type": "code",
   "execution_count": null,
   "id": "5d28cfbe",
   "metadata": {},
   "outputs": [],
   "source": [
    "import csv\n",
    "with open('static/building1retail.csv') as f:\n",
    "    data = list(csv.reader(f))\n",
    "len(data)"
   ]
  },
  {
   "cell_type": "markdown",
   "id": "fba64632",
   "metadata": {},
   "source": [
    "### Specialitka: přerušení vnějšího cyklu"
   ]
  },
  {
   "cell_type": "code",
   "execution_count": null,
   "id": "50c9f354",
   "metadata": {},
   "outputs": [],
   "source": [
    "for x in range(10):\n",
    "    for y in range(10):\n",
    "        print(x,y,(x*y))\n",
    "        if x*y > 50:\n",
    "            break\n",
    "    else:\n",
    "        continue # co dělat když cyklus NE přerušen \n",
    "    break # jinak (tedy když vnitřní cyklus skonči)"
   ]
  }
 ],
 "metadata": {
  "interpreter": {
   "hash": "351af123f4fda19bbbaa019f11d818f2fe3be1acc9ebf40e93daf054b80fd89f"
  },
  "kernelspec": {
   "display_name": "Python 3.9.7 64-bit ('venv': venv)",
   "language": "python",
   "name": "python3"
  },
  "language_info": {
   "codemirror_mode": {
    "name": "ipython",
    "version": 3
   },
   "file_extension": ".py",
   "mimetype": "text/x-python",
   "name": "python",
   "nbconvert_exporter": "python",
   "pygments_lexer": "ipython3",
   "version": "3.9.7"
  }
 },
 "nbformat": 4,
 "nbformat_minor": 5
}
