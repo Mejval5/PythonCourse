{
 "cells": [
  {
   "cell_type": "markdown",
   "id": "e525271b",
   "metadata": {},
   "source": [
    "# Testování v python\n",
    "\n",
    "Žádný programátor není dokonalý a každý dělá chyby.\n",
    "\n",
    "> #### Śpatný nápad \n",
    "> Nejpoužívanější přístup je asi metoda „zkusím to a uvidím“ – napíšu nějaký kód, spustím ho a pokud se dostaví očekávaný výsledek, považují kód za správný. \n",
    "> Testování tedy není „něco navíc“, co běžní programátoři nedělají, je to něco, co dělá každý – jen někteří (ti méně líní) to dělají ručně a opakovaně (dokud daný kód nefunguje). Skutečně líný programátor ale nejradši napíše test, aby tuto opakovanou práci za něj vykonával nějaký kus kódu – může to být (ale málokdy bývá) náročnější než otestovat danou věc ručně, ale je to něco, co autor kódu udělá jednou a pak to za něj vykonává automat – ve výsledku tedy výrazná časová úspora.\n",
    "\n",
    "## Testování\n",
    "Co tedy je test? \n",
    "\n",
    "V podstatě se jedná o zápis nějakého předpokladu (anglicky assertion od slovesa assert – předpokládat) do kódu. \n",
    "V Pythonu existuje přímo klíčové slovo `assert`, které dělá přesně to: kontroluje zda nějaký předpoklad platí a, pokud ne, vyhodí `AssertionError` výjimku. Zápis:"
   ]
  },
  {
   "cell_type": "code",
   "execution_count": 65,
   "id": "32cecb07",
   "metadata": {},
   "outputs": [],
   "source": [
    "def fizz_buzz(input_cislo):\n",
    "    cislo = input_cislo\n",
    "    if type(input_cislo) is str:\n",
    "        if input_cislo.isdigit():\n",
    "            cislo = int(input_cislo)        \n",
    "    if type(cislo) is not int:\n",
    "        return None\n",
    "    if cislo < 1:\n",
    "        return None\n",
    "    \n",
    "    if cislo % 3 == 0 and cislo % 5 == 0:\n",
    "        return \"FizzBuzz\"\n",
    "    if cislo % 3 == 0:\n",
    "        return \"Fizz\"\n",
    "    if cislo % 5 == 0:\n",
    "        return \"Buzz\"\n",
    "\n",
    "    return cislo\n",
    "\n",
    "assert fizz_buzz(\"5\") == \"Buzz\"\n",
    "assert fizz_buzz(\"8\") == 8\n",
    "assert fizz_buzz(1) == 1\n",
    "\n",
    "assert fizz_buzz(2) == 2\n",
    "assert fizz_buzz(15) == \"FizzBuzz\"\n",
    "assert fizz_buzz(0) == None\n",
    "assert fizz_buzz(\"ahoj\") == None\n",
    "assert fizz_buzz(-1) == None"
   ]
  },
  {
   "cell_type": "code",
   "execution_count": 64,
   "id": "80af618a",
   "metadata": {},
   "outputs": [
    {
     "name": "stdout",
     "output_type": "stream",
     "text": [
      "kozeny\n",
      "1\n"
     ]
    }
   ],
   "source": [
    "hodnota = 0\n",
    "seznam=[]\n",
    "\n",
    "def zmen_hodnotu(hodnota_ktera_ma_byt_zmena):\n",
    "    hodnota = hodnota_ktera_ma_byt_zmena + 1\n",
    "    return hodnota\n",
    "\n",
    "\n",
    "    \n",
    "hodnota = zmen_hodnotu(hodnota)\n",
    "print(hodnota)\n",
    "\n",
    "# def vratim_dve_hodnoty():\n",
    "#     return \"a\", \"b\"\n",
    "\n",
    "# vysledek = vratim_dve_hodnoty()\n",
    "# print(vysledek[0])"
   ]
  },
  {
   "cell_type": "markdown",
   "id": "f95ab292",
   "metadata": {},
   "source": [
    "je ekvivalentní zápisu:"
   ]
  },
  {
   "cell_type": "code",
   "execution_count": null,
   "id": "b14cdeba",
   "metadata": {},
   "outputs": [],
   "source": [
    "if __debug__:\n",
    "    if not expression1: raise AssertionError(expression2)"
   ]
  },
  {
   "cell_type": "code",
   "execution_count": 7,
   "id": "f858bcd0",
   "metadata": {},
   "outputs": [
    {
     "ename": "AssertionError",
     "evalue": "Result prise is out of bound",
     "output_type": "error",
     "traceback": [
      "\u001b[0;31m---------------------------------------------------------------------------\u001b[0m",
      "\u001b[0;31mAssertionError\u001b[0m                            Traceback (most recent call last)",
      "\u001b[0;32m/tmp/ipykernel_68867/468610382.py\u001b[0m in \u001b[0;36m<module>\u001b[0;34m\u001b[0m\n\u001b[1;32m      7\u001b[0m     \u001b[0;32mreturn\u001b[0m \u001b[0mresult\u001b[0m\u001b[0;34m\u001b[0m\u001b[0;34m\u001b[0m\u001b[0m\n\u001b[1;32m      8\u001b[0m \u001b[0;34m\u001b[0m\u001b[0m\n\u001b[0;32m----> 9\u001b[0;31m \u001b[0msale\u001b[0m\u001b[0;34m(\u001b[0m\u001b[0;36m120\u001b[0m\u001b[0;34m,\u001b[0m \u001b[0;34m-\u001b[0m\u001b[0;36m30\u001b[0m\u001b[0;34m)\u001b[0m\u001b[0;34m\u001b[0m\u001b[0;34m\u001b[0m\u001b[0m\n\u001b[0m",
      "\u001b[0;32m/tmp/ipykernel_68867/468610382.py\u001b[0m in \u001b[0;36msale\u001b[0;34m(prise, discount)\u001b[0m\n\u001b[1;32m      4\u001b[0m \u001b[0;34m\u001b[0m\u001b[0m\n\u001b[1;32m      5\u001b[0m \u001b[0;34m\u001b[0m\u001b[0m\n\u001b[0;32m----> 6\u001b[0;31m     \u001b[0;32massert\u001b[0m \u001b[0;36m0\u001b[0m \u001b[0;34m<\u001b[0m \u001b[0mresult\u001b[0m \u001b[0;34m<=\u001b[0m \u001b[0mprise\u001b[0m\u001b[0;34m,\u001b[0m \u001b[0;34m'Result prise is out of bound'\u001b[0m\u001b[0;34m\u001b[0m\u001b[0;34m\u001b[0m\u001b[0m\n\u001b[0m\u001b[1;32m      7\u001b[0m     \u001b[0;32mreturn\u001b[0m \u001b[0mresult\u001b[0m\u001b[0;34m\u001b[0m\u001b[0;34m\u001b[0m\u001b[0m\n\u001b[1;32m      8\u001b[0m \u001b[0;34m\u001b[0m\u001b[0m\n",
      "\u001b[0;31mAssertionError\u001b[0m: Result prise is out of bound"
     ]
    }
   ],
   "source": [
    "def sale(prise: float, discount):\n",
    "    \n",
    "    result = (100 - discount)/100 * prise\n",
    "    \n",
    "    \n",
    "    assert 0 < result <= prise, 'Result prise is out of bound'\n",
    "    return result\n",
    "    \n",
    "sale(120, -30)"
   ]
  },
  {
   "cell_type": "markdown",
   "id": "cc8b92f5",
   "metadata": {},
   "source": [
    "kde `__debug__` je interní proměnná Pythonu, která je vždy pravdivá, pokud nebyl Python interpret spuštěn s podporou optimalizací (-O).\n",
    "\n",
    "Psaní testů ručně pomoci podmínek či assert výrazů je jedna z možnosti, je to ale zdlouhavé a zbytečně složité, obzvlášť když Python už přímo v základní knihovně obsahuje několik nástrojů, které psaní testu usnadní. \n",
    "Asi nejsnazší způsob psaní testu, se kterým se v Pythonu můžeme setkat, jsou **doctesty**.\n",
    "\n",
    "## Doctests\n",
    "Doctest je v podstatě přepis session (dialogu) z interaktivního interpretru do dokumentačního řetězce modulu, třídy, metody nebo funkce. \n",
    "Asi nejlépe je to pochopitelné na příkladu:"
   ]
  },
  {
   "cell_type": "code",
   "execution_count": null,
   "id": "7260da9c",
   "metadata": {},
   "outputs": [],
   "source": [
    "#!/usr/bin/env python\n",
    "\n",
    "\"\"\"\n",
    "Make sure our python interpretter is sane\n",
    ">>> 2+5\n",
    "7\n",
    "\"\"\"\n",
    "if __name__ == '__main__':\n",
    "    import doctest\n",
    "    doctest.testmod()"
   ]
  },
  {
   "cell_type": "markdown",
   "id": "d35e425b",
   "metadata": {},
   "source": [
    "Výstup volání python test1.py by měl být prázdný a návratová hodnota by měla být 0. \n",
    "Při spuštění s parametrem -v 1 dostaneme podrobnější informace o tom, co se testuje a s jakým výsledkem:"
   ]
  },
  {
   "cell_type": "markdown",
   "id": "daec7ced",
   "metadata": {},
   "source": [
    "\n",
    "    # python test1.py -v 1\n",
    "    Trying:\n",
    "        2+5\n",
    "    Expecting:\n",
    "        7\n",
    "    ok\n",
    "    1 items passed all tests:\n",
    "    1 tests in __main__\n",
    "    1 tests in 1 items.\n",
    "    1 passed and 0 failed.\n",
    "    Test passed.\n"
   ]
  },
  {
   "cell_type": "markdown",
   "id": "d21e1f37",
   "metadata": {},
   "source": [
    "Doctesty v dokumentačních řetězcích lze libovolně kombinovat s psanou dokumentací (ta musí být od doctestu oddělena prázdným řádkem). \n",
    "To z nich činí výborný nástroj pro dokumentaci API, protože dávají uživateli jasnou představu, jak daný kód má fungovat. \n",
    "Fakt, že jsou současně spustitelné, nám zaručuje, že taková dokumentace bude velmi snadno udržovatelná v konzistentním stavu s kódem. \n",
    "\n",
    "Rozsáhlejší příklad z reálného světa by mohl vypadat nějak takto:"
   ]
  },
  {
   "cell_type": "code",
   "execution_count": null,
   "id": "55b0b10a",
   "metadata": {},
   "outputs": [],
   "source": [
    "#!/usr/bin/env python\n",
    "\n",
    "class SortedDict(dict):\n",
    "    \"\"\"\n",
    "    Dictionary that maintains keys in sorted order (by time of definition).\n",
    "\n",
    "    >>> d = SortedDict()\n",
    "    >>> d['some-key'] = 1\n",
    "    >>> d['some-key']\n",
    "    1\n",
    "    >>> d['another-key'] = 42\n",
    "    >>> d[('tuples', 'can', 'be', 'keys', 'too')] = None\n",
    "    >>> d.keys()\n",
    "    ['some-key', 'another-key', ('tuples', 'can', 'be', 'keys', 'too')]\n",
    "    \"\"\"\n",
    "    def __init__(self, *args, **kwargs):\n",
    "        super(SortedDict, self).__init__(*args, **kwargs)\n",
    "        self._key_order = []\n",
    "\n",
    "    def __setitem__(self, key, value):\n",
    "        if key not in self:\n",
    "            self._key_order.append(key)\n",
    "        super(SortedDict, self).__setitem__(key, value)\n",
    "\n",
    "    def keys(self):\n",
    "        return self._key_order\n",
    "\n",
    "    # rest of implementation\n",
    "\n",
    "if __name__ == '__main__':\n",
    "    import doctest\n",
    "    doctest.testmod()"
   ]
  },
  {
   "cell_type": "markdown",
   "id": "e192ee74",
   "metadata": {},
   "source": [
    "Jakkoli jsou doctesty jednoduché na psaní a výborné pro dokumentaci, jejich využití na větší testy nebývá doporučováno – doctesty se obecně špatně udržují a obtížné ladí. \n",
    "\n",
    "V našem příkladě, pokud bychom měli chybu v metodě `__init__` která by zapříčinila selhání první řádky testu, bychom dostali ještě čtyři nic neříkající chyby o tom že proměnná d není definována a určitě by chvíli trvalo, než bychom našli ten relevantní řádek testu, na kterém je skutečná chyba, a tím kus kódu kde chyba skutečně je.\n",
    "\n",
    "Další velká nevýhoda doctestu je, že se spoléhají na textovou reprezentaci, která musí být stejná – tedy test:"
   ]
  },
  {
   "cell_type": "markdown",
   "id": "22205cd9",
   "metadata": {},
   "source": [
    "\n",
    "    >>> s = u'Unicode string'\n",
    "    >>> s\n",
    "    'Unicode string'\n"
   ]
  },
  {
   "cell_type": "markdown",
   "id": "bcd29b40",
   "metadata": {},
   "source": [
    "vždy selže, jelikož se bude porovnávat přímo textová hodnota (s ‚u‘ na začátku), která nebude stejná. \n",
    "Obdobný assert by ale prošel zcela bez problémů:"
   ]
  },
  {
   "cell_type": "code",
   "execution_count": null,
   "id": "2c0e02d8",
   "metadata": {},
   "outputs": [],
   "source": [
    "assert u'Unicode string' == 'Unicode string'"
   ]
  },
  {
   "cell_type": "markdown",
   "id": "8b524fa3",
   "metadata": {},
   "source": [
    "Další problém s textovou reprezentací může být se slovníky, které nemají definováno pořadí klíčů. \n",
    "To se tak může lišit (a liší) mezi jednotlivými implementacemi Pythonu. \n",
    "To znamená, že test:"
   ]
  },
  {
   "cell_type": "markdown",
   "id": "9c0d19e8",
   "metadata": {},
   "source": [
    "\n",
    "    >>> {'a': 1, 'b': 42, 42: 27}\n",
    "    {'a': 1, 'b': 42, 42: 27}\n"
   ]
  },
  {
   "cell_type": "markdown",
   "id": "eb1a18ac",
   "metadata": {},
   "source": [
    "může a nemusí projít (jedna z nejhorších možných vlastnosti pro test).\n",
    "\n",
    "Jestliže potřebujeme dělat komplexnější testy, je lepší sáhnout po knihovně **unittest**, která je (stejně jako doctest) součástí základní knihovny pythonu, a není tak třeba nic instalovat.\n",
    "\n",
    "## Unit tests\n",
    "Pythoní knihovna *unittest* je založena na známém nástroji JUnit pro Javu, který je založen na obdobné knihovně ve Smalltalku. \n",
    "Unit test pro nás v tomto článku bude znamenat test využívající knihovnu unittest, což nemusí (a často ani nebývá) skutečný jednotkový test.\n",
    "Základním kamenem našich unit testů bude třída `TestSortedDict`, která dědí z unittest.TestCase. \n",
    "Třída `unittest.TestCase` obsahuje spoustu užitečných metod, které můžeme v našich testech použít, a zároveň máme zaručeno, že standardní nástroje pro spouštění testů takový test najdou.\n",
    "Podobně jako doctest, i unittest má jednoduchý způsob, jak spustit testy – `unittest.main()` – který najde všechny potomky `unittest.TestCase` a provede všechny testy v nich.\n",
    "\n",
    "Nejdůležitějšími metodami pro nás jsou:\n",
    "\n",
    "- **`setUp()`**\n",
    "Pouští se před spuštěním každého jednotlivého testu (tedy každé testovací metody, nikoliv jen před spuštěním test casu). Ideální místo pro různé inicializace a definice.\n",
    "\n",
    "- **`tearDown()`**\n",
    "Pouští se po každém proběhlém testu (bez ohledu na výsledek) a má na starosti úklid prostředí – smazání dočasných souborů, vrácení DB do původního stavu atd.\n",
    "\n",
    "- **`assert_(expr[, msg])`**\n",
    "ekvivalent built-in výrazu assert – selže (označí test za selhaný) pokud expr nebude mít hodnotu True. Pokud bude předán i parametr msg, použije se jako důvod selhání testu, jinak se použije None.\n",
    "\n",
    "- **`assertEqual(fir­st, second[, msg])`**\n",
    "selže pokud first != second\n",
    "\n",
    "- **`assertRaisese(ex­ception, callable, *args, kwargs)`**\n",
    "selže pokud volání callable(*args, kwargs) neskončí výjimkou exception\n",
    "\n",
    "Za test se považuje každá metoda, jejíž jméno začíná na `test_`. \n",
    "\n",
    "Při psaní unit testů je dobré dodržovat několik pravidel:\n",
    "- **pojmenovávat testy co nejpopisněji** – když test spadne a já to uvidím ve výpisu, mělo by mi být ihned jasné, co daný test má testovat, a to nikoli na úrovni kódu (test_two_plus_f­our_equals_six nebo test_is_square_re­turns_falše_if_x_is_l­onger_than_y), ale na úrovni funkcionality (test_adding_wor­ks či test_rectangle_is_not_a­_square).\n",
    "\n",
    "- **v každém testu testovat jen jednu věc** – někdo zastává názor, že každý test by měl obsahovat právě jeden assert, dle mého názoru je to často přehnané, na druhou stranu rozdělovat testy a skutečně v každém jednotlivém testu testovat co nejméně vlastností považuji za velmi důležité – snáze díky tomu lokalizujeme případný problém, protože každý padající test se bude týkat jen malé části funkcionality.\n",
    "\n",
    "Náš kód z předchozího příkladu bude tedy vypadat nějak takto:"
   ]
  },
  {
   "cell_type": "code",
   "execution_count": null,
   "id": "7f9afe4d",
   "metadata": {},
   "outputs": [],
   "source": [
    "#!/usr/bin/env python\n",
    "\n",
    "import unittest\n",
    "\n",
    "class SortedDict(dict):\n",
    "    \"\"\"\n",
    "    Dictionary that maintains keys in sorted order (by time of definition).\n",
    "    \"\"\"\n",
    "    def __init__(self, *args, **kwargs):\n",
    "        super(SortedDict, self).__init__(*args, **kwargs)\n",
    "        self._key_order = []\n",
    "\n",
    "    def __setitem__(self, key, value):\n",
    "        if key not in self:\n",
    "            self._key_order.append(key)\n",
    "        super(SortedDict, self).__setitem__(key, value)\n",
    "\n",
    "    def keys(self):\n",
    "        return self._key_order\n",
    "\n",
    "    # rest of implementation\n",
    "\n",
    "class TestSortedDict(unittest.TestCase):\n",
    "    def setUp(self):\n",
    "        self.d = SortedDict()\n",
    "\n",
    "    def test_inserted_item_can_be_accessed(self):\n",
    "        self.d['some-key'] = 1\n",
    "        self.assertEqual(1, self.d['some-key'])\n",
    "\n",
    "    def test_keys_maintains_order(self):\n",
    "        self.d['some-key'] = 1\n",
    "        self.d['another-key'] = 42\n",
    "        self.d[('tuples', 'can', 'be', 'keys', 'too')] = None\n",
    "        self.assertEqual(\n",
    "            ['some-key', 'another-key', ('tuples', 'can', 'be', 'keys', 'too')],\n",
    "            self.d.keys()\n",
    "        )\n",
    "\n",
    "\n",
    "if __name__ == '__main__':\n",
    "    unittest.main()"
   ]
  },
  {
   "cell_type": "markdown",
   "id": "6c237a30",
   "metadata": {},
   "source": [
    "Testy opět spustíme příkazem python test3.py, měli bychom vidět takovýto výstup:"
   ]
  },
  {
   "cell_type": "markdown",
   "id": "a9f2c040",
   "metadata": {},
   "source": [
    "\n",
    "    ----------------------------------------------------------------------\n",
    "    Ran 2 tests in 0.000s\n",
    "    \n",
    "    OK\n"
   ]
  },
  {
   "cell_type": "markdown",
   "id": "74498138",
   "metadata": {},
   "source": [
    "Za každý test máme ve výstupu tečku pokud prošel, **‚F‘** pokud neprošel a **‚E‘** pokud nastala chyba (když neplatí předpoklad v assert výrazu, jedna se o neprocházející test, pokud se někde něco pokazí jiného – vyhozena výjimka například – jedná se o chybu).\n",
    "\n",
    "**Unittest** je poměrně základní knihovna, která obsahuje jen funkcionalitu absolutně nutnou pro psaní testů. \n",
    "Už nějakou dobu se nevyvíjela, a to zapříčinilo vznik mnoha testovacích knihoven a frameworků. \n",
    "\n",
    "----\n",
    "Zdroj: (Testování v Pythonu)[https://www.zdrojak.cz/clanky/testovani-v-pythonu/]"
   ]
  }
 ],
 "metadata": {
  "interpreter": {
   "hash": "351af123f4fda19bbbaa019f11d818f2fe3be1acc9ebf40e93daf054b80fd89f"
  },
  "kernelspec": {
   "display_name": "Python 3.9.7 64-bit ('venv': venv)",
   "language": "python",
   "name": "python3"
  },
  "language_info": {
   "codemirror_mode": {
    "name": "ipython",
    "version": 3
   },
   "file_extension": ".py",
   "mimetype": "text/x-python",
   "name": "python",
   "nbconvert_exporter": "python",
   "pygments_lexer": "ipython3",
   "version": "3.10.3"
  }
 },
 "nbformat": 4,
 "nbformat_minor": 5
}
