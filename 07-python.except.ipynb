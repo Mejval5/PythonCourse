{
 "cells": [
  {
   "cell_type": "markdown",
   "id": "bc08205d",
   "metadata": {},
   "source": [
    "# Chyby a výjimky\n",
    "\n",
    "**Výjimka** (z angličtiny Exception) je v informatice chápána jako výjimečná situace, která může nastat za běhu programu."
   ]
  },
  {
   "cell_type": "code",
   "execution_count": 1,
   "id": "9f7fb2fd",
   "metadata": {},
   "outputs": [
    {
     "ename": "ZeroDivisionError",
     "evalue": "division by zero",
     "output_type": "error",
     "traceback": [
      "\u001b[0;31m---------------------------------------------------------------------------\u001b[0m",
      "\u001b[0;31mZeroDivisionError\u001b[0m                         Traceback (most recent call last)",
      "\u001b[0;32m/tmp/ipykernel_42619/2354412189.py\u001b[0m in \u001b[0;36m<module>\u001b[0;34m\u001b[0m\n\u001b[0;32m----> 1\u001b[0;31m \u001b[0;36m1\u001b[0m\u001b[0;34m/\u001b[0m\u001b[0;36m0\u001b[0m\u001b[0;34m\u001b[0m\u001b[0;34m\u001b[0m\u001b[0m\n\u001b[0m",
      "\u001b[0;31mZeroDivisionError\u001b[0m: division by zero"
     ]
    }
   ],
   "source": [
    "1/0"
   ]
  },
  {
   "cell_type": "markdown",
   "id": "1ff58a2c",
   "metadata": {},
   "source": [
    "Lze vyčíst:\n",
    "- typ\n",
    "- popis\n",
    "- call stack (soubory, řádky)\n",
    "\n",
    "\n",
    "## Zachycení a ošetření výjimek"
   ]
  },
  {
   "cell_type": "code",
   "execution_count": 5,
   "id": "f751a673",
   "metadata": {},
   "outputs": [
    {
     "name": "stdout",
     "output_type": "stream",
     "text": [
      "Nelze dělit nulou.\n"
     ]
    }
   ],
   "source": [
    "try:\n",
    "    x = int(input(\"Zadej nulu: \"))\n",
    "    print(6 / x)\n",
    "\n",
    "except ZeroDivisionError:\n",
    "    print(\"Nelze dělit nulou.\")"
   ]
  },
  {
   "cell_type": "markdown",
   "id": "d4f39baa",
   "metadata": {},
   "source": [
    "Získání typu výjimky přímo v kódu"
   ]
  },
  {
   "cell_type": "code",
   "execution_count": 9,
   "id": "c4648787",
   "metadata": {},
   "outputs": [
    {
     "ename": "ValueError",
     "evalue": "invalid literal for int() with base 10: 'a'",
     "output_type": "error",
     "traceback": [
      "\u001b[0;31m---------------------------------------------------------------------------\u001b[0m",
      "\u001b[0;31mValueError\u001b[0m                                Traceback (most recent call last)",
      "\u001b[0;32m/tmp/ipykernel_42619/2884641273.py\u001b[0m in \u001b[0;36m<module>\u001b[0;34m\u001b[0m\n\u001b[1;32m      1\u001b[0m \u001b[0;32mtry\u001b[0m\u001b[0;34m:\u001b[0m\u001b[0;34m\u001b[0m\u001b[0;34m\u001b[0m\u001b[0m\n\u001b[0;32m----> 2\u001b[0;31m     \u001b[0mx\u001b[0m \u001b[0;34m=\u001b[0m \u001b[0mint\u001b[0m\u001b[0;34m(\u001b[0m\u001b[0minput\u001b[0m\u001b[0;34m(\u001b[0m\u001b[0;34m\"Zadej nulu: \"\u001b[0m\u001b[0;34m)\u001b[0m\u001b[0;34m)\u001b[0m\u001b[0;34m\u001b[0m\u001b[0;34m\u001b[0m\u001b[0m\n\u001b[0m\u001b[1;32m      3\u001b[0m     \u001b[0my\u001b[0m \u001b[0;34m=\u001b[0m \u001b[0;36m6\u001b[0m \u001b[0;34m/\u001b[0m \u001b[0mx\u001b[0m\u001b[0;34m\u001b[0m\u001b[0;34m\u001b[0m\u001b[0m\n\u001b[1;32m      4\u001b[0m \u001b[0;34m\u001b[0m\u001b[0m\n\u001b[1;32m      5\u001b[0m \u001b[0;32mexcept\u001b[0m \u001b[0mZeroDivisionError\u001b[0m \u001b[0;32mas\u001b[0m \u001b[0me\u001b[0m\u001b[0;34m:\u001b[0m\u001b[0;34m\u001b[0m\u001b[0;34m\u001b[0m\u001b[0m\n",
      "\u001b[0;31mValueError\u001b[0m: invalid literal for int() with base 10: 'a'"
     ]
    }
   ],
   "source": [
    "try:\n",
    "    x = int(input(\"Zadej nulu: \"))\n",
    "    y = 6 / x\n",
    "\n",
    "except ZeroDivisionError as e:\n",
    "    print(\"Nelze dělit nulou.\", e)"
   ]
  },
  {
   "cell_type": "markdown",
   "id": "a699be90",
   "metadata": {},
   "source": [
    "Zachycení výce typů výjimek"
   ]
  },
  {
   "cell_type": "code",
   "execution_count": 12,
   "id": "6a4fe110",
   "metadata": {},
   "outputs": [
    {
     "name": "stdout",
     "output_type": "stream",
     "text": [
      "Nezadáno číslo:  invalid literal for int() with base 10: 'a'\n"
     ]
    }
   ],
   "source": [
    "try:\n",
    "    x = int(input(\"Zadej nulu nebo písmeno: \"))\n",
    "    y = 6 / x\n",
    "\n",
    "except ZeroDivisionError as e:\n",
    "    print(\"Nelze dělit nulou: \", e)\n",
    "    \n",
    "except ValueError as e:\n",
    "    print(\"Nezadáno číslo: \", e)    "
   ]
  },
  {
   "cell_type": "markdown",
   "id": "d3e9019f",
   "metadata": {},
   "source": [
    "Zachycení výce výjimek naráz"
   ]
  },
  {
   "cell_type": "code",
   "execution_count": 13,
   "id": "3ad34c22",
   "metadata": {},
   "outputs": [
    {
     "name": "stdout",
     "output_type": "stream",
     "text": [
      "Zachycena nějaká chyba.\n"
     ]
    }
   ],
   "source": [
    "try:\n",
    "    x = int(input(\"Zadej nulu nebo písmeno: \"))\n",
    "    y = 6 / x\n",
    "\n",
    "except:\n",
    "    print(\"Zachycena nějaká chyba.\")"
   ]
  },
  {
   "cell_type": "markdown",
   "id": "108dd791",
   "metadata": {},
   "source": [
    "Zachycení více vyjímek naráz s vymenováním"
   ]
  },
  {
   "cell_type": "code",
   "execution_count": null,
   "id": "0d45a029",
   "metadata": {},
   "outputs": [],
   "source": [
    "try:\n",
    "    x = int(input(\"Zadej nulu nebo písmeno: \"))\n",
    "    y = 6 / x\n",
    "\n",
    "except (ZeroDivisionError, ValueError) as e:\n",
    "    print(\"Zadáno pímeno nebo nula: \", e)\n",
    "    \n",
    "except:\n",
    "    print(\"Zachycena nějaká chyba.\")"
   ]
  },
  {
   "cell_type": "markdown",
   "id": "5d356fb8",
   "metadata": {},
   "source": [
    "Provedení kódu vždy, neávisle na tom jetli výjimka vznikla nebo ne"
   ]
  },
  {
   "cell_type": "code",
   "execution_count": null,
   "id": "197edb0b",
   "metadata": {},
   "outputs": [],
   "source": [
    "try:\n",
    "    x = int(input(\"Zadej nulu nebo písmeno: \"))\n",
    "    y = 6 / x\n",
    "\n",
    "except:\n",
    "    print(\"Zachycena nějaká chyba.\")\n",
    "\n",
    "finally:\n",
    "    print(\"Tothle se vypíše vždy!\")"
   ]
  },
  {
   "cell_type": "markdown",
   "id": "99d99415",
   "metadata": {},
   "source": [
    "Provedení kusu kódu, když výjimka nevznikla"
   ]
  },
  {
   "cell_type": "code",
   "execution_count": null,
   "id": "5d7d9cc5",
   "metadata": {},
   "outputs": [],
   "source": [
    "try:\n",
    "    x = int(input(\"Zadej číslo: \"))\n",
    "    y = 6 / x\n",
    "\n",
    "except:\n",
    "    print(\"Zachycena nějaká chyba.\")\n",
    "\n",
    "else:\n",
    "    print(\"Tohle se když výjimka nevznikla!\")"
   ]
  },
  {
   "cell_type": "markdown",
   "id": "da43673d",
   "metadata": {},
   "source": [
    "> #### Příklad\n",
    "> Vymyslete kód, který vyvolá vájimku a tu zachyťe a vypište."
   ]
  },
  {
   "cell_type": "code",
   "execution_count": null,
   "id": "98226980",
   "metadata": {},
   "outputs": [],
   "source": [
    "# Řešení"
   ]
  },
  {
   "cell_type": "markdown",
   "id": "30d251f9",
   "metadata": {},
   "source": [
    "## Kontext výjimek\n",
    "CO se stane tady?"
   ]
  },
  {
   "cell_type": "code",
   "execution_count": 15,
   "id": "4ded009c",
   "metadata": {},
   "outputs": [
    {
     "ename": "NameError",
     "evalue": "name 'b' is not defined",
     "output_type": "error",
     "traceback": [
      "\u001b[0;31m---------------------------------------------------------------------------\u001b[0m",
      "\u001b[0;31mNameError\u001b[0m                                 Traceback (most recent call last)",
      "\u001b[0;32m/tmp/ipykernel_42619/405369032.py\u001b[0m in \u001b[0;36m<module>\u001b[0;34m\u001b[0m\n\u001b[1;32m      5\u001b[0m \u001b[0;32mexcept\u001b[0m\u001b[0;34m:\u001b[0m\u001b[0;34m\u001b[0m\u001b[0;34m\u001b[0m\u001b[0m\n\u001b[1;32m      6\u001b[0m     \u001b[0;32mpass\u001b[0m\u001b[0;34m\u001b[0m\u001b[0;34m\u001b[0m\u001b[0m\n\u001b[0;32m----> 7\u001b[0;31m \u001b[0mprint\u001b[0m\u001b[0;34m(\u001b[0m\u001b[0mb\u001b[0m\u001b[0;34m)\u001b[0m\u001b[0;34m\u001b[0m\u001b[0;34m\u001b[0m\u001b[0m\n\u001b[0m",
      "\u001b[0;31mNameError\u001b[0m: name 'b' is not defined"
     ]
    }
   ],
   "source": [
    "try:\n",
    "    a=10\n",
    "    a/0\n",
    "    b=20\n",
    "except:\n",
    "    pass\n",
    "print(b)"
   ]
  },
  {
   "cell_type": "markdown",
   "id": "7ad70045",
   "metadata": {},
   "source": [
    "Jaký je rozdíl teď?"
   ]
  },
  {
   "cell_type": "code",
   "execution_count": 14,
   "id": "8025d05d",
   "metadata": {},
   "outputs": [
    {
     "name": "stdout",
     "output_type": "stream",
     "text": [
      "10\n"
     ]
    }
   ],
   "source": [
    "try:\n",
    "   a=10\n",
    "   a/0\n",
    "except:\n",
    "   pass\n",
    "print(a)"
   ]
  },
  {
   "cell_type": "markdown",
   "id": "254cc23a",
   "metadata": {},
   "source": [
    "## Vyvolání výjimky"
   ]
  },
  {
   "cell_type": "code",
   "execution_count": 18,
   "id": "403a8f68",
   "metadata": {},
   "outputs": [
    {
     "ename": "BaseException",
     "evalue": "Nesprávná hodnota.",
     "output_type": "error",
     "traceback": [
      "\u001b[0;31m---------------------------------------------------------------------------\u001b[0m",
      "\u001b[0;31mBaseException\u001b[0m                             Traceback (most recent call last)",
      "\u001b[0;32m/tmp/ipykernel_42619/3174698934.py\u001b[0m in \u001b[0;36m<module>\u001b[0;34m\u001b[0m\n\u001b[0;32m----> 1\u001b[0;31m \u001b[0;32mraise\u001b[0m \u001b[0mBaseException\u001b[0m\u001b[0;34m(\u001b[0m\u001b[0;34m\"Nesprávná hodnota.\"\u001b[0m\u001b[0;34m)\u001b[0m\u001b[0;34m\u001b[0m\u001b[0;34m\u001b[0m\u001b[0m\n\u001b[0m",
      "\u001b[0;31mBaseException\u001b[0m: Nesprávná hodnota."
     ]
    }
   ],
   "source": [
    "raise BaseException(\"Nesprávná hodnota.\")"
   ]
  },
  {
   "cell_type": "markdown",
   "id": "a975631d",
   "metadata": {},
   "source": [
    "Zachycení výjimky, její ošetření a předání dál"
   ]
  },
  {
   "cell_type": "code",
   "execution_count": 19,
   "id": "8407d972",
   "metadata": {},
   "outputs": [
    {
     "name": "stdout",
     "output_type": "stream",
     "text": [
      "Něco se porouchalo...\n"
     ]
    },
    {
     "ename": "ValueError",
     "evalue": "Nesprávná hodnota.",
     "output_type": "error",
     "traceback": [
      "\u001b[0;31m---------------------------------------------------------------------------\u001b[0m",
      "\u001b[0;31mValueError\u001b[0m                                Traceback (most recent call last)",
      "\u001b[0;32m/tmp/ipykernel_42619/2789815993.py\u001b[0m in \u001b[0;36m<module>\u001b[0;34m\u001b[0m\n\u001b[1;32m      1\u001b[0m \u001b[0;32mtry\u001b[0m\u001b[0;34m:\u001b[0m\u001b[0;34m\u001b[0m\u001b[0;34m\u001b[0m\u001b[0m\n\u001b[0;32m----> 2\u001b[0;31m     \u001b[0;32mraise\u001b[0m \u001b[0mValueError\u001b[0m\u001b[0;34m(\u001b[0m\u001b[0;34m\"Nesprávná hodnota.\"\u001b[0m\u001b[0;34m)\u001b[0m\u001b[0;34m\u001b[0m\u001b[0;34m\u001b[0m\u001b[0m\n\u001b[0m\u001b[1;32m      3\u001b[0m \u001b[0;34m\u001b[0m\u001b[0m\n\u001b[1;32m      4\u001b[0m \u001b[0;32mexcept\u001b[0m \u001b[0mValueError\u001b[0m\u001b[0;34m:\u001b[0m\u001b[0;34m\u001b[0m\u001b[0;34m\u001b[0m\u001b[0m\n\u001b[1;32m      5\u001b[0m     \u001b[0mprint\u001b[0m\u001b[0;34m(\u001b[0m\u001b[0;34m\"Něco se porouchalo...\"\u001b[0m\u001b[0;34m)\u001b[0m\u001b[0;34m\u001b[0m\u001b[0;34m\u001b[0m\u001b[0m\n",
      "\u001b[0;31mValueError\u001b[0m: Nesprávná hodnota."
     ]
    }
   ],
   "source": [
    "try:\n",
    "    raise ValueError(\"Nesprávná hodnota.\")\n",
    "    \n",
    "except ValueError:\n",
    "    print(\"Něco se porouchalo...\")\n",
    "    raise"
   ]
  },
  {
   "cell_type": "markdown",
   "id": "b2f6e7da",
   "metadata": {},
   "source": [
    "Nejlepší varianta: zachyceni změna typu a vyvolání dál"
   ]
  },
  {
   "cell_type": "code",
   "execution_count": 20,
   "id": "c95ece07",
   "metadata": {},
   "outputs": [
    {
     "ename": "ValueError",
     "evalue": "Zadal jste špatné jméno souboru.",
     "output_type": "error",
     "traceback": [
      "\u001b[0;31m---------------------------------------------------------------------------\u001b[0m",
      "\u001b[0;31mFileNotFoundError\u001b[0m                         Traceback (most recent call last)",
      "\u001b[0;32m/tmp/ipykernel_42619/1879580833.py\u001b[0m in \u001b[0;36m<module>\u001b[0;34m\u001b[0m\n\u001b[1;32m      1\u001b[0m \u001b[0;32mtry\u001b[0m\u001b[0;34m:\u001b[0m\u001b[0;34m\u001b[0m\u001b[0;34m\u001b[0m\u001b[0m\n\u001b[0;32m----> 2\u001b[0;31m     \u001b[0;32mraise\u001b[0m \u001b[0mFileNotFoundError\u001b[0m\u001b[0;34m(\u001b[0m\u001b[0;34m\"Soubor neexistuje.\"\u001b[0m\u001b[0;34m)\u001b[0m\u001b[0;34m\u001b[0m\u001b[0;34m\u001b[0m\u001b[0m\n\u001b[0m\u001b[1;32m      3\u001b[0m \u001b[0;34m\u001b[0m\u001b[0m\n",
      "\u001b[0;31mFileNotFoundError\u001b[0m: Soubor neexistuje.",
      "\nThe above exception was the direct cause of the following exception:\n",
      "\u001b[0;31mValueError\u001b[0m                                Traceback (most recent call last)",
      "\u001b[0;32m/tmp/ipykernel_42619/1879580833.py\u001b[0m in \u001b[0;36m<module>\u001b[0;34m\u001b[0m\n\u001b[1;32m      3\u001b[0m \u001b[0;34m\u001b[0m\u001b[0m\n\u001b[1;32m      4\u001b[0m \u001b[0;32mexcept\u001b[0m \u001b[0mFileNotFoundError\u001b[0m \u001b[0;32mas\u001b[0m \u001b[0me\u001b[0m\u001b[0;34m:\u001b[0m\u001b[0;34m\u001b[0m\u001b[0;34m\u001b[0m\u001b[0m\n\u001b[0;32m----> 5\u001b[0;31m     \u001b[0;32mraise\u001b[0m \u001b[0mValueError\u001b[0m\u001b[0;34m(\u001b[0m\u001b[0;34m\"Zadal jste špatné jméno souboru.\"\u001b[0m\u001b[0;34m)\u001b[0m \u001b[0;32mfrom\u001b[0m \u001b[0me\u001b[0m\u001b[0;34m\u001b[0m\u001b[0;34m\u001b[0m\u001b[0m\n\u001b[0m",
      "\u001b[0;31mValueError\u001b[0m: Zadal jste špatné jméno souboru."
     ]
    }
   ],
   "source": [
    "try:\n",
    "    raise FileNotFoundError(\"Soubor neexistuje.\")\n",
    "    \n",
    "except FileNotFoundError as e:\n",
    "    raise ValueError(\"Zadal jste špatné jméno souboru.\") from e"
   ]
  },
  {
   "cell_type": "markdown",
   "id": "606bbf04",
   "metadata": {},
   "source": [
    "> #### Příklad:\n",
    "> Načtěte od uživatele poloměr kruhu a vypočtěte jeho obsah.\n",
    "> - Pokud nezadá číslo, přinuťte ho opakovat zadání.\n",
    "> - Pokud zadá záporné číslo, vyhoďte výjimku ArithmeticError."
   ]
  },
  {
   "cell_type": "code",
   "execution_count": 27,
   "id": "20ee5ed4",
   "metadata": {},
   "outputs": [
    {
     "data": {
      "text/plain": [
       "3.141592653589793"
      ]
     },
     "execution_count": 27,
     "metadata": {},
     "output_type": "execute_result"
    }
   ],
   "source": [
    "from math import pi\n",
    "from numbers import Number\n",
    "\n",
    "# Řesení\n",
    "def obsahKruhu(r: float) -> float:\n",
    "    if not isinstance(r, Number):\n",
    "        raise ValueError(f\"Parametr 'r' has to by Number, not '{r}'.\")\n",
    "    \n",
    "    if r <= 0:\n",
    "        raise ArithmeticError(f\"Radius has to be greter than zero, now is '{r}'.\")\n",
    "    \n",
    "    return (r**2)*pi\n",
    "    \n",
    "    \n",
    "obsahKruhu(1)"
   ]
  },
  {
   "cell_type": "code",
   "execution_count": 32,
   "id": "d42ce8ba",
   "metadata": {},
   "outputs": [
    {
     "data": {
      "text/plain": [
       "0.16666666666666666"
      ]
     },
     "execution_count": 32,
     "metadata": {},
     "output_type": "execute_result"
    }
   ],
   "source": [
    "(2/3)/4"
   ]
  },
  {
   "cell_type": "code",
   "execution_count": 35,
   "id": "f999dec0",
   "metadata": {},
   "outputs": [
    {
     "data": {
      "text/plain": [
       "3"
      ]
     },
     "execution_count": 35,
     "metadata": {},
     "output_type": "execute_result"
    }
   ],
   "source": [
    "2-(3-4)"
   ]
  },
  {
   "cell_type": "code",
   "execution_count": 38,
   "id": "e887e29f",
   "metadata": {},
   "outputs": [
    {
     "data": {
      "text/plain": [
       "2417851639229258349412352"
      ]
     },
     "execution_count": 38,
     "metadata": {},
     "output_type": "execute_result"
    }
   ],
   "source": [
    "2**3**4"
   ]
  }
 ],
 "metadata": {
  "interpreter": {
   "hash": "351af123f4fda19bbbaa019f11d818f2fe3be1acc9ebf40e93daf054b80fd89f"
  },
  "kernelspec": {
   "display_name": "Python 3.9.7 64-bit ('venv': venv)",
   "language": "python",
   "name": "python3"
  },
  "language_info": {
   "codemirror_mode": {
    "name": "ipython",
    "version": 3
   },
   "file_extension": ".py",
   "mimetype": "text/x-python",
   "name": "python",
   "nbconvert_exporter": "python",
   "pygments_lexer": "ipython3",
   "version": "3.9.7"
  }
 },
 "nbformat": 4,
 "nbformat_minor": 5
}
